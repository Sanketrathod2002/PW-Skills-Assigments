{
  "nbformat": 4,
  "nbformat_minor": 0,
  "metadata": {
    "colab": {
      "provenance": []
    },
    "kernelspec": {
      "name": "python3",
      "display_name": "Python 3"
    },
    "language_info": {
      "name": "python"
    }
  },
  "cells": [
    {
      "cell_type": "markdown",
      "source": [
        "**Q1. What is data encoding? How is it useful in data science?**\n",
        "\n",
        "**Answer:**\n",
        "Data encoding is the process of converting categorical data into a numerical format suitable for machine learning algorithms. In data science, it is essential because many machine learning algorithms require numerical input. Encoding allows us to represent categorical variables in a way that preserves their information while enabling algorithms to process them effectively.\n",
        "\n",
        "---\n",
        "\n",
        "**Q2. What is nominal encoding? Provide an example of how you would use it in a real-world scenario.**\n",
        "\n",
        "**Answer:**\n",
        "Nominal encoding, also known as label encoding, assigns a unique numerical value to each category in a categorical variable. It is useful when the categories have no inherent order or ranking. For example, in a dataset containing car colors (\"red\", \"blue\", \"green\"), we can use nominal encoding to convert them to numerical values: \"red\" -> 0, \"blue\" -> 1, \"green\" -> 2.\n",
        "\n",
        "---\n",
        "\n",
        "**Q3. In what situations is nominal encoding preferred over one-hot encoding? Provide a practical example.**\n",
        "\n",
        "**Answer:**\n",
        "Nominal encoding is preferred over one-hot encoding when the categorical variable has a large number of unique categories or when the categories do not exhibit hierarchical relationships. For example, in a dataset containing country names, nominal encoding would be more suitable as there could be many countries, and they do not have a natural ordering.\n",
        "\n",
        "---\n",
        "\n",
        "**Q4. Suppose you have a dataset containing categorical data with 5 unique values. Which encoding technique would you use to transform this data into a format suitable for machine learning algorithms? Explain why you made this choice.**\n",
        "\n",
        "**Answer:**\n",
        "For a dataset with 5 unique values, label encoding (nominal encoding) would be suitable. Label encoding assigns a unique numerical value to each category, making it easier for algorithms to process the data. Since there are only 5 unique values, label encoding will not create a significant increase in dimensionality.\n",
        "\n",
        "---\n",
        "\n",
        "**Q5. In a machine learning project, you have a dataset with 1000 rows and 5 columns. Two of the columns are categorical, and the remaining three columns are numerical. If you were to use nominal encoding to transform the categorical data, how many new columns would be created? Show your calculations.**\n",
        "\n",
        "**Answer:**\n",
        "For nominal encoding, each categorical column will be replaced by a single numerical column. Therefore, the number of new columns created would be equal to the number of categorical columns. In this case, since there are two categorical columns, 2 new columns would be created.\n",
        "\n",
        "---\n",
        "\n",
        "**Q6. You are working with a dataset containing information about different types of animals, including their species, habitat, and diet. Which encoding technique would you use to transform the categorical data into a format suitable for machine learning algorithms? Justify your answer.**\n",
        "\n",
        "**Answer:**\n",
        "For the given scenario, where the categories in each categorical variable do not have a natural ordering, nominal encoding (label encoding) would be suitable. Species, habitat, and diet are categorical variables where the categories do not have any inherent order, making nominal encoding an appropriate choice.\n",
        "\n",
        "---\n",
        "\n",
        "**Q7. You are working on a project that involves predicting customer churn for a telecommunications company. You have a dataset with 5 features, including the customer's gender, age, contract type, monthly charges, and tenure. Which encoding technique(s) would you use to transform the categorical data into numerical data? Provide a step-by-step explanation of how you would implement the encoding.**\n",
        "\n",
        "**Answer:**\n",
        "For the given scenario:\n",
        "1. Gender: Since gender typically has only two categories (male, female), we can use nominal encoding to represent them as numerical values (e.g., male -> 0, female -> 1).\n",
        "2. Contract type: If contract type has multiple categories (e.g., month-to-month, one-year, two-year), we can again use nominal encoding to assign numerical values to each category.\n",
        "3. Age, Monthly charges, and Tenure: These are numerical features and do not require encoding.\n"
      ],
      "metadata": {
        "id": "j0aHGqyi2A7z"
      }
    },
    {
      "cell_type": "code",
      "source": [
        "from sklearn.preprocessing import LabelEncoder\n",
        "\n",
        "# Sample dataset with categorical features\n",
        "dataset = {\n",
        "    'gender': ['male', 'female', 'female', 'male', 'male'],\n",
        "    'contract_type': ['month-to-month', 'one-year', 'month-to-month', 'two-year', 'one-year']\n",
        "}\n",
        "\n",
        "# Initialize LabelEncoder\n",
        "label_encoder = LabelEncoder()\n",
        "\n",
        "# Apply label encoding to each categorical feature\n",
        "for feature in ['gender', 'contract_type']:\n",
        "    dataset[feature] = label_encoder.fit_transform(dataset[feature])\n",
        "\n",
        "# Display encoded dataset\n",
        "print(dataset)"
      ],
      "metadata": {
        "colab": {
          "base_uri": "https://localhost:8080/"
        },
        "id": "_SxVJcXM2Kz5",
        "outputId": "77cae04a-15d0-4aa7-815a-cbee126f94d7"
      },
      "execution_count": 2,
      "outputs": [
        {
          "output_type": "stream",
          "name": "stdout",
          "text": [
            "{'gender': array([1, 0, 0, 1, 1]), 'contract_type': array([0, 1, 0, 2, 1])}\n"
          ]
        }
      ]
    }
  ]
}