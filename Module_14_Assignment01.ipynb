{
  "nbformat": 4,
  "nbformat_minor": 0,
  "metadata": {
    "colab": {
      "provenance": []
    },
    "kernelspec": {
      "name": "python3",
      "display_name": "Python 3"
    },
    "language_info": {
      "name": "python"
    }
  },
  "cells": [
    {
      "cell_type": "markdown",
      "source": [
        "#**Q.1 What is a database? Differentiate between SQL and NoSQL databases:**\n",
        "\n",
        "**Ans :-**\n",
        "\n",
        "\n",
        "*   A database is an organized collection of structured information or data, typically stored electronically in a computer system. It allows for efficient retrieval, manipulation, and management of data.\n",
        "\n",
        "*   SQL (Structured Query Language) databases are relational databases that use SQL as their standard interface. They have a predefined schema and use tables to store data with rows and columns. Examples include MySQL, PostgreSQL, SQLite, Oracle, etc.\n",
        "\n",
        "\n",
        "*   NoSQL (Not Only SQL) databases are non-relational databases that provide a mechanism for storage and retrieval of data modeled in means other than the tabular relations used in relational databases. They are more flexible and scalable compared to SQL databases. Examples include MongoDB, Cassandra, Redis, Couchbase, etc.\n"
      ],
      "metadata": {
        "id": "qpvJIdasBkps"
      }
    },
    {
      "cell_type": "markdown",
      "source": [
        "#**Q.2 What is DDL? Explain why CREATE, DROP, ALTER, and TRUNCATE are used with an example:**\n",
        "\n",
        "**Ans :**\n",
        "\n",
        "\n",
        "*   DDL (Data Definition Language) is a subset of SQL used to define, alter, and drop database objects such as tables, views, indexes, etc.\n",
        "*   CREATE: Used to create a new table, view, index, etc.\n",
        "*   DROP: Used to delete an existing table, view, index, etc.\n",
        "*   ALTER: Used to modify the structure of an existing database object.\n",
        "*   TRUNCATE: Used to delete all rows from a table without removing the table structure.\n",
        "\n",
        "**Example :**\n",
        "\n",
        "CREATE TABLE Employees (\n",
        "    ID INT PRIMARY KEY,\n",
        "    Name VARCHAR(50),\n",
        "    Age INT\n",
        ");\n",
        "\n",
        "ALTER TABLE Employees ADD COLUMN Department VARCHAR(50);\n",
        "\n",
        "DROP TABLE Employees;\n",
        "\n",
        "TRUNCATE TABLE Employees;\n",
        "\n",
        "\n"
      ],
      "metadata": {
        "id": "ShRxknfUCLcb"
      }
    },
    {
      "cell_type": "markdown",
      "source": [
        "#**Q.3 What is DML? Explain INSERT, UPDATE, and DELETE with an example:**\n",
        "\n",
        "**Ans :**\n",
        "\n",
        "\n",
        "\n",
        "*   DML (Data Manipulation Language) is a subset of SQL used to manipulate data within database objects.\n",
        "*   INSERT: Used to add new records into a table.\n",
        "*   UPDATE: Used to modify existing records in a table.\n",
        "*   DELETE: Used to remove records from a table.\n",
        "\n",
        "**Example : **\n",
        "\n",
        "INSERT INTO Employees (ID, Name, Age, Department) VALUES (1, 'John', 30, 'IT');\n",
        "\n",
        "UPDATE Employees SET Age = 31 WHERE ID = 1;\n",
        "\n",
        "DELETE FROM Employees WHERE ID = 1;\n",
        "\n",
        "\n",
        "\n",
        "\n"
      ],
      "metadata": {
        "id": "5oUNTyI9DID-"
      }
    },
    {
      "cell_type": "markdown",
      "source": [
        "#**Q.4 What is DQL? Explain SELECT with an example:**\n",
        "\n",
        "**Ans :**\n",
        "\n",
        "\n",
        "*   DQL (Data Query Language) is a subset of SQL used to retrieve data from a database.\n",
        "*   SELECT: Used to retrieve data from one or more tables.\n",
        "\n",
        "**Example : **\n",
        "\n",
        "SELECT * FROM Employees;\n"
      ],
      "metadata": {
        "id": "I5L-FXyBDftG"
      }
    },
    {
      "cell_type": "markdown",
      "source": [
        "#**Q.5 Explain Primary Key and Foreign Key:**\n",
        "\n",
        "**Ans :**\n",
        "\n",
        "*   Primary Key: A primary key is a unique identifier for each record in a table. It ensures that each record in the table can be uniquely identified. Primary keys are used to enforce entity integrity and are typically implemented as indexed columns.\n",
        "*   Foreign Key: A foreign key is a field or a set of fields in one table that uniquely identifies a row of another table or the same table. It establishes a relationship between two tables and ensures referential integrity.\n",
        "\n",
        "\n"
      ],
      "metadata": {
        "id": "NFH1PozfD91Z"
      }
    },
    {
      "cell_type": "markdown",
      "source": [
        "#**Q.6 Write a Python code to connect MySQL to Python. Explain the cursor() and execute() method:**\n",
        "\n",
        "**Ans :**\n",
        "\n",
        "import mysql.connector\n",
        "\n",
        "**Establishing a connection to MySQL**\n",
        "\n",
        "connection = mysql.connector.connect(\n",
        "    host=\"localhost\",\n",
        "    user=\"username\",\n",
        "    password=\"password\",\n",
        "    database=\"database_name\"\n",
        ")\n",
        "\n",
        "** Creating a cursor object**\n",
        "\n",
        "cursor = connection.cursor()\n",
        "\n",
        "** Executing a SQL query**\n",
        "\n",
        "cursor.execute(\"SELECT * FROM table_name\")\n",
        "\n",
        "** Fetching results**\n",
        "\n",
        "results = cursor.fetchall()\n",
        "\n",
        "** Iterating through results**\n",
        "\n",
        "for row in results:\n",
        "    print(row)\n",
        "\n",
        "** Closing cursor and connection**\n",
        "\n",
        "cursor.close()\n",
        "connection.close()\n",
        "\n",
        "\n",
        "\n",
        "\n",
        "*   cursor() method: It creates a cursor object which is used to execute SQL queries against the database.\n",
        "*   execute() method: It is used to execute SQL queries. You can pass the SQL query as a parameter to this method. After executing the query, the cursor object is moved to the first row of the result set, if there is any.\n",
        "\n",
        "\n",
        "\n"
      ],
      "metadata": {
        "id": "xNata_0VERwz"
      }
    },
    {
      "cell_type": "markdown",
      "source": [
        "#**Q.7 Give the order of execution of SQL clauses in an SQL query:**\n",
        "\n",
        "**Ans :**\n",
        "\n",
        "The general order of execution of SQL clauses in a query is as follows:\n",
        "\n",
        "*   FROM: Specifies the table(s) from which data is to be retrieved.\n",
        "*   WHERE: Filters the rows that meet the specified conditions.\n",
        "*   GROUP BY: Groups the result set by one or more columns.\n",
        "*   HAVING: Filters the grouped rows that meet the specified conditions.\n",
        "*   SELECT: Retrieves the desired columns or expressions.\n",
        "*   DISTINCT: Filters out duplicate rows from the result set.\n",
        "*   ORDER BY: Sorts the result set by specified column(s).\n",
        "*   LIMIT/OFFSET: Limits the number of rows returned or skips a specified number of rows."
      ],
      "metadata": {
        "id": "Ql5_hoarEwgP"
      }
    }
  ]
}