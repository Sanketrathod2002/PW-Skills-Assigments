{
 "cells": [
  {
   "cell_type": "code",
   "execution_count": 1,
   "id": "0413f356",
   "metadata": {},
   "outputs": [
    {
     "name": "stdout",
     "output_type": "stream",
     "text": [
      "Car\n",
      "200\n",
      "100\n"
     ]
    }
   ],
   "source": [
    "'''\n",
    "Q1, Create a vehicle class with an init method having instance variables as name_of_vehicle, max_speed\n",
    "and average_of_vehicle.\n",
    "'''\n",
    "\n",
    "# Program :-\n",
    "class Vehicle:\n",
    "    def __init__(self, name_of_vehicle, max_speed, average_speed):\n",
    "        self.name_of_vehicle = name_of_vehicle\n",
    "        self.max_speed = max_speed\n",
    "        self.average_speed = average_speed\n",
    "car = Vehicle(\"Car\", 200, 100)\n",
    "print(car.name_of_vehicle)     \n",
    "print(car.max_speed)           \n",
    "print(car.average_speed)      \n"
   ]
  },
  {
   "cell_type": "code",
   "execution_count": 6,
   "id": "67ce3c2d",
   "metadata": {},
   "outputs": [
    {
     "name": "stdout",
     "output_type": "stream",
     "text": [
      "Car - Seating Capacity: 4\n"
     ]
    }
   ],
   "source": [
    "'''\n",
    "Q2. Create a child class car from the vehicle class created in Que 1, which will inherit the vehicle class.\n",
    "Create a method named seating_capacity which takes capacity as an argument and returns the name of\n",
    "the vehicle and its seating capacity.\n",
    "'''\n",
    "\n",
    "# Program :-\n",
    "class Vehicle:\n",
    "    def __init__(self, name_of_vehicle, max_speed, average_speed):\n",
    "        self.name_of_vehicle = name_of_vehicle\n",
    "        self.max_speed = max_speed\n",
    "        self.average_speed = average_speed\n",
    "\n",
    "    def seating_capacity(Vehicle):\n",
    "        return f\"{self.name_of_vehicle} - Seating Capacity: {capacity}\"\n",
    "car = Car(\"Car\", 200, 100)\n",
    "print(car.seating_capacity(4))\n"
   ]
  },
  {
   "cell_type": "code",
   "execution_count": 7,
   "id": "f9002911",
   "metadata": {},
   "outputs": [
    {
     "name": "stdout",
     "output_type": "stream",
     "text": [
      "Sparrow is eating.\n",
      "Sparrow is sleeping.\n",
      "Sparrow is flying.\n"
     ]
    }
   ],
   "source": [
    "'''\n",
    "Q3. What is multiple inheritance? Write a python code to demonstrate multiple inheritance.\n",
    "'''\n",
    "# Ans :-\n",
    "'''Multiple inheritance is a feature in object-oriented programming where a class can inherit attributes and behaviors \n",
    "from multiple parent classes. It allows a subclass to inherit from more than one superclass, thereby enabling code \n",
    "reuse and promoting modular design.'''\n",
    "\n",
    "# Program :-\n",
    "class Animal:\n",
    "    def __init__(self, name):\n",
    "        self.name = name\n",
    "\n",
    "    def eat(self):\n",
    "        print(f\"{self.name} is eating.\")\n",
    "\n",
    "    def sleep(self):\n",
    "        print(f\"{self.name} is sleeping.\")\n",
    "\n",
    "\n",
    "class Flyable:\n",
    "    def fly(self):\n",
    "        print(f\"{self.name} is flying.\")\n",
    "\n",
    "\n",
    "class Bird(Animal, Flyable):\n",
    "    def __init__(self, name):\n",
    "        super().__init__(name)\n",
    "\n",
    "\n",
    "bird = Bird(\"Sparrow\")\n",
    "bird.eat()  \n",
    "bird.sleep() \n",
    "bird.fly()   \n"
   ]
  },
  {
   "cell_type": "code",
   "execution_count": 8,
   "id": "c2e16dcd",
   "metadata": {},
   "outputs": [
    {
     "name": "stdout",
     "output_type": "stream",
     "text": [
      "Sanket\n",
      "Rathod\n"
     ]
    }
   ],
   "source": [
    "'''\n",
    "Q4. What are getter and setter in python? Create a class and create a getter and a setter method in this\n",
    "class.\n",
    "'''\n",
    "# Ans :-\n",
    "'''\n",
    "getters and setters are methods used to access and modify the values of instance variables of a class, respectively. \n",
    "They provide a way to encapsulate the access and modification of class attributes, allowing for controlled and validated \n",
    "access to the internal state of an object.\n",
    "'''\n",
    "\n",
    "# Program :-\n",
    "class Person:\n",
    "    def __init__(self, name):\n",
    "        self._name = name\n",
    "\n",
    "    def get_name(self):\n",
    "        return self._name\n",
    "\n",
    "    def set_name(self, new_name):\n",
    "        self._name = new_name\n",
    "person = Person(\"Sanket\")\n",
    "print(person.get_name())   \n",
    "\n",
    "person.set_name(\"Rathod\")\n",
    "print(person.get_name()) \n"
   ]
  },
  {
   "cell_type": "code",
   "execution_count": 9,
   "id": "85aa7e13",
   "metadata": {},
   "outputs": [
    {
     "name": "stdout",
     "output_type": "stream",
     "text": [
      "The animal makes a sound.\n",
      "Meow!\n"
     ]
    }
   ],
   "source": [
    "'''\n",
    "Q5.What is method overriding in python? Write a python code to demonstrate method overriding.\n",
    "'''\n",
    "\n",
    "# Ans :-\n",
    "'''\n",
    "Method overriding is a concept in object-oriented programming where a subclass provides its own implementation of a method \n",
    "that is already defined in its superclass. By overriding a method, the subclass can customize the behavior of the method \n",
    "while still maintaining the same method signature (name and parameters) as the superclass.\n",
    "'''\n",
    "\n",
    "# Program :-\n",
    "class Animal:\n",
    "    def sound(self):\n",
    "        print(\"The animal makes a sound.\")\n",
    "\n",
    "\n",
    "class Cat(Animal):\n",
    "    def sound(self):\n",
    "        print(\"Meow!\")\n",
    "\n",
    "\n",
    "animal = Animal()\n",
    "animal.sound()  \n",
    "\n",
    "cat = Cat()\n",
    "cat.sound()     \n"
   ]
  }
 ],
 "metadata": {
  "kernelspec": {
   "display_name": "Python 3 (ipykernel)",
   "language": "python",
   "name": "python3"
  },
  "language_info": {
   "codemirror_mode": {
    "name": "ipython",
    "version": 3
   },
   "file_extension": ".py",
   "mimetype": "text/x-python",
   "name": "python",
   "nbconvert_exporter": "python",
   "pygments_lexer": "ipython3",
   "version": "3.10.9"
  }
 },
 "nbformat": 4,
 "nbformat_minor": 5
}
