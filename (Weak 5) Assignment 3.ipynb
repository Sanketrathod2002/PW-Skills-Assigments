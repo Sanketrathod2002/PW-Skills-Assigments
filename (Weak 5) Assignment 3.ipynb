{
 "cells": [
  {
   "cell_type": "code",
   "execution_count": 21,
   "id": "e3439e49",
   "metadata": {},
   "outputs": [
    {
     "data": {
      "text/plain": [
       "\"\\n1. What is multithreading in Python? Why is it used? Name the module used to handle threads in Python.\\nMultithreading in Python:\\nMultithreading in Python refers to the concurrent execution of multiple threads (smaller units of a process) within a \\nsingle program. Each thread runs independently and shares the same resources within the process.\\n\\nWhy is it used?\\nMultithreading is used to improve the performance of applications by allowing concurrent execution of tasks. \\nIt's particularly useful for tasks that involve waiting for external events, such as I/O operations, where one thread \\ncan continue working while others are waiting.\\n\\nModule Used:\\nThe threading module is used to handle threads in Python.\\n\""
      ]
     },
     "execution_count": 21,
     "metadata": {},
     "output_type": "execute_result"
    }
   ],
   "source": [
    "'''\n",
    "1. What is multithreading in Python? Why is it used? Name the module used to handle threads in Python.\n",
    "Multithreading in Python:\n",
    "Multithreading in Python refers to the concurrent execution of multiple threads (smaller units of a process) within a \n",
    "single program. Each thread runs independently and shares the same resources within the process.\n",
    "\n",
    "Why is it used?\n",
    "Multithreading is used to improve the performance of applications by allowing concurrent execution of tasks. \n",
    "It's particularly useful for tasks that involve waiting for external events, such as I/O operations, where one thread \n",
    "can continue working while others are waiting.\n",
    "\n",
    "Module Used:\n",
    "The threading module is used to handle threads in Python.\n",
    "'''"
   ]
  },
  {
   "cell_type": "code",
   "execution_count": 25,
   "id": "a3e2b501",
   "metadata": {},
   "outputs": [
    {
     "name": "stdout",
     "output_type": "stream",
     "text": [
      "Number of active threads: 6\n",
      "Current Thread: MainThread\n",
      "All threads: [<_MainThread(MainThread, started 6404)>, <Thread(IOPub, started daemon 13012)>, <Heartbeat(Heartbeat, started daemon 13260)>, <ControlThread(Control, started daemon 17104)>, <HistorySavingThread(IPythonHistorySavingThread, started 9292)>, <ParentPollerWindows(Thread-4, started daemon 20768)>]\n"
     ]
    },
    {
     "name": "stderr",
     "output_type": "stream",
     "text": [
      "C:\\Users\\Dell\\AppData\\Local\\Temp\\ipykernel_22252\\4110523565.py:11: DeprecationWarning: activeCount() is deprecated, use active_count() instead\n",
      "  count = threading.activeCount()\n",
      "C:\\Users\\Dell\\AppData\\Local\\Temp\\ipykernel_22252\\4110523565.py:18: DeprecationWarning: currentThread() is deprecated, use current_thread() instead\n",
      "  current_thread = threading.currentThread()\n"
     ]
    }
   ],
   "source": [
    "'''\n",
    "2. Why is the threading module used? Write the use of the following functions:\n",
    "1) activeCount()\n",
    "2) currentThread()\n",
    "3) enumerate()\n",
    "'''\n",
    "\n",
    "# 1) activeCount(): Returns the number of Thread objects currently alive.\n",
    "import threading\n",
    "\n",
    "count = threading.activeCount()\n",
    "print(f\"Number of active threads: {count}\")\n",
    "\n",
    "\n",
    "\n",
    "#currentThread(): Returns the current Thread object corresponding to the caller's thread.import threading\n",
    "\n",
    "current_thread = threading.currentThread()\n",
    "print(f\"Current Thread: {current_thread.name}\")\n",
    "\n",
    "\n",
    "\n",
    "#enumerate(): Returns a list of all Thread objects currently alive.\n",
    "import threading\n",
    "\n",
    "threads = threading.enumerate()\n",
    "print(f\"All threads: {threads}\")\n"
   ]
  },
  {
   "cell_type": "code",
   "execution_count": 26,
   "id": "277a17ac",
   "metadata": {},
   "outputs": [
    {
     "data": {
      "text/plain": [
       "\"\\n3. Explain the following functions:\\n1. `run()`\\n2. `start()`\\n3. `join()`\\n4. `isAlive()`\\n\\nThread Functions:\\n1. run(): This method is overridden in a subclass to define the code executed by the thread.\\n\\n2. start(): This method starts the thread's activity by calling the `run` method.\\n\\n3. join(): This method blocks the calling thread until the thread whose `join` method is called completes its execution.\\n\\n4. isAlive(): This method returns `True` if the thread is alive (has been started and not yet terminated).\\n\""
      ]
     },
     "execution_count": 26,
     "metadata": {},
     "output_type": "execute_result"
    }
   ],
   "source": [
    "'''\n",
    "3. Explain the following functions:\n",
    "1. `run()`\n",
    "2. `start()`\n",
    "3. `join()`\n",
    "4. `isAlive()`\n",
    "\n",
    "Thread Functions:\n",
    "1. run(): This method is overridden in a subclass to define the code executed by the thread.\n",
    "\n",
    "2. start(): This method starts the thread's activity by calling the `run` method.\n",
    "\n",
    "3. join(): This method blocks the calling thread until the thread whose `join` method is called completes its execution.\n",
    "\n",
    "4. isAlive(): This method returns `True` if the thread is alive (has been started and not yet terminated).\n",
    "'''"
   ]
  },
  {
   "cell_type": "code",
   "execution_count": 27,
   "id": "2d3759e0",
   "metadata": {},
   "outputs": [
    {
     "name": "stdout",
     "output_type": "stream",
     "text": [
      "Square of 1: 1\n",
      "Square of 2: 4\n",
      "Square of 3: 9\n",
      "Square of 4: 16\n",
      "Square of 5: 25\n",
      "Cube of 1: 1\n",
      "Cube of 2: 8\n",
      "Cube of 3: 27\n",
      "Cube of 4: 64\n",
      "Cube of 5: 125\n"
     ]
    }
   ],
   "source": [
    "'''4. Write a Python program to create two threads. Thread one must print the list of squares, \n",
    "and thread two must print the list of cubes.'''\n",
    "\n",
    "# Program :\n",
    "\n",
    "import threading\n",
    "\n",
    "def print_squares():\n",
    "    for i in range(1, 6):\n",
    "        print(f\"Square of {i}: {i*i}\")\n",
    "\n",
    "def print_cubes():\n",
    "    for i in range(1, 6):\n",
    "        print(f\"Cube of {i}: {i*i*i}\")\n",
    "\n",
    "# Create threads\n",
    "thread1 = threading.Thread(target=print_squares)\n",
    "thread2 = threading.Thread(target=print_cubes)\n",
    "\n",
    "# Start threads\n",
    "thread1.start()\n",
    "thread2.start()\n",
    "\n",
    "# Wait for both threads to finish\n",
    "thread1.join()\n",
    "thread2.join()\n"
   ]
  },
  {
   "cell_type": "code",
   "execution_count": 28,
   "id": "a9fd71bd",
   "metadata": {},
   "outputs": [
    {
     "data": {
      "text/plain": [
       "'\\n5. State advantages and disadvantages of multithreading.\\nAdvantages:\\n1. Improved Performance: Multithreading can lead to better performance by allowing concurrent execution of tasks.\\n2. Responsive User Interface: Multithreading helps keep the user interface responsive, even when certain tasks are ongoing.\\n3. Resource Sharing: Threads within the same process share the same resources, making communication easier.\\n\\n\\nDisadvantages:\\n1. Complexity: Multithreading introduces complexity in terms of synchronization and coordination between threads.\\n2. Race Conditions: Without proper synchronization, race conditions can occur, leading to unpredictable behavior.\\n3. Debugging: Debugging multithreaded programs can be challenging due to non-deterministic execution.\\n'"
      ]
     },
     "execution_count": 28,
     "metadata": {},
     "output_type": "execute_result"
    }
   ],
   "source": [
    "'''\n",
    "5. State advantages and disadvantages of multithreading.\n",
    "Advantages:\n",
    "1. Improved Performance: Multithreading can lead to better performance by allowing concurrent execution of tasks.\n",
    "2. Responsive User Interface: Multithreading helps keep the user interface responsive, even when certain tasks are ongoing.\n",
    "3. Resource Sharing: Threads within the same process share the same resources, making communication easier.\n",
    "\n",
    "\n",
    "Disadvantages:\n",
    "1. Complexity: Multithreading introduces complexity in terms of synchronization and coordination between threads.\n",
    "2. Race Conditions: Without proper synchronization, race conditions can occur, leading to unpredictable behavior.\n",
    "3. Debugging: Debugging multithreaded programs can be challenging due to non-deterministic execution.\n",
    "'''"
   ]
  },
  {
   "cell_type": "code",
   "execution_count": 29,
   "id": "648b649c",
   "metadata": {},
   "outputs": [
    {
     "data": {
      "text/plain": [
       "\"\\n6. Explain deadlocks and race conditions.\\nAns :\\n\\nDeadlocks: A deadlock occurs when two or more threads are blocked forever, each waiting for the other to release a resource.\\nIt's a situation where a set of processes is blocked because each process is holding a resource and waiting for another \\nresource acquired by some other process.\\n\\nRace Conditions: A race condition occurs when two or more threads access shared data concurrently, and the final outcome \\ndepends on the timing of their execution. This can lead to unpredictable results and bugs in the program. Proper \\nsynchronization mechanisms, such as locks, are required to prevent race conditions.\\n\""
      ]
     },
     "execution_count": 29,
     "metadata": {},
     "output_type": "execute_result"
    }
   ],
   "source": [
    "'''\n",
    "6. Explain deadlocks and race conditions.\n",
    "Ans :\n",
    "\n",
    "Deadlocks: A deadlock occurs when two or more threads are blocked forever, each waiting for the other to release a resource.\n",
    "It's a situation where a set of processes is blocked because each process is holding a resource and waiting for another \n",
    "resource acquired by some other process.\n",
    "\n",
    "Race Conditions: A race condition occurs when two or more threads access shared data concurrently, and the final outcome \n",
    "depends on the timing of their execution. This can lead to unpredictable results and bugs in the program. Proper \n",
    "synchronization mechanisms, such as locks, are required to prevent race conditions.\n",
    "'''"
   ]
  },
  {
   "cell_type": "code",
   "execution_count": null,
   "id": "b7e49e9d",
   "metadata": {},
   "outputs": [],
   "source": []
  }
 ],
 "metadata": {
  "kernelspec": {
   "display_name": "Python 3 (ipykernel)",
   "language": "python",
   "name": "python3"
  },
  "language_info": {
   "codemirror_mode": {
    "name": "ipython",
    "version": 3
   },
   "file_extension": ".py",
   "mimetype": "text/x-python",
   "name": "python",
   "nbconvert_exporter": "python",
   "pygments_lexer": "ipython3",
   "version": "3.10.9"
  }
 },
 "nbformat": 4,
 "nbformat_minor": 5
}
