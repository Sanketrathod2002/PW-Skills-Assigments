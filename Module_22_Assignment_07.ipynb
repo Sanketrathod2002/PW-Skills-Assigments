{
  "nbformat": 4,
  "nbformat_minor": 0,
  "metadata": {
    "colab": {
      "provenance": []
    },
    "kernelspec": {
      "name": "python3",
      "display_name": "Python 3"
    },
    "language_info": {
      "name": "python"
    }
  },
  "cells": [
    {
      "cell_type": "markdown",
      "source": [
        "**Q1. Pearson correlation coefficient is a measure of the linear relationship between two variables. Suppose you have collected data on the amount of time students spend studying for an exam and their final exam scores. Calculate the Pearson correlation coefficient between these two variables and interpret the result.**"
      ],
      "metadata": {
        "id": "WLU6rxL642K0"
      }
    },
    {
      "cell_type": "code",
      "source": [
        "import numpy as np\n",
        "\n",
        "study_time = [4, 6, 5, 7, 3, 6, 5, 8, 7, 6]\n",
        "exam_scores = [70, 85, 75, 90, 65, 80, 75, 92, 88, 82]\n",
        "\n",
        "pearson_corr = np.corrcoef(study_time, exam_scores)[0, 1]\n",
        "\n",
        "print(\"Pearson correlation coefficient:\", pearson_corr)"
      ],
      "metadata": {
        "colab": {
          "base_uri": "https://localhost:8080/",
          "height": 0
        },
        "id": "m5aXgO2545Hr",
        "outputId": "c9fa36e9-fae5-4f39-ba7e-507f7741aa9c"
      },
      "execution_count": 2,
      "outputs": [
        {
          "output_type": "stream",
          "name": "stdout",
          "text": [
            "Pearson correlation coefficient: 0.983311964112205\n"
          ]
        }
      ]
    },
    {
      "cell_type": "markdown",
      "source": [
        "---\n",
        "**Q2. Spearman's rank correlation is a measure of the monotonic relationship between two variables. Suppose you have collected data on the amount of sleep individuals get each night and their overall job satisfaction level on a scale of 1 to 10. Calculate the Spearman's rank correlation between these two variables and interpret the result.**"
      ],
      "metadata": {
        "id": "1C9GgL_Y45qA"
      }
    },
    {
      "cell_type": "code",
      "source": [
        "from scipy.stats import spearmanr\n",
        "\n",
        "\n",
        "sleep_hours = [7, 6, 8, 5, 7, 8, 6, 5, 9, 6]\n",
        "job_satisfaction = [8, 6, 9, 5, 7, 8, 6, 4, 9, 7]\n",
        "\n",
        "spearman_corr, _ = spearmanr(sleep_hours, job_satisfaction)\n",
        "\n",
        "print(\"Spearman's rank correlation:\", spearman_corr)"
      ],
      "metadata": {
        "colab": {
          "base_uri": "https://localhost:8080/",
          "height": 0
        },
        "id": "KzxtMXui498l",
        "outputId": "b798d591-7c7b-4620-d430-9905ed75c7ac"
      },
      "execution_count": 3,
      "outputs": [
        {
          "output_type": "stream",
          "name": "stdout",
          "text": [
            "Spearman's rank correlation: 0.9530202011156796\n"
          ]
        }
      ]
    },
    {
      "cell_type": "markdown",
      "source": [
        "---\n",
        "**Q3. Suppose you are conducting a study to examine the relationship between the number of hours of exercise per week and body mass index (BMI) in a sample of adults. You collected data on both variables for 50 participants. Calculate the Pearson correlation coefficient and the Spearman's rank correlation between these two variables and compare the results.**"
      ],
      "metadata": {
        "id": "YQDMPc1X4__H"
      }
    },
    {
      "cell_type": "code",
      "source": [
        "from scipy.stats import pearsonr, spearmanr\n",
        "import numpy as np\n",
        "\n",
        "exercise_hours = np.random.randint(1, 10, size=50)\n",
        "bmi = np.random.uniform(18.5, 30, size=50)\n",
        "\n",
        "pearson_corr, _ = pearsonr(exercise_hours, bmi)\n",
        "\n",
        "spearman_corr, _ = spearmanr(exercise_hours, bmi)\n",
        "\n",
        "print(\"Pearson correlation coefficient:\", pearson_corr)\n",
        "print(\"Spearman's rank correlation coefficient:\", spearman_corr)\n"
      ],
      "metadata": {
        "colab": {
          "base_uri": "https://localhost:8080/",
          "height": 0
        },
        "id": "jSePdQ6H5C3T",
        "outputId": "2c16b082-0018-48bf-c70c-1d44740346f4"
      },
      "execution_count": 11,
      "outputs": [
        {
          "output_type": "stream",
          "name": "stdout",
          "text": [
            "Pearson correlation coefficient: -0.1710309260953759\n",
            "Spearman's rank correlation coefficient: -0.14048480287632073\n"
          ]
        }
      ]
    },
    {
      "cell_type": "markdown",
      "source": [
        "---\n",
        "**Q4. A researcher is interested in examining the relationship between the number of hours individuals spend watching television per day and their level of physical activity. The researcher collected data on both variables from a sample of 50 participants. Calculate the Pearson correlation coefficient between these two variables.**"
      ],
      "metadata": {
        "id": "mkXatk6C5Fbz"
      }
    },
    {
      "cell_type": "code",
      "source": [
        "from scipy.stats import pearsonr\n",
        "\n",
        "tv_hours = [3, 4, 2, 5, 1, 2, 4, 6, 3, 5, 2, 4, 3, 1, 5, 4, 2, 3, 4, 5,\n",
        "            2, 3, 4, 5, 2, 3, 4, 1, 6, 5, 3, 4, 2, 5, 6, 1, 3, 4, 2, 5,\n",
        "            4, 3, 1, 2, 3, 4, 5, 6, 3]\n",
        "\n",
        "physical_activity = [5, 6, 4, 7, 3, 4, 6, 8, 5, 7, 4, 6, 5, 3, 7, 6, 4, 5, 6, 7,\n",
        "                     4, 5, 6, 7, 4, 5, 6, 3, 8, 7, 5, 6, 4, 7, 8, 3, 5, 6, 4, 7,\n",
        "                     6, 5, 3, 4, 5, 6, 7, 8, 5]\n",
        "\n",
        "\n",
        "pearson_corr, _ = pearsonr(tv_hours, physical_activity)\n",
        "\n",
        "print(\"Pearson correlation coefficient:\", pearson_corr)\n"
      ],
      "metadata": {
        "colab": {
          "base_uri": "https://localhost:8080/",
          "height": 0
        },
        "id": "bVJEUn6z5I3u",
        "outputId": "c01303da-f57c-4953-c40f-19a1ac2e1b42"
      },
      "execution_count": 10,
      "outputs": [
        {
          "output_type": "stream",
          "name": "stdout",
          "text": [
            "Pearson correlation coefficient: 1.0\n"
          ]
        }
      ]
    },
    {
      "cell_type": "markdown",
      "source": [
        "---\n",
        "**Q5. A survey was conducted to examine the relationship between age and preference for a particular brand of soft drink. The survey results are shown below:**"
      ],
      "metadata": {
        "id": "s04QOFb-5MPO"
      }
    },
    {
      "cell_type": "code",
      "source": [
        "import pandas as pd\n",
        "import matplotlib.pyplot as plt\n",
        "\n",
        "data = {\n",
        "    'Age (Years)': [25, 42, 37, 19, 31, 28],\n",
        "    'Soft Drink': ['Coke', 'Pepsi', 'Mountain Dew', 'Coke', 'Pepsi', 'Coke']\n",
        "}\n",
        "df = pd.DataFrame(data)\n",
        "\n",
        "drink_counts = df['Soft Drink'].value_counts()\n",
        "\n",
        "plt.bar(drink_counts.index, drink_counts.values)\n",
        "plt.title('Soft Drink Preference Distribution')\n",
        "plt.xlabel('Soft Drink')\n",
        "plt.ylabel('Count')\n",
        "plt.show()\n"
      ],
      "metadata": {
        "colab": {
          "base_uri": "https://localhost:8080/",
          "height": 472
        },
        "id": "tX3Kb3-M5QQP",
        "outputId": "07450e22-9a9a-41ff-f0c7-2675e78c695d"
      },
      "execution_count": 7,
      "outputs": [
        {
          "output_type": "display_data",
          "data": {
            "text/plain": [
              "<Figure size 640x480 with 1 Axes>"
            ],
            "image/png": "[encoded data removed]"
          },
          "metadata": {}
        }
      ]
    },
    {
      "cell_type": "markdown",
      "source": [
        "---\n",
        "**Q6. A company is interested in examining the relationship between the number of sales calls made per day and the number of sales made per week. The company collected data on both variables from a sample of 30 sales representatives. Calculate the Pearson correlation coefficient between these two variables.**"
      ],
      "metadata": {
        "id": "ZwX1Iicv5Tf7"
      }
    },
    {
      "cell_type": "code",
      "source": [
        "from scipy.stats import pearsonr\n",
        "sales_calls_per_day = [10, 12, 9, 11, 8, 13, 10, 14, 12, 11, 9, 10, 11, 13, 8, 12, 9, 10, 11, 14,\n",
        "                       12, 10, 11, 9, 13, 12, 10, 8, 11, 12]\n",
        "\n",
        "sales_per_week = [20, 24, 18, 22, 16, 26, 20, 28, 24, 22, 18, 20, 22, 26, 16, 24, 18, 20, 22, 28,\n",
        "                  24, 20, 22, 18, 26, 24, 20, 16, 22, 24]\n",
        "\n",
        "pearson_corr, _ = pearsonr(sales_calls_per_day, sales_per_week)\n",
        "\n",
        "print(\"Pearson correlation coefficient:\", pearson_corr)\n"
      ],
      "metadata": {
        "colab": {
          "base_uri": "https://localhost:8080/",
          "height": 0
        },
        "id": "P-Gewv9j5YnH",
        "outputId": "633ff279-81d3-4e86-bf09-b4a31c438e34"
      },
      "execution_count": 9,
      "outputs": [
        {
          "output_type": "stream",
          "name": "stdout",
          "text": [
            "Pearson correlation coefficient: 1.0\n"
          ]
        }
      ]
    }
  ]
}