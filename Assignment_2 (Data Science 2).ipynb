{
 "cells": [
  {
   "cell_type": "code",
   "execution_count": null,
   "id": "811f0254-157b-433d-bc5e-40e5e47f7d6c",
   "metadata": {},
   "outputs": [],
   "source": [
    "Q1. How do you comment code in Python? What are the different types of comments?\n",
    "Ans :-\n",
    "In Python, you can comment code using the \"#\" symbol. Anything following the \"#\" on a line is considered a comment and is\n",
    "ignored by the Python interpreter. There are two types of comments in Python:\n",
    "\n",
    "1. Single-line comments: These comments are used to explain code on a single line. \n",
    "   They start with \"#\" and continue until the end of the line.\n",
    "\n",
    "    Example : # This is a single-line comment\n",
    "\n",
    "2. Multi-line comments: These comments span multiple lines and are enclosed between triple quotes (''' or \"\"\").\n",
    "    \n",
    "    Example :\n",
    "    \"\"\"\n",
    "    This is a multi-line comment.\n",
    "    It can span across multiple lines.\n",
    "    \"\"\"\n"
   ]
  },
  {
   "cell_type": "code",
   "execution_count": null,
   "id": "f522bb40-41b8-4908-b767-2247885a8e53",
   "metadata": {},
   "outputs": [],
   "source": [
    "Q2. What are variables in Python? How do you declare and assign values to variables?\n",
    "Ans :-\n",
    "Variables in Python are used to store data values. You can declare a variable in Python by assigning a value to it using \n",
    "the \"=\" operator. Python is dynamically typed, so you don't need to specify the type of the variable explicitly.\n",
    "\n",
    "Example : count = 10\n"
   ]
  },
  {
   "cell_type": "code",
   "execution_count": null,
   "id": "795d6876-e1ff-476d-9687-bbbe49c90f23",
   "metadata": {},
   "outputs": [],
   "source": [
    "\n",
    "Q3. How do you convert one data type to another in Python?\n",
    "Ans :- \n",
    "In Python, you can convert one data type to another using type conversion functions or constructors. \n",
    "Here are some commonly used type conversion functions:\n",
    "int(): Converts a value to an integer.\n",
    "float(): Converts a value to a floating-point number.\n",
    "str(): Converts a value to a string.\n",
    "list(): Converts a value to a list.\n",
    "tuple(): Converts a value to a tuple.\n",
    "bool(): Converts a value to a boolean.\n",
    "\n",
    "Example:\n",
    "# Converting a string to an integer\n",
    "num_str = \"10\"\n",
    "num_int = int(num_str)\n",
    "print(num_int)  # Output: 10\n",
    "\n",
    "# Converting a float to an integer\n",
    "num_float = 3.14\n",
    "num_int = int(num_float)\n",
    "print(num_int)  # Output: 3\n"
   ]
  },
  {
   "cell_type": "code",
   "execution_count": null,
   "id": "5f25cec8-1f80-48aa-8455-a7ff759b4aad",
   "metadata": {},
   "outputs": [],
   "source": [
    "Q4. How do you write and execute a Python script from the command line?\n",
    "Ans :- \n",
    "To write and execute a Python script from the command line, follow these steps:\n",
    "1.\tOpen a text editor and write your Python code.\n",
    "2.\tSave the file with a \".py\" extension, for example, \"script.py\".\n",
    "3.\tOpen a command prompt or terminal.\n",
    "4.\tNavigate to the directory where the Python script is saved using the cd command.\n",
    "5.\tRun the script using the command python script.py (replace \"script.py\" with the actual filename).\n"
   ]
  },
  {
   "cell_type": "code",
   "execution_count": null,
   "id": "8c80c28f-ee54-4e2c-9fee-29795227b881",
   "metadata": {},
   "outputs": [],
   "source": [
    "Q5. Given a list my_list = [1, 2, 3, 4, 5], write the code to slice the list and obtain the sub-list [2, 3].\n",
    "Ans :-\n",
    "To slice the list [1, 2, 3, 4, 5] and obtain the sub-list [2, 3], you can use the following code:\n",
    "\n",
    "Program :\n",
    "my_list = [1, 2, 3, 4, 5]\n",
    "sub_list = my_list[1:3]\n",
    "print(sub_list)  # Output: [2, 3]\n"
   ]
  },
  {
   "cell_type": "code",
   "execution_count": null,
   "id": "414cd1f7-87a4-45c9-98f5-09c3f58fd9a5",
   "metadata": {},
   "outputs": [],
   "source": [
    "Q6. What is a complex number in mathematics, and how is it represented in Python?\n",
    "Ans :-\n",
    "In mathematics, a complex number is a number of the form a + bi, where a and b are real numbers, and i is the imaginary \n",
    "unit (√-1). In Python, complex numbers are represented using the complex data type.\n",
    "\n",
    "Example:\n",
    "# Creating a complex number\n",
    "z = 3 + 4j\n",
    "print(z)  # Output: (3+4j)\n",
    "# Accessing the real and imaginary parts\n",
    "print(z.real)  # Output: 3.0\n",
    "print(z.imag)  # Output: 4.0\n"
   ]
  },
  {
   "cell_type": "code",
   "execution_count": null,
   "id": "6ae89f10-af04-47e2-a390-be3180cd102c",
   "metadata": {},
   "outputs": [],
   "source": [
    "Q7. What is the correct way to declare a variable named age and assign the value 25 to it?\n",
    "Ans :-\n",
    "The correct way to declare a variable named \"age\" and assign the value 25 to it in Python is as follows:\n",
    "age = 25\n"
   ]
  },
  {
   "cell_type": "code",
   "execution_count": null,
   "id": "c438cd48-d3b1-44ae-9100-591604d3a5af",
   "metadata": {},
   "outputs": [],
   "source": [
    "Q8. Declare a variable named price and assign the value 9.99 to it. What data type does this variable belong to?\n",
    "Ans :-\n",
    "Declare a variable named price and assign the value 9.99 to it.\n",
    "Program :\n",
    "price = 9.99\n",
    "print(\"The data type of 'price' is:\", type(price)) \n",
    "\n",
    "# Output : The data type of 'price' is: <class 'float'>"
   ]
  },
  {
   "cell_type": "code",
   "execution_count": null,
   "id": "f105369a-047a-4f1e-b85f-23e41e4f64de",
   "metadata": {},
   "outputs": [],
   "source": [
    "Q9. Create a variable named name and assign your full name to it as a string. How would you print the value of this \n",
    "variable?\n",
    "Ans :-\n",
    "\n",
    "Program :\n",
    "name = \"Sanket Rathod\"\n",
    "print(\"My name is :\", name)\n",
    "\n",
    "# Output : My name is : Sanket Rathod\n"
   ]
  },
  {
   "cell_type": "code",
   "execution_count": null,
   "id": "7fa37a3e-bfb5-47e6-986b-cd97f7f0ef1b",
   "metadata": {},
   "outputs": [],
   "source": [
    "Q10. Given the string \"Hello, World!\", extract the substring \"World\".\n",
    "Ans :-\n",
    "Program :\n",
    "text = \"Hello, World!\"\n",
    "substring = text[7:12]\n",
    "print(\"The extracted substring is:\", substring)\n",
    "\n",
    "# Output : The extracted substring is: World"
   ]
  },
  {
   "cell_type": "code",
   "execution_count": null,
   "id": "3419740c-c231-4ab5-b01d-adf8f245a121",
   "metadata": {},
   "outputs": [],
   "source": [
    "Q11. Create a variable named \"is_student\" and assign it a boolean value indicating whether you are currently a student or\n",
    "not.\n",
    "Ans :\n",
    "Program :\n",
    "is_student = True\n",
    "print(\"I am currently student : \", is_student)\n",
    "\n",
    "# Output : I am currently student : True\n",
    "\n"
   ]
  }
 ],
 "metadata": {
  "kernelspec": {
   "display_name": "Python 3 (ipykernel)",
   "language": "python",
   "name": "python3"
  },
  "language_info": {
   "codemirror_mode": {
    "name": "ipython",
    "version": 3
   },
   "file_extension": ".py",
   "mimetype": "text/x-python",
   "name": "python",
   "nbconvert_exporter": "python",
   "pygments_lexer": "ipython3",
   "version": "3.10.8"
  }
 },
 "nbformat": 4,
 "nbformat_minor": 5
}
