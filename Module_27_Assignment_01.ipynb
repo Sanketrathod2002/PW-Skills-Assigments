{
  "nbformat": 4,
  "nbformat_minor": 0,
  "metadata": {
    "colab": {
      "provenance": []
    },
    "kernelspec": {
      "name": "python3",
      "display_name": "Python 3"
    },
    "language_info": {
      "name": "python"
    }
  },
  "cells": [
    {
      "cell_type": "markdown",
      "source": [
        "**Q1. What is Bayes' theorem?**\n",
        "\n",
        "**Answer:** Bayes' theorem, named after Reverend Thomas Bayes, is a fundamental concept in probability theory and statistics. It describes the probability of an event, based on prior knowledge of conditions that might be related to the event. In simpler terms, it allows us to update our beliefs about the likelihood of an event occurring, given new evidence.\n",
        "\n",
        "---\n",
        "\n",
        "**Q2. What is the formula for Bayes' theorem?**\n",
        "\n",
        "**Answer:** Bayes' theorem can be mathematically expressed as:\n",
        "\n",
        "\\[ P(A|B) = \\frac{P(B|A) \\times P(A)}{P(B)} \\]\n",
        "\n",
        "Where:\n",
        "- \\( P(A|B) \\) is the posterior probability of event A given event B.\n",
        "- \\( P(B|A) \\) is the likelihood of event B given event A.\n",
        "- \\( P(A) \\) is the prior probability of event A.\n",
        "- \\( P(B) \\) is the prior probability of event B.\n",
        "\n",
        "---\n",
        "\n",
        "**Q3. How is Bayes' theorem used in practice?**\n",
        "\n",
        "**Answer:** Bayes' theorem is used in various fields such as machine learning, statistics, and medical diagnosis. In practice, it is applied in tasks such as spam filtering, document classification, medical testing, and predictive modeling.\n",
        "\n",
        "---\n",
        "\n",
        "**Q4. What is the relationship between Bayes' theorem and conditional probability?**\n",
        "\n",
        "**Answer:** Bayes' theorem provides a way to calculate conditional probabilities. It relates the conditional probability of an event occurring given another event to the conditional probability of the latter event occurring given the former event.\n",
        "\n",
        "---\n",
        "\n",
        "**Q5. How do you choose which type of Naive Bayes classifier to use for any given problem?**\n",
        "\n",
        "**Answer:** The choice of Naive Bayes classifier (Gaussian, Multinomial, or Bernoulli) depends on the nature of the data and the assumptions about the distribution of features.\n",
        "   - Gaussian Naive Bayes: Suitable for continuous features with a Gaussian (normal) distribution.\n",
        "   - Multinomial Naive Bayes: Suitable for features representing counts or frequencies, often used in text classification tasks.\n",
        "   - Bernoulli Naive Bayes: Suitable for binary features, where each feature represents a binary value (0 or 1).\n",
        "\n",
        "---\n",
        "\n",
        "**Q6. Assignment:**\n"
      ],
      "metadata": {
        "id": "SODEakxlNtVo"
      }
    },
    {
      "cell_type": "code",
      "source": [
        "class_freq = {\n",
        "    'A': {'X1=1': 3, 'X1=2': 3, 'X1=3': 4, 'X2=1': 4, 'X2=2': 3, 'X2=3': 3, 'X2=4': 3},\n",
        "    'B': {'X1=1': 2, 'X1=2': 2, 'X1=3': 1, 'X2=1': 2, 'X2=2': 2, 'X2=3': 2, 'X2=4': 3}\n",
        "}\n",
        "\n",
        "new_instance = {'X1': 3, 'X2': 4}\n",
        "\n",
        "likelihoods = {}\n",
        "for class_name, freqs in class_freq.items():\n",
        "    likelihood = 1\n",
        "    for feature, value in new_instance.items():\n",
        "        likelihood *= freqs.get(f'{feature}={value}', 0) / sum(freqs.values())\n",
        "    likelihoods[class_name] = likelihood\n",
        "\n",
        "prior_prob = {'A': 0.5, 'B': 0.5}\n",
        "\n",
        "posteriors = {}\n",
        "for class_name, likelihood in likelihoods.items():\n",
        "    posterior = likelihood * prior_prob[class_name]\n",
        "    posteriors[class_name] = posterior\n",
        "\n",
        "total_posterior = sum(posteriors.values())\n",
        "normalized_posteriors = {class_name: posterior / total_posterior for class_name, posterior in posteriors.items()}\n",
        "\n",
        "predicted_class = max(normalized_posteriors, key=normalized_posteriors.get)\n",
        "\n",
        "print(\"Predicted Class:\", predicted_class)\n"
      ],
      "metadata": {
        "colab": {
          "base_uri": "https://localhost:8080/"
        },
        "id": "q54LJTiEN_s7",
        "outputId": "e09b3898-1aaf-43e8-d811-54524d2dcb85"
      },
      "execution_count": 1,
      "outputs": [
        {
          "output_type": "stream",
          "name": "stdout",
          "text": [
            "Predicted Class: A\n"
          ]
        }
      ]
    }
  ]
}