{
  "nbformat": 4,
  "nbformat_minor": 0,
  "metadata": {
    "colab": {
      "provenance": []
    },
    "kernelspec": {
      "name": "python3",
      "display_name": "Python 3"
    },
    "language_info": {
      "name": "python"
    }
  },
  "cells": [
    {
      "cell_type": "markdown",
      "source": [
        "---\n",
        "#**Q1. What are the three measures of central tendency?**\n",
        "\n",
        "The three measures of central tendency are:\n",
        "1. Mean\n",
        "2. Median\n",
        "3. Mode\n",
        "\n",
        "---\n",
        "#**Q2. What is the difference between the mean, median, and mode? How are they used to measure the central tendency of a dataset?**\n",
        "\n",
        "- Mean: The arithmetic average of a dataset, calculated by summing all values and dividing by the number of values.\n",
        "- Median: The middle value of a dataset when arranged in ascending order. It divides the dataset into two equal parts.\n",
        "- Mode: The value that appears most frequently in a dataset.\n",
        "\n",
        "These measures are used to summarize the central or typical value of a dataset.\n",
        "\n",
        "\n"
      ],
      "metadata": {
        "id": "m_pY0gODkjD8"
      }
    },
    {
      "cell_type": "markdown",
      "source": [
        "---\n",
        "#**Q3. Measure the three measures of central tendency for the given height data:**\n",
        "\n",
        "[178,177,176,177,178.2,178,175,179,180,175,178.9,176.2,177,172.5,178,176.5]"
      ],
      "metadata": {
        "id": "8F-VAxcKl5oF"
      }
    },
    {
      "cell_type": "code",
      "source": [
        "height_data = [178, 177, 176, 177, 178.2, 178, 175, 179, 180, 175, 178.9, 176.2, 177, 172.5, 178, 176.5]\n",
        "\n",
        "mean_height = sum(height_data) / len(height_data)\n",
        "\n",
        "sorted_height = sorted(height_data)\n",
        "n = len(sorted_height)\n",
        "if n % 2 == 0:\n",
        "    median_height = (sorted_height[n // 2 - 1] + sorted_height[n // 2]) / 2\n",
        "else:\n",
        "    median_height = sorted_height[n // 2]\n",
        "\n",
        "height_counts = {}\n",
        "for height in height_data:\n",
        "    if height in height_counts:\n",
        "        height_counts[height] += 1\n",
        "    else:\n",
        "        height_counts[height] = 1\n",
        "\n",
        "mode_height = max(height_counts, key=height_counts.get)\n",
        "\n",
        "print(\"Mean height:\", mean_height)\n",
        "print(\"Median height:\", median_height)\n",
        "print(\"Mode height:\", mode_height)\n",
        "\n"
      ],
      "metadata": {
        "colab": {
          "base_uri": "https://localhost:8080/"
        },
        "id": "FLcUcK6Rl-iN",
        "outputId": "6bbbb3b3-a93c-42f4-b217-21de0c4b4a3b"
      },
      "execution_count": 8,
      "outputs": [
        {
          "output_type": "stream",
          "name": "stdout",
          "text": [
            "Mean height: 177.01875\n",
            "Median height: 177.0\n",
            "Mode height: 178\n"
          ]
        }
      ]
    },
    {
      "cell_type": "markdown",
      "source": [
        "---\n",
        "#**Q4. Find the standard deviation for the given data:**\n",
        "\n",
        "[178,177,176,177,178.2,178,175,179,180,175,178.9,176.2,177,172.5,178,176.5]"
      ],
      "metadata": {
        "id": "eeshCkdAlkDn"
      }
    },
    {
      "cell_type": "code",
      "source": [
        "import numpy as np\n",
        "\n",
        "# Given data\n",
        "data = [178, 177, 176, 177, 178.2, 178, 175, 179, 180, 175, 178.9, 176.2, 177, 172.5, 178, 176.5]\n",
        "\n",
        "# Step 1: Calculate the mean\n",
        "mean = np.mean(data)\n",
        "\n",
        "# Step 2: Calculate the squared difference between each data point and the mean\n",
        "squared_diff = [(x - mean) ** 2 for x in data]\n",
        "\n",
        "# Step 3: Calculate the mean of these squared differences\n",
        "mean_squared_diff = np.mean(squared_diff)\n",
        "\n",
        "# Step 4: Take the square root of the result obtained in step 3 to get the standard deviation\n",
        "standard_deviation = np.sqrt(mean_squared_diff)\n",
        "\n",
        "print(\"Standard deviation:\", standard_deviation)\n"
      ],
      "metadata": {
        "colab": {
          "base_uri": "https://localhost:8080/"
        },
        "id": "lcG5bQmNlkiC",
        "outputId": "92daa8b0-1aee-4367-b5bd-30fdb9ca7d5b"
      },
      "execution_count": 1,
      "outputs": [
        {
          "output_type": "stream",
          "name": "stdout",
          "text": [
            "Standard deviation: 1.7885814036548633\n"
          ]
        }
      ]
    },
    {
      "cell_type": "markdown",
      "source": [
        "#**Q5. How are measures of dispersion such as range, variance, and standard deviation used to describe the spread of a dataset? Provide an example.**\n",
        "\n",
        "Measures of dispersion quantify the variability or spread of data points around the central tendency. For example, range gives the difference between the maximum and minimum values, variance measures the average squared deviation from the mean, and standard deviation measures the average deviation from the mean.\n",
        "\n",
        "---\n",
        "#**Q6. What is a Venn diagram?**\n",
        "\n",
        "A Venn diagram is a graphical representation used to show the relationships between different sets or groups. It consists of overlapping circles or other shapes, with each circle representing a set and the overlapping portions representing the intersections between the sets.\n",
        "\n",
        "---\n",
        "#**Q7. For the two given sets A = {2, 3, 4, 5, 6, 7} & B = {0, 2, 6, 8, 10}, find:**\n",
        "(i) A ∩ B (Intersection of sets A and B)\n",
        "(ii) A ∪ B (Union of sets A and B)\n",
        "\n",
        "(i) A ∩ B = {2, 6}\n",
        "(ii) A ∪ B = {0, 2, 3, 4, 5, 6, 7, 8, 10}\n",
        "\n",
        "---\n",
        "#**Q8. What do you understand about skewness in data?**\n",
        "\n",
        "Skewness in data refers to the lack of symmetry in the distribution of data points around the mean. It indicates whether the data is skewed towards the left (negative skewness) or towards the right (positive skewness) relative to the mean.\n",
        "\n",
        "---\n",
        "#**Q9. If a data is right skewed then what will be the position of median with respect to mean?**\n",
        "\n",
        "If the data is right-skewed, the median will be less than the mean.\n",
        "\n",
        "---\n",
        "#**Q10. Explain the difference between covariance and correlation. How are these measures used in statistical analysis?**\n",
        "\n",
        "- Covariance measures the degree to which two variables change together. It can be positive (variables move in the same direction), negative (variables move in opposite directions), or zero (variables are independent).\n",
        "- Correlation measures the strength and direction of the linear relationship between two variables. It's a standardized measure, ranging from -1 to 1, where -1 indicates a perfect negative correlation, 1 indicates a perfect positive correlation, and 0 indicates no correlation.\n",
        "\n",
        "Covariance and correlation are used to understand the relationship between variables in statistical analysis. Covariance is not standardized and depends on the units of the variables, while correlation is standardized and allows comparison across different datasets.\n",
        "\n",
        "---\n",
        "#**Q11. What is the formula for calculating the sample mean? Provide an example calculation for a dataset.**\n",
        "\n",
        "The formula for calculating the sample mean is:\n",
        "\\[ \\bar{x} = \\frac{1}{n} \\sum_{i=1}^{n} x_i \\]\n",
        "\n",
        "Example calculation:\n",
        "For a dataset: [5, 6, 7, 8, 9], the sample mean is calculated as:\n",
        "\\[ \\bar{x} = \\frac{5 + 6 + 7 + 8 + 9}{5} = \\frac{35}{5} = 7 \\]\n",
        "\n",
        "---\n",
        "#**Q12. For a normal distribution data what is the relationship between its measure of central tendency?**\n",
        "\n",
        "For a normal distribution:\n",
        "- The mean, median, and mode are all equal and located at the center of the distribution.\n",
        "- They are symmetrically distributed around this central point.\n",
        "\n",
        "---\n",
        "#**Q13. How is covariance different from correlation?**\n",
        "\n",
        "Covariance measures the degree to which two variables change together, whereas correlation measures the strength and direction of the linear relationship between two variables. Covariance is not standardized and depends on the units of the variables, while correlation is standardized and ranges from -1 to 1.\n",
        "\n",
        "---\n",
        "#**Q14. How do outliers affect measures of central tendency and dispersion? Provide an example.**\n",
        "\n",
        "Outliers can significantly affect measures of central tendency, such as the mean, pulling them towards the outlier. However, measures like the median and mode are less affected by outliers. Similarly, outliers can increase the variability of the data, affecting measures of dispersion such as range, variance, and standard deviation.\n",
        "\n",
        "Example: Consider a dataset of incomes where most individuals earn between $30,000 and $70,000 per year, but one individual earns $1,000,000 per year. The mean income would be heavily influenced by this outlier, resulting in a higher mean than the typical income. Additionally, the standard deviation would increase due to the presence of the outlier, indicating greater variability in the dataset.\n"
      ],
      "metadata": {
        "id": "Y7MVl-3omZCq"
      }
    }
  ]
}