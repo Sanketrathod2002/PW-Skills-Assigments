{
  "nbformat": 4,
  "nbformat_minor": 0,
  "metadata": {
    "colab": {
      "provenance": []
    },
    "kernelspec": {
      "name": "python3",
      "display_name": "Python 3"
    },
    "language_info": {
      "name": "python"
    }
  },
  "cells": [
    {
      "cell_type": "markdown",
      "source": [
        "**Q1. How does bagging reduce overfitting in decision trees?**\n",
        "\n",
        "Bagging (Bootstrap Aggregating) reduces overfitting in decision trees by training multiple trees on different bootstrap samples of the training data. Each tree is built independently, leading to variations in the trees. When predictions are combined (e.g., averaging for regression or voting for classification), these variations help in reducing the overall variance of the model. Additionally, since each tree is trained on a subset of the data, it's less likely to memorize noise in the training data, thus reducing overfitting.\n",
        "\n",
        "---\n",
        "\n",
        "**Q2. What are the advantages and disadvantages of using different types of base learners in bagging?**\n",
        "\n",
        "**Advantages:**\n",
        "- Using diverse base learners can lead to better generalization and predictive performance.\n",
        "- Different base learners capture different aspects of the data, potentially improving the robustness of the ensemble.\n",
        "\n",
        "**Disadvantages:**\n",
        "- Combining different types of base learners might increase the complexity of the model and computational overhead.\n",
        "- It might be challenging to interpret the ensemble model when using diverse base learners.\n",
        "\n",
        "---\n",
        "\n",
        "**Q3. How does the choice of base learner affect the bias-variance tradeoff in bagging?**\n",
        "\n",
        "The choice of base learner affects the bias-variance tradeoff in bagging. When using high-variance base learners (e.g., decision trees with large depth), bagging can effectively reduce variance, leading to a reduction in overfitting. However, if the base learners have high bias (e.g., weak classifiers), bagging might not significantly reduce bias but can still reduce variance. Generally, bagging tends to decrease variance more than bias.\n",
        "\n",
        "---\n",
        "\n",
        "**Q4. Can bagging be used for both classification and regression tasks? How does it differ in each case?**\n",
        "\n",
        "Yes, bagging can be used for both classification and regression tasks. In classification tasks, bagging combines predictions by majority voting among the base learners. In regression tasks, bagging combines predictions by averaging the outputs of the base learners. The primary difference lies in how predictions are aggregated, but the fundamental mechanism of bagging remains the same for both tasks.\n",
        "\n",
        "---\n",
        "\n",
        "**Q5. What is the role of ensemble size in bagging? How many models should be included in the ensemble?**\n",
        "\n",
        "The ensemble size in bagging refers to the number of base learners (e.g., decision trees) used to build the ensemble. Generally, increasing the ensemble size can lead to better predictive performance up to a certain point. Beyond that point, the marginal improvement diminishes, and additional models might increase computational costs without significant gains. The optimal ensemble size depends on factors such as the complexity of the problem, the diversity of base learners, and computational constraints.\n",
        "\n",
        "---\n",
        "\n",
        "**Q6. Can you provide an example of a real-world application of bagging in machine learning?**\n",
        "\n",
        "One real-world application of bagging is in medical diagnosis systems. For instance, in diagnosing a disease based on various patient features (e.g., symptoms, medical history), multiple decision trees can be trained using bagging. Each decision tree learns different patterns in the data, and the ensemble of trees can provide a more robust diagnosis by considering diverse perspectives. This approach helps reduce the risk of misdiagnosis and improves the reliability of the diagnostic system.\n",
        "\n",
        "---"
      ],
      "metadata": {
        "id": "MdY3pF8eQJOs"
      }
    }
  ]
}