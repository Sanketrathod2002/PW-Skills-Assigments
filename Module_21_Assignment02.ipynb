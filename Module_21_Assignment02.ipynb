{
  "nbformat": 4,
  "nbformat_minor": 0,
  "metadata": {
    "colab": {
      "provenance": []
    },
    "kernelspec": {
      "name": "python3",
      "display_name": "Python 3"
    },
    "language_info": {
      "name": "python"
    }
  },
  "cells": [
    {
      "cell_type": "markdown",
      "source": [
        "---\n",
        "#**Q1. Calculate the 95% confidence interval for a sample of data with a mean of 50 and a standard deviation of 5 using Python. Interpret the results.**"
      ],
      "metadata": {
        "id": "gxy6K20txmqW"
      }
    },
    {
      "cell_type": "code",
      "source": [
        "import scipy.stats as stats\n",
        "\n",
        "sample_mean = 50\n",
        "sample_std_dev = 5\n",
        "sample_size = 100\n",
        "confidence_level = 0.95\n",
        "\n",
        "# Calculate the margin of error\n",
        "margin_of_error = stats.norm.ppf((1 + confidence_level) / 2) * (sample_std_dev / (sample_size ** 0.5))\n",
        "\n",
        "# Calculate the confidence interval\n",
        "lower_bound = sample_mean - margin_of_error\n",
        "upper_bound = sample_mean + margin_of_error\n",
        "\n",
        "print(\"95% Confidence Interval:\", (lower_bound, upper_bound))"
      ],
      "metadata": {
        "colab": {
          "base_uri": "https://localhost:8080/"
        },
        "id": "MrYphf5Axqll",
        "outputId": "72012faf-39ff-4a61-d424-7f464b69e3a9"
      },
      "execution_count": 5,
      "outputs": [
        {
          "output_type": "stream",
          "name": "stdout",
          "text": [
            "95% Confidence Interval: (49.02001800772997, 50.97998199227003)\n"
          ]
        }
      ]
    },
    {
      "cell_type": "markdown",
      "source": [
        "---\n",
        "#**Q2. Conduct a chi-square goodness of fit test to determine if the distribution of colors of M&Ms in a bag matches the expected distribution of 20% blue, 20% orange, 20% green, 10% yellow, 10% red, and 20% brown. Use Python to perform the test with a significance level of 0.05.**"
      ],
      "metadata": {
        "id": "fylu-sdVx2up"
      }
    },
    {
      "cell_type": "code",
      "source": [
        "import numpy as np\n",
        "from scipy.stats import chisquare\n",
        "\n",
        "observed_frequencies = [18, 22, 15, 12, 11, 22]  # Counts of observed colors\n",
        "expected_frequencies = [0.2*100, 0.2*100, 0.2*100, 0.1*100, 0.1*100, 0.2*100]  # Expected counts assuming equal distribution\n",
        "\n",
        "# Perform the chi-square test\n",
        "chi2_stat, p_value = chisquare(observed_frequencies, f_exp=expected_frequencies)\n",
        "\n",
        "# Check significance\n",
        "significance_level = 0.05\n",
        "if p_value < significance_level:\n",
        "    print(\"Reject the null hypothesis: The observed distribution differs significantly from the expected distribution.\")\n",
        "else:\n",
        "    print(\"Fail to reject the null hypothesis: The observed distribution does not differ significantly from the expected distribution.\")"
      ],
      "metadata": {
        "colab": {
          "base_uri": "https://localhost:8080/"
        },
        "id": "iHzB5t3vx5O_",
        "outputId": "614342e6-438c-4cbb-cb72-6377c07b1b7d"
      },
      "execution_count": 6,
      "outputs": [
        {
          "output_type": "stream",
          "name": "stdout",
          "text": [
            "Fail to reject the null hypothesis: The observed distribution does not differ significantly from the expected distribution.\n"
          ]
        }
      ]
    },
    {
      "cell_type": "markdown",
      "source": [
        "---\n",
        "#**Q3. Use Python to calculate the chi-square statistic and p-value for a contingency table with the following data:**\n",
        "\n",
        "|            | Group A | Group B |\n",
        "|------------|---------|---------|\n",
        "| Outcome 1  |    20   |    15   |\n",
        "| Outcome 2  |    10   |    25   |\n",
        "| Outcome 3  |    15   |    20   |"
      ],
      "metadata": {
        "id": "mwjxSFoCx8XD"
      }
    },
    {
      "cell_type": "code",
      "source": [
        "import numpy as np\n",
        "from scipy.stats import chi2_contingency\n",
        "\n",
        "# Contingency table\n",
        "observed_data = np.array([[20, 15],\n",
        "                          [10, 25],\n",
        "                          [15, 20]])\n",
        "\n",
        "# Perform chi-square test\n",
        "chi2_stat, p_value, dof, expected = chi2_contingency(observed_data)\n",
        "\n",
        "print(\"Chi-square Statistic:\", chi2_stat)\n",
        "print(\"P-value:\", p_value)"
      ],
      "metadata": {
        "colab": {
          "base_uri": "https://localhost:8080/"
        },
        "id": "CBe19LeSx_q7",
        "outputId": "20c1ccaa-c4d6-4994-f496-8cb0f40cb64e"
      },
      "execution_count": 7,
      "outputs": [
        {
          "output_type": "stream",
          "name": "stdout",
          "text": [
            "Chi-square Statistic: 5.833333333333334\n",
            "P-value: 0.05411376622282158\n"
          ]
        }
      ]
    },
    {
      "cell_type": "markdown",
      "source": [
        "---\n",
        "#**Q4. A study of the prevalence of smoking in a population of 500 individuals found that 60 individuals smoked. Use Python to calculate the 95% confidence interval for the true proportion of individuals in the population who smoke.**"
      ],
      "metadata": {
        "id": "1LhUXkjwyIv3"
      }
    },
    {
      "cell_type": "code",
      "source": [
        "import scipy.stats as stats\n",
        "\n",
        "sample_proportion = 60 / 500\n",
        "sample_size = 500\n",
        "confidence_level = 0.95\n",
        "\n",
        "# Calculate the margin of error\n",
        "margin_of_error = stats.norm.ppf((1 + confidence_level) / 2) * ((sample_proportion * (1 - sample_proportion)) / sample_size) ** 0.5\n",
        "\n",
        "# Calculate the confidence interval\n",
        "lower_bound = sample_proportion - margin_of_error\n",
        "upper_bound = sample_proportion + margin_of_error\n",
        "\n",
        "print(\"95% Confidence Interval for Proportion of Smokers:\", (lower_bound, upper_bound))\n"
      ],
      "metadata": {
        "colab": {
          "base_uri": "https://localhost:8080/"
        },
        "id": "ABr5CvNzyHkk",
        "outputId": "57db26a7-c910-4547-810a-6f20b73bac98"
      },
      "execution_count": 8,
      "outputs": [
        {
          "output_type": "stream",
          "name": "stdout",
          "text": [
            "95% Confidence Interval for Proportion of Smokers: (0.09151638887130707, 0.1484836111286929)\n"
          ]
        }
      ]
    },
    {
      "cell_type": "markdown",
      "source": [
        "---\n",
        "#**Q5. Calculate the 90% confidence interval for a sample of data with a mean of 75 and a standard deviation of 12 using Python. Interpret the results.**"
      ],
      "metadata": {
        "id": "v19feuoPyosD"
      }
    },
    {
      "cell_type": "code",
      "source": [
        "import scipy.stats as stats\n",
        "\n",
        "sample_mean = 75\n",
        "sample_std_dev = 12\n",
        "sample_size = 100\n",
        "confidence_level = 0.90\n",
        "\n",
        "# Calculate the margin of error\n",
        "margin_of_error = stats.norm.ppf((1 + confidence_level) / 2) * (sample_std_dev / (sample_size ** 0.5))\n",
        "\n",
        "# Calculate the confidence interval\n",
        "lower_bound = sample_mean - margin_of_error\n",
        "upper_bound = sample_mean + margin_of_error\n",
        "\n",
        "print(\"90% Confidence Interval:\", (lower_bound, upper_bound))\n"
      ],
      "metadata": {
        "colab": {
          "base_uri": "https://localhost:8080/"
        },
        "id": "vFk8EZtiys8P",
        "outputId": "1f5714dc-184d-4a20-cde8-1140f0fb725a"
      },
      "execution_count": 9,
      "outputs": [
        {
          "output_type": "stream",
          "name": "stdout",
          "text": [
            "90% Confidence Interval: (73.02617564765823, 76.97382435234177)\n"
          ]
        }
      ]
    },
    {
      "cell_type": "markdown",
      "source": [
        "---\n",
        "#**Q6. Use Python to plot the chi-square distribution with 10 degrees of freedom. Label the axes and shade the area corresponding to a chi-square statistic of 15.**"
      ],
      "metadata": {
        "id": "xXxiqKh-yuc_"
      }
    },
    {
      "cell_type": "code",
      "source": [
        "import numpy as np\n",
        "import matplotlib.pyplot as plt\n",
        "\n",
        "degrees_of_freedom = 10\n",
        "x = np.linspace(0, 30, 1000)\n",
        "y = stats.chi2.pdf(x, degrees_of_freedom)\n",
        "\n",
        "plt.plot(x, y, 'b-', label='Chi-square Distribution (df=10)')\n",
        "plt.fill_between(x, y, where=(x >= 15), color='gray', alpha=0.5)\n",
        "\n",
        "plt.xlabel('Chi-square Statistic')\n",
        "plt.ylabel('Probability Density Function')\n",
        "plt.title('Chi-square Distribution')\n",
        "plt.legend()\n",
        "plt.show()\n"
      ],
      "metadata": {
        "colab": {
          "base_uri": "https://localhost:8080/",
          "height": 472
        },
        "id": "uhJHtRTGy0aK",
        "outputId": "6a7074f4-701e-4c36-8932-71d3c036c035"
      },
      "execution_count": 10,
      "outputs": [
        {
          "output_type": "display_data",
          "data": {
            "text/plain": [
              "<Figure size 640x480 with 1 Axes>"
            ],
            "image/png": "[encoded data removed]"
          },
          "metadata": {}
        }
      ]
    },
    {
      "cell_type": "markdown",
      "source": [
        "---\n",
        "#**Q7. A random sample of 1000 people was asked if they preferred Coke or Pepsi. Of the sample, 520 preferred Coke. Calculate a 99% confidence interval for the true proportion of people in the population who prefer Coke.**"
      ],
      "metadata": {
        "id": "3wUv-Tsoy7Dd"
      }
    },
    {
      "cell_type": "code",
      "source": [
        "import scipy.stats as stats\n",
        "\n",
        "sample_proportion = 520 / 1000\n",
        "sample_size = 1000\n",
        "confidence_level = 0.99\n",
        "\n",
        "# Calculate the margin of error\n",
        "margin_of_error = stats.norm.ppf((1 + confidence_level) / 2) * ((sample_proportion * (1 - sample_proportion)) / sample_size) ** 0.5\n",
        "\n",
        "# Calculate the confidence interval\n",
        "lower_bound = sample_proportion - margin_of_error\n",
        "upper_bound = sample_proportion + margin_of_error\n",
        "\n",
        "print(\"99% Confidence Interval for Proportion of Coke Preference:\", (lower_bound, upper_bound))\n"
      ],
      "metadata": {
        "colab": {
          "base_uri": "https://localhost:8080/"
        },
        "id": "p3NEA1s5y_1v",
        "outputId": "a3984608-73e8-4659-d74c-26e786d0886e"
      },
      "execution_count": 11,
      "outputs": [
        {
          "output_type": "stream",
          "name": "stdout",
          "text": [
            "99% Confidence Interval for Proportion of Coke Preference: (0.4793051576779699, 0.5606948423220302)\n"
          ]
        }
      ]
    },
    {
      "cell_type": "markdown",
      "source": [
        "---\n",
        "#**Q8. A researcher hypothesizes that a coin is biased towards tails. They flip the coin 100 times and observe 45 tails. Conduct a chi-square goodness of fit test to determine if the observed frequencies match the expected frequencies of a fair coin. Use a significance level of 0.05.**"
      ],
      "metadata": {
        "id": "XJcDUNZxzBHd"
      }
    },
    {
      "cell_type": "code",
      "source": [
        "import numpy as np\n",
        "from scipy.stats import chisquare\n",
        "\n",
        "observed_frequencies = [45, 55]  # Observed frequencies of heads and tails\n",
        "expected_frequencies = [50, 50]  # Expected frequencies for a fair coin\n",
        "\n",
        "chi2_stat, p_value = chisquare(observed_frequencies, f_exp=expected_frequencies)\n",
        "\n",
        "# Check significance\n",
        "significance_level = 0.05\n",
        "if p_value < significance_level:\n",
        "    print(\"Reject the null hypothesis: The observed frequencies do not match the expected frequencies of a fair coin.\")\n",
        "else:\n",
        "    print(\"Fail to reject the null hypothesis: The observed frequencies match the expected frequencies of a fair coin.\")\n"
      ],
      "metadata": {
        "colab": {
          "base_uri": "https://localhost:8080/"
        },
        "id": "7Au7L1jWzF--",
        "outputId": "c03dbf2d-49a8-49a1-a77a-78aede761d57"
      },
      "execution_count": 12,
      "outputs": [
        {
          "output_type": "stream",
          "name": "stdout",
          "text": [
            "Fail to reject the null hypothesis: The observed frequencies match the expected frequencies of a fair coin.\n"
          ]
        }
      ]
    },
    {
      "cell_type": "markdown",
      "source": [
        "---\n",
        "#**Q9. A study was conducted to determine if there is an association between smoking status (smoker or non-smoker) and lung cancer diagnosis (yes or no). The results are shown in the contingency table below. Conduct a chi-square test for independence to determine if there is a significant association between smoking status and lung cancer diagnosis.**\n",
        "\n",
        "Use a significance level of 0.05.\n",
        "\n",
        "Contingency Table:\n",
        "\n",
        "|              | Lung Cancer: Yes | Lung Cancer: No |\n",
        "|--------------|------------------|-----------------|\n",
        "| Smoker       | 60               | 140             |\n",
        "| Non-smoker   | 30               | 170             |"
      ],
      "metadata": {
        "id": "wdQGjTVUzHhX"
      }
    },
    {
      "cell_type": "code",
      "source": [
        "import numpy as np\n",
        "from scipy.stats import chi2_contingency\n",
        "\n",
        "# Contingency table\n",
        "observed_data = np.array([[20, 15],\n",
        "                          [10, 25],\n",
        "                          [15, 20]])\n",
        "\n",
        "# Add the data for Group B\n",
        "observed_data = np.vstack([observed_data, [60, 140], [30, 170]])\n",
        "\n",
        "# Perform chi-square test for independence\n",
        "chi2_stat, p_value, dof, expected = chi2_contingency(observed_data)\n",
        "\n",
        "# Set significance level\n",
        "significance_level = 0.05\n",
        "\n",
        "# Check for significance\n",
        "if p_value < significance_level:\n",
        "    print(\"Reject the null hypothesis: There is a significant association between smoking status and lung cancer diagnosis.\")\n",
        "else:\n",
        "    print(\"Fail to reject the null hypothesis: There is no significant association between smoking status and lung cancer diagnosis.\")\n"
      ],
      "metadata": {
        "colab": {
          "base_uri": "https://localhost:8080/"
        },
        "id": "jMeZvLmMzbpS",
        "outputId": "9024015f-1675-4671-f4d1-5c843fdaa4db"
      },
      "execution_count": 13,
      "outputs": [
        {
          "output_type": "stream",
          "name": "stdout",
          "text": [
            "Reject the null hypothesis: There is a significant association between smoking status and lung cancer diagnosis.\n"
          ]
        }
      ]
    },
    {
      "cell_type": "markdown",
      "source": [
        "---\n",
        "#**Q10. A study was conducted to determine if the proportion of people who prefer milk chocolate, dark chocolate, or white chocolate is different in the U.S. versus the U.K. A random sample of 500 people from the U.S. and a random sample of 500 people from the U.K. were surveyed. The results are shown in the contingency table below. Conduct a chi-square test for independence to determine if there is a significant association between chocolate preference and country of origin.**\n",
        "\n",
        "Use a significance level of 0.01.\n",
        "\n",
        "Contingency Table:\n",
        "\n",
        "|              | Milk Chocolate | Dark Chocolate | White Chocolate |\n",
        "|--------------|----------------|----------------|-----------------|\n",
        "| U.S.         | 150            | 200            | 150             |\n",
        "| U.K.         | 100            | 250            | 150             |\n"
      ],
      "metadata": {
        "id": "vOvh_Gr6zdPJ"
      }
    },
    {
      "cell_type": "code",
      "source": [
        "import numpy as np\n",
        "from scipy.stats import chi2_contingency\n",
        "\n",
        "# Contingency table\n",
        "observed_data = np.array([[150, 200, 150],\n",
        "                          [100, 250, 150]])\n",
        "\n",
        "# Perform chi-square test for independence\n",
        "chi2_stat, p_value, dof, expected = chi2_contingency(observed_data)\n",
        "\n",
        "# Set significance level\n",
        "significance_level = 0.01\n",
        "\n",
        "# Check for significance\n",
        "if p_value < significance_level:\n",
        "    print(\"Reject the null hypothesis: There is a significant association between chocolate preference and country of origin.\")\n",
        "else:\n",
        "    print(\"Fail to reject the null hypothesis: There is no significant association between chocolate preference and country of origin.\")"
      ],
      "metadata": {
        "colab": {
          "base_uri": "https://localhost:8080/"
        },
        "id": "9_2aTKUAzo31",
        "outputId": "f3437b85-b9c9-4914-eb5e-788c7d6d7e9c"
      },
      "execution_count": 14,
      "outputs": [
        {
          "output_type": "stream",
          "name": "stdout",
          "text": [
            "Reject the null hypothesis: There is a significant association between chocolate preference and country of origin.\n"
          ]
        }
      ]
    },
    {
      "cell_type": "markdown",
      "source": [
        "---\n",
        "#**Q11. A random sample of 30 people was selected from a population with an unknown mean and standard deviation. The sample mean was found to be 72 and the sample standard deviation was found to be 10. Conduct a hypothesis test to determine if the population mean is significantly different from 70. Use a significance level of 0.05.**"
      ],
      "metadata": {
        "id": "AXFsIgcJzpyE"
      }
    },
    {
      "cell_type": "code",
      "source": [
        "import numpy as np\n",
        "from scipy.stats import t\n",
        "\n",
        "# Given data\n",
        "sample_mean = 72\n",
        "sample_std_dev = 10\n",
        "sample_size = 30\n",
        "population_mean = 70\n",
        "significance_level = 0.05\n",
        "\n",
        "# Calculate the t-statistic\n",
        "t_statistic = (sample_mean - population_mean) / (sample_std_dev / np.sqrt(sample_size))\n",
        "\n",
        "# Degrees of freedom\n",
        "degrees_of_freedom = sample_size - 1\n",
        "\n",
        "# Find critical t-value\n",
        "critical_t_value = t.ppf(1 - significance_level / 2, df=degrees_of_freedom)\n",
        "\n",
        "# Check significance\n",
        "if np.abs(t_statistic) > critical_t_value:\n",
        "    print(\"Reject the null hypothesis: The population mean is significantly different from 70.\")\n",
        "else:\n",
        "    print(\"Fail to reject the null hypothesis: There is no significant difference in the population mean.\")"
      ],
      "metadata": {
        "colab": {
          "base_uri": "https://localhost:8080/"
        },
        "id": "EpQH46xUztPd",
        "outputId": "d8c2e91e-9c34-416d-9973-1f102c8a21fb"
      },
      "execution_count": 15,
      "outputs": [
        {
          "output_type": "stream",
          "name": "stdout",
          "text": [
            "Fail to reject the null hypothesis: There is no significant difference in the population mean.\n"
          ]
        }
      ]
    }
  ]
}