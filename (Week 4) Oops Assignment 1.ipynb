{
 "cells": [
  {
   "cell_type": "code",
   "execution_count": 1,
   "id": "5b28189e",
   "metadata": {},
   "outputs": [
    {
     "name": "stdout",
     "output_type": "stream",
     "text": [
      "Driving the Ford Mustang\n"
     ]
    }
   ],
   "source": [
    "'''\n",
    "Q1. Explain Class and Object with respect to Object-Oriented Programming. Give a suitable example.\n",
    "'''\n",
    "\n",
    "# Ans :-\n",
    "'''\n",
    "object-oriented programming (OOP), a class is a blueprint or a template that defines the attributes (data) and behaviors \n",
    "(methods) that an object of that class should have. It represents a concept or a type of object. An object, on the other \n",
    "hand, is an instance of a class. It is a tangible entity that exists in memory and can be manipulated using the defined \n",
    "methods.\n",
    "'''\n",
    "\n",
    "# Program :-\n",
    "class Car:\n",
    "    def __init__(self, brand, model):\n",
    "        self.brand = brand\n",
    "        self.model = model\n",
    "\n",
    "    def drive(self):\n",
    "        print(\"Driving the\", self.brand, self.model)\n",
    "\n",
    "car1 = Car(\"Ford\", \"Mustang\")\n",
    "car1.drive()  # Output: Driving the Ford Mustang\n"
   ]
  },
  {
   "cell_type": "code",
   "execution_count": 11,
   "id": "165f929c",
   "metadata": {},
   "outputs": [
    {
     "data": {
      "text/plain": [
       "'\\nThe four pillars of object-oriented programming (OOP) are:\\n\\nEncapsulation\\nInheritance\\nPolymorphism\\nAbstraction\\n\\n'"
      ]
     },
     "execution_count": 11,
     "metadata": {},
     "output_type": "execute_result"
    }
   ],
   "source": [
    "'''\n",
    "Q2. Name the four pillars of OOPs.\n",
    "'''\n",
    "\n",
    "# Ans :-\n",
    "'''\n",
    "The four pillars of object-oriented programming (OOP) are:\n",
    "\n",
    "Encapsulation\n",
    "Inheritance\n",
    "Polymorphism\n",
    "Abstraction\n",
    "\n",
    "'''"
   ]
  },
  {
   "cell_type": "code",
   "execution_count": 4,
   "id": "f8e038ba",
   "metadata": {},
   "outputs": [
    {
     "name": "stdout",
     "output_type": "stream",
     "text": [
      "Sanket\n",
      "21\n"
     ]
    }
   ],
   "source": [
    "'''\n",
    "Q3. Explain why the __init__() function is used. Give a suitable example.\n",
    "'''\n",
    "\n",
    "# Ans :-\n",
    "'''\n",
    "The __init__() function, also known as the constructor, is used in object-oriented programming languages like Python \n",
    "to initialize the newly created object of a class. It is called automatically when an object is instantiated from a class. \n",
    "The primary purpose of the __init__() function is to set the initial state (values of attributes) of the object.\n",
    "'''\n",
    "\n",
    "# Program :-\n",
    "class Person:\n",
    "    def __init__(self, name, age):\n",
    "        self.name = name\n",
    "        self.age = age\n",
    "\n",
    "person1 = Person(\"Sanket\", 21)\n",
    "print(person1.name)  \n",
    "print(person1.age)   \n"
   ]
  },
  {
   "cell_type": "code",
   "execution_count": 6,
   "id": "5c724219",
   "metadata": {},
   "outputs": [
    {
     "name": "stdout",
     "output_type": "stream",
     "text": [
      "78.5\n"
     ]
    }
   ],
   "source": [
    "'''\n",
    "Q4. Why self is used in OOPs?\n",
    "'''\n",
    "\n",
    "# Ans :-\n",
    "'''\n",
    "In object-oriented programming (OOP), the self keyword is used as the first parameter in the method definitions within a \n",
    "class. It represents the instance of the class (the object) that the method is being called on. By convention, self is the\n",
    "preferred name for this parameter, although it can be named differently.\n",
    "'''\n",
    "\n",
    "# Program :-\n",
    "class Circle:\n",
    "    def __init__(self, radius):\n",
    "        self.radius = radius\n",
    "\n",
    "    def calculate_area(self):\n",
    "        area = 3.14 * (self.radius ** 2)\n",
    "        return area\n",
    "\n",
    "circle1 = Circle(5)\n",
    "print(circle1.calculate_area())  \n"
   ]
  },
  {
   "cell_type": "code",
   "execution_count": 10,
   "id": "b98ac706",
   "metadata": {},
   "outputs": [
    {
     "name": "stdout",
     "output_type": "stream",
     "text": [
      "Breathing...\n",
      "Eating...\n",
      "Sleeping...\n",
      "Barking...\n"
     ]
    }
   ],
   "source": [
    "'''\n",
    "Q5. What is inheritance? Give an example for each type of inheritance.\n",
    "'''\n",
    "# Ans :-\n",
    "'''\n",
    "Inheritance is a fundamental concept in object-oriented programming (OOP) that allows a class to inherit attributes and \n",
    "behaviors from another class. The class that is being inherited from is called the superclass or base class, and the class\n",
    "that inherits from it is called the subclass or derived class. Inheritance promotes code reuse, modularity, and \n",
    "extensibility.\n",
    "'''\n",
    "# Program :-\n",
    "\n",
    "#1. Single Inheritance\n",
    "class Animal:\n",
    "    def breathe(self):\n",
    "        print(\"Breathing...\")\n",
    "\n",
    "class Dog(Animal):\n",
    "    def bark(self):\n",
    "        print(\"Barking...\")\n",
    "\n",
    "dog = Dog()\n",
    "dog.breathe()  \n",
    "\n",
    "\n",
    "# Multilevel Inheritance\n",
    "class Animal:\n",
    "    def eat(self):\n",
    "        print(\"Eating...\")\n",
    "\n",
    "class Mammal(Animal):\n",
    "    def sleep(self):\n",
    "        print(\"Sleeping...\")\n",
    "\n",
    "class Dog(Mammal):\n",
    "    def bark(self):\n",
    "        print(\"Barking...\")\n",
    "\n",
    "dog = Dog()\n",
    "dog.eat()  \n",
    "dog.sleep() \n",
    "dog.bark()  \n",
    "\n"
   ]
  }
 ],
 "metadata": {
  "kernelspec": {
   "display_name": "Python 3 (ipykernel)",
   "language": "python",
   "name": "python3"
  },
  "language_info": {
   "codemirror_mode": {
    "name": "ipython",
    "version": 3
   },
   "file_extension": ".py",
   "mimetype": "text/x-python",
   "name": "python",
   "nbconvert_exporter": "python",
   "pygments_lexer": "ipython3",
   "version": "3.10.9"
  }
 },
 "nbformat": 4,
 "nbformat_minor": 5
}
