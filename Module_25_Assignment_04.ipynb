{
  "nbformat": 4,
  "nbformat_minor": 0,
  "metadata": {
    "colab": {
      "provenance": []
    },
    "kernelspec": {
      "name": "python3",
      "display_name": "Python 3"
    },
    "language_info": {
      "name": "python"
    }
  },
  "cells": [
    {
      "cell_type": "markdown",
      "source": [
        "Q1. **Lasso Regression and its Differences from Other Regression Techniques:**\n",
        "   - Lasso Regression, or Least Absolute Shrinkage and Selection Operator, is a regularization technique used in linear regression. It differs from other regression techniques by adding a penalty term to the ordinary least squares (OLS) loss function, which penalizes the absolute size of the coefficients, leading to feature selection by driving some coefficients to exactly zero.\n",
        "\n",
        "---\n",
        "\n",
        "Q2. **Main Advantage of Lasso Regression in Feature Selection:**\n",
        "   - The main advantage of Lasso Regression in feature selection is its ability to shrink the coefficients of less important features to zero, effectively removing them from the model. This results in a sparse model with only the most relevant features retained.\n",
        "\n",
        "---\n",
        "\n",
        "Q3. **Interpretation of Coefficients in Lasso Regression:**\n",
        "   - In Lasso Regression, the coefficients represent the strength and direction of the relationship between each independent variable and the dependent variable. Coefficients that are non-zero indicate features that are retained in the model, while coefficients that are zero indicate features that have been excluded.\n",
        "\n",
        "---\n",
        "\n",
        "Q4. **Tuning Parameters in Lasso Regression and their Effects on Model Performance:**\n",
        "   - The main tuning parameter in Lasso Regression is the regularization parameter (lambda). Increasing lambda increases the penalty on the absolute size of coefficients, leading to more coefficients being driven to zero and thus increasing model sparsity. However, too high a value of lambda may lead to underfitting, while too low a value may lead to overfitting.\n",
        "\n",
        "---\n",
        "\n",
        "Q5. **Using Lasso Regression for Non-linear Regression Problems:**\n",
        "   - Lasso Regression is inherently a linear regression technique and is not designed to handle non-linear relationships between variables. However, it can be combined with basis function expansion or other non-linear transformations of the input features to handle non-linear regression problems.\n",
        "\n",
        "---\n",
        "\n",
        "Q6. **Difference between Ridge Regression and Lasso Regression:**\n",
        "   - The main difference between Ridge Regression and Lasso Regression lies in the penalty term used. Ridge Regression adds a penalty term proportional to the squared magnitude of coefficients (L2 penalty), while Lasso Regression adds a penalty term proportional to the absolute magnitude of coefficients (L1 penalty). This leads to different behaviors in terms of coefficient shrinkage and feature selection.\n",
        "\n",
        "---\n",
        "\n",
        "Q7. **Handling Multicollinearity in Lasso Regression:**\n",
        "   - Yes, Lasso Regression can handle multicollinearity in the input features by shrinking the coefficients of highly correlated features towards zero. This helps to reduce the impact of multicollinearity on the model's stability and interpretability.\n",
        "\n",
        "---\n",
        "\n",
        "Q8. **Choosing the Optimal Value of the Regularization Parameter (Lambda) in Lasso Regression:**\n",
        "   - The optimal value of the regularization parameter (lambda) in Lasso Regression is typically chosen through techniques such as cross-validation. By training the model with different values of lambda on subsets of the data and evaluating its performance, the value of lambda that results in the best model performance, often measured by metrics like mean squared error or cross-validated error, is selected.\n",
        "\n",
        "   ---"
      ],
      "metadata": {
        "id": "4NSNOiSc4A-Q"
      }
    }
  ]
}