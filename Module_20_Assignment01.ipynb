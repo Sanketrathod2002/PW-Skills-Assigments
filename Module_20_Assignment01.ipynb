{
  "nbformat": 4,
  "nbformat_minor": 0,
  "metadata": {
    "colab": {
      "provenance": []
    },
    "kernelspec": {
      "name": "python3",
      "display_name": "Python 3"
    },
    "language_info": {
      "name": "python"
    }
  },
  "cells": [
    {
      "cell_type": "markdown",
      "source": [
        "---\n",
        "#**Q1. What is the Probability density function?**\n",
        "\n",
        "The Probability Density Function (PDF) is a function that describes the likelihood of a continuous random variable falling within a particular range of values. It gives the probability of a random variable taking on a specific value.\n",
        "\n",
        "---\n",
        "#**Q2. What are the types of Probability distribution?**\n",
        "\n",
        "There are various types of probability distributions, including:\n",
        "1. Normal distribution\n",
        "2. Binomial distribution\n",
        "3. Poisson distribution\n",
        "4. Exponential distribution\n",
        "5. Uniform distribution\n",
        "6. etc.\n"
      ],
      "metadata": {
        "id": "6Ha4IVKjoR2h"
      }
    },
    {
      "cell_type": "markdown",
      "source": [
        "---\n",
        "#**Q3. Write a Python function to calculate the probability density function of a normal distribution with given mean and standard deviation at a given point.**\n"
      ],
      "metadata": {
        "id": "7nI5OY8OoTYt"
      }
    },
    {
      "cell_type": "code",
      "source": [
        "import numpy as np\n",
        "import scipy.stats as stats\n",
        "\n",
        "def pdf_normal_distribution(x, mean, std_dev):\n",
        "    return stats.norm.pdf(x, mean, std_dev)\n",
        "\n",
        "# Example usage\n",
        "mean = 0\n",
        "std_dev = 1\n",
        "point = 1\n",
        "pdf_value = pdf_normal_distribution(point, mean, std_dev)\n",
        "print(\"PDF at point\", point, \":\", pdf_value)"
      ],
      "metadata": {
        "colab": {
          "base_uri": "https://localhost:8080/"
        },
        "id": "puJ9c_4NofFi",
        "outputId": "8228db7f-fda5-48b3-bcf3-ece6409032b4"
      },
      "execution_count": 1,
      "outputs": [
        {
          "output_type": "stream",
          "name": "stdout",
          "text": [
            "PDF at point 1 : 0.24197072451914337\n"
          ]
        }
      ]
    },
    {
      "cell_type": "markdown",
      "source": [
        "---\n",
        "#**Q4. What are the properties of Binomial distribution? Give two examples of events where binomial distribution can be applied.**\n",
        "\n",
        "Properties of Binomial distribution:\n",
        "- It models the number of successes in a fixed number of independent Bernoulli trials.\n",
        "- Each trial has two outcomes: success or failure.\n",
        "- The trials are independent and have the same probability of success.\n",
        "\n",
        "Examples of events where binomial distribution can be applied:\n",
        "1. Flipping a coin multiple times and counting the number of heads.\n",
        "2. Conducting a survey where each person can respond with either \"yes\" or \"no\" to a question, and counting the number of \"yes\" responses.\n"
      ],
      "metadata": {
        "id": "OfN4OudsohQz"
      }
    },
    {
      "cell_type": "markdown",
      "source": [
        "---\n",
        "#**Q5. Generate a random sample of size 1000 from a binomial distribution with probability of success 0.4 and plot a histogram of the results using matplotlib.**\n"
      ],
      "metadata": {
        "id": "DJa2UYK6oqzn"
      }
    },
    {
      "cell_type": "code",
      "source": [
        "import numpy as np\n",
        "import matplotlib.pyplot as plt\n",
        "\n",
        "sample_size = 1000\n",
        "p = 0.4\n",
        "\n",
        "# Generate random sample\n",
        "sample = np.random.binomial(1, p, sample_size)\n",
        "\n",
        "# Plot histogram\n",
        "plt.hist(sample, bins=[0, 1, 2], align='left')\n",
        "plt.xlabel('Outcome')\n",
        "plt.ylabel('Frequency')\n",
        "plt.title('Histogram of Binomial Distribution')\n",
        "plt.xticks([0, 1], ['Failure', 'Success'])\n",
        "plt.show()"
      ],
      "metadata": {
        "colab": {
          "base_uri": "https://localhost:8080/",
          "height": 472
        },
        "id": "v3gQQmhXofhb",
        "outputId": "299f36c0-2f87-4b6d-d9c2-a0740df1992c"
      },
      "execution_count": 2,
      "outputs": [
        {
          "output_type": "display_data",
          "data": {
            "text/plain": [
              "<Figure size 640x480 with 1 Axes>"
            ],
            "image/png": "[encoded data removed]"
          },
          "metadata": {}
        }
      ]
    },
    {
      "cell_type": "markdown",
      "source": [
        "---\n",
        "#**Q6. Write a Python function to calculate the cumulative distribution function of a Poisson distribution with given mean at a given point.**"
      ],
      "metadata": {
        "id": "fOOPe2p7ozg1"
      }
    },
    {
      "cell_type": "code",
      "source": [
        "import numpy as np\n",
        "import scipy.stats as stats\n",
        "\n",
        "def cdf_poisson_distribution(k, mean):\n",
        "    return stats.poisson.cdf(k, mean)\n",
        "\n",
        "# Example usage\n",
        "mean = 5\n",
        "point = 3\n",
        "cdf_value = cdf_poisson_distribution(point, mean)\n",
        "print(\"CDF at point\", point, \":\", cdf_value)"
      ],
      "metadata": {
        "colab": {
          "base_uri": "https://localhost:8080/"
        },
        "id": "Cm9vcYzgoyuy",
        "outputId": "e6537968-aa2d-4c97-c358-23e804c33cc3"
      },
      "execution_count": 3,
      "outputs": [
        {
          "output_type": "stream",
          "name": "stdout",
          "text": [
            "CDF at point 3 : 0.2650259152973616\n"
          ]
        }
      ]
    },
    {
      "cell_type": "markdown",
      "source": [
        "---\n",
        "#**Q7. How Binomial distribution different from Poisson distribution?**\n",
        "\n",
        "Binomial distribution is used to model the number of successes in a fixed number of independent Bernoulli trials, while Poisson distribution is used to model the number of events occurring in a fixed interval of time or space, given a known average rate of occurrence."
      ],
      "metadata": {
        "id": "TAC06Fs9pAQp"
      }
    },
    {
      "cell_type": "markdown",
      "source": [
        "---\n",
        "#**Q8. Generate a random sample of size 1000 from a Poisson distribution with mean 5 and calculate the sample mean and variance.**"
      ],
      "metadata": {
        "id": "CkbYyweGpHB1"
      }
    },
    {
      "cell_type": "code",
      "source": [
        "import numpy as np\n",
        "\n",
        "sample_size = 1000\n",
        "mean = 5\n",
        "\n",
        "# Generate random sample\n",
        "sample = np.random.poisson(mean, sample_size)\n",
        "\n",
        "# Calculate sample mean and variance\n",
        "sample_mean = np.mean(sample)\n",
        "sample_variance = np.var(sample)\n",
        "\n",
        "print(\"Sample mean:\", sample_mean)\n",
        "print(\"Sample variance:\", sample_variance)"
      ],
      "metadata": {
        "colab": {
          "base_uri": "https://localhost:8080/"
        },
        "id": "fgHJ04W0o_Po",
        "outputId": "299610b2-a710-452c-8eea-e270d103f35e"
      },
      "execution_count": 4,
      "outputs": [
        {
          "output_type": "stream",
          "name": "stdout",
          "text": [
            "Sample mean: 5.016\n",
            "Sample variance: 4.823743999999999\n"
          ]
        }
      ]
    },
    {
      "cell_type": "markdown",
      "source": [
        "---\n",
        "#**Q9. How mean and variance are related in Binomial distribution and Poisson distribution?**\n",
        "\n",
        "In Binomial distribution, the mean (\\( \\mu \\)) and variance (\\( \\sigma^2 \\)) are related by the formula \\( \\sigma^2 = n \\cdot p \\cdot (1 - p) \\), where \\( n \\) is the number of trials and \\( p \\) is the probability of success in each trial.\n",
        "\n",
        "In Poisson distribution, the mean (\\( \\lambda \\)) and variance (\\( \\sigma^2 \\)) are equal, i.e., \\( \\sigma^2 = \\lambda \\).\n",
        "\n",
        "---\n",
        "#**Q10. In normal distribution with respect to mean position, where does the least frequent data appear?**\n",
        "\n",
        "In a normal distribution, the least frequent data appears at the tails, farthest away from the mean. These are the extreme values in the distribution. The probability density decreases as you move away from the mean towards the tails.\n",
        "```"
      ],
      "metadata": {
        "id": "IemFujxNpOx9"
      }
    }
  ]
}