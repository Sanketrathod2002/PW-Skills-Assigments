{
 "cells": [
  {
   "cell_type": "code",
   "execution_count": 1,
   "id": "531c1477",
   "metadata": {},
   "outputs": [
    {
     "data": {
      "text/plain": [
       "'Q1: What is an Exception in Python? Write the difference between Exceptions and Syntax errors.\\nAnswer:\\nIn Python, an exception is an event that occurs during the execution of a program that disrupts the normal flow of \\ninstructions. Exceptions are raised when errors or exceptional situations occur in the code. Syntax errors, on the other \\nhand, are errors in the code structure and grammar.'"
      ]
     },
     "execution_count": 1,
     "metadata": {},
     "output_type": "execute_result"
    }
   ],
   "source": [
    "'''\n",
    "Q1: What is an Exception in Python? Write the difference between Exceptions and Syntax errors.\n",
    "Answer:\n",
    "In Python, an exception is an event that occurs during the execution of a program that disrupts the normal flow of \n",
    "instructions. Exceptions are raised when errors or exceptional situations occur in the code. Syntax errors, on the other \n",
    "hand, are errors in the code structure and grammar.\n",
    "'''"
   ]
  },
  {
   "cell_type": "code",
   "execution_count": 4,
   "id": "f8ecbf08",
   "metadata": {},
   "outputs": [
    {
     "ename": "ZeroDivisionError",
     "evalue": "division by zero",
     "output_type": "error",
     "traceback": [
      "\u001b[1;31m---------------------------------------------------------------------------\u001b[0m",
      "\u001b[1;31mZeroDivisionError\u001b[0m                         Traceback (most recent call last)",
      "Cell \u001b[1;32mIn[4], line 4\u001b[0m\n\u001b[0;32m      1\u001b[0m \u001b[38;5;124;03m'''Q2: What happens when an exception is not handled? Explain with an example.\u001b[39;00m\n\u001b[0;32m      2\u001b[0m \u001b[38;5;124;03mAnswer:\u001b[39;00m\n\u001b[0;32m      3\u001b[0m \u001b[38;5;124;03mWhen an exception is not handled, it leads to program termination and an error message is displayed. Here's an example:'''\u001b[39;00m\n\u001b[1;32m----> 4\u001b[0m result \u001b[38;5;241m=\u001b[39m \u001b[38;5;241;43m10\u001b[39;49m\u001b[43m \u001b[49m\u001b[38;5;241;43m/\u001b[39;49m\u001b[43m \u001b[49m\u001b[38;5;241;43m0\u001b[39;49m  \u001b[38;5;66;03m# This will raise a ZeroDivisionError\u001b[39;00m\n\u001b[0;32m      5\u001b[0m \u001b[38;5;28mprint\u001b[39m(result)\n",
      "\u001b[1;31mZeroDivisionError\u001b[0m: division by zero"
     ]
    }
   ],
   "source": [
    "'''\n",
    "Q2: What happens when an exception is not handled? Explain with an example.\n",
    "Answer:\n",
    "When an exception is not handled, it leads to program termination and an error message is displayed. Here's an example:\n",
    "'''\n",
    "result = 10 / 0  # This will raise a ZeroDivisionError\n",
    "print(result)\n"
   ]
  },
  {
   "cell_type": "code",
   "execution_count": 5,
   "id": "0006ce06",
   "metadata": {},
   "outputs": [
    {
     "name": "stdout",
     "output_type": "stream",
     "text": [
      "Error: Cannot divide by zero!\n",
      "This block will be executed no matter what.\n"
     ]
    }
   ],
   "source": [
    "'''\n",
    "Q3: Which Python statements are used to try, catch, and handle exceptions? Explain with an example.\n",
    "Answer:\n",
    "The try, except, finally, and optionally else statements are used to handle exceptions. Here's an example:\n",
    "'''\n",
    "\n",
    "#Program:\n",
    "\n",
    "try:\n",
    "    result = 10 / 0\n",
    "except ZeroDivisionError:\n",
    "    print(\"Error: Cannot divide by zero!\")\n",
    "else:\n",
    "    print(\"Division successful!\")\n",
    "finally:\n",
    "    print(\"This block will be executed no matter what.\")\n"
   ]
  },
  {
   "cell_type": "code",
   "execution_count": 7,
   "id": "95b134c1",
   "metadata": {},
   "outputs": [
    {
     "name": "stdout",
     "output_type": "stream",
     "text": [
      "Enter an integer: 20\n",
      "Entered value: 20\n",
      "This block will be executed no matter what.\n"
     ]
    }
   ],
   "source": [
    "'''Q4: Explain with an example: try, else, and finally.'''\n",
    "\n",
    "#Program :\n",
    "\n",
    "try:\n",
    "    value = int(input(\"Enter an integer: \"))\n",
    "except ValueError:\n",
    "    print(\"Invalid input! Please enter a valid integer.\")\n",
    "else:\n",
    "    print(f\"Entered value: {value}\")\n",
    "finally:\n",
    "    print(\"This block will be executed no matter what.\")\n"
   ]
  },
  {
   "cell_type": "code",
   "execution_count": 8,
   "id": "0e17fddd",
   "metadata": {},
   "outputs": [
    {
     "name": "stdout",
     "output_type": "stream",
     "text": [
      "Caught an exception: Negative values are not allowed!\n"
     ]
    }
   ],
   "source": [
    "'''\n",
    "Q5: What are Custom Exceptions in Python? Why do we need Custom Exceptions? Explain with an example.\n",
    "Answer:\n",
    "Custom exceptions are user-defined exception classes. They allow developers to create their own specific exceptions when \n",
    "standard Python exceptions are not sufficient. This provides more meaningful error messages and helps in better code \n",
    "organization. Here's an example:\n",
    "'''\n",
    "\n",
    "# Program :\n",
    "\n",
    "class CustomError(Exception):\n",
    "    pass\n",
    "\n",
    "def example_function(value):\n",
    "    if value < 0:\n",
    "        raise CustomError(\"Negative values are not allowed!\")\n",
    "\n",
    "try:\n",
    "    example_function(-5)\n",
    "except CustomError as e:\n",
    "    print(f\"Caught an exception: {e}\")\n"
   ]
  },
  {
   "cell_type": "code",
   "execution_count": 9,
   "id": "6e72932c",
   "metadata": {},
   "outputs": [
    {
     "name": "stdout",
     "output_type": "stream",
     "text": [
      "Caught an exception: This is a custom exception message.\n"
     ]
    }
   ],
   "source": [
    "'''Q6: Create a custom exception class. Use this class to handle an exception.'''\n",
    "\n",
    "# Program :\n",
    "\n",
    "class MyCustomException(Exception):\n",
    "    def __init__(self, message=\"This is a custom exception.\"):\n",
    "        self.message = message\n",
    "        super().__init__(self.message)\n",
    "\n",
    "try:\n",
    "    raise MyCustomException(\"This is a custom exception message.\")\n",
    "except MyCustomException as e:\n",
    "    print(f\"Caught an exception: {e}\")\n"
   ]
  }
 ],
 "metadata": {
  "kernelspec": {
   "display_name": "Python 3 (ipykernel)",
   "language": "python",
   "name": "python3"
  },
  "language_info": {
   "codemirror_mode": {
    "name": "ipython",
    "version": 3
   },
   "file_extension": ".py",
   "mimetype": "text/x-python",
   "name": "python",
   "nbconvert_exporter": "python",
   "pygments_lexer": "ipython3",
   "version": "3.10.9"
  }
 },
 "nbformat": 4,
 "nbformat_minor": 5
}
