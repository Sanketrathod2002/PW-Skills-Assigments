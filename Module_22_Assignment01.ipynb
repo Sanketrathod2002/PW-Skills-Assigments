{
  "nbformat": 4,
  "nbformat_minor": 0,
  "metadata": {
    "colab": {
      "provenance": []
    },
    "kernelspec": {
      "name": "python3",
      "display_name": "Python 3"
    },
    "language_info": {
      "name": "python"
    }
  },
  "cells": [
    {
      "cell_type": "markdown",
      "source": [
        "1) **Explain the following with an example:**\n",
        "   \n",
        "   a. **Artificial Intelligence (AI):** Artificial Intelligence refers to the simulation of human intelligence in machines. For example, a virtual assistant like Siri or Alexa uses AI to understand and respond to user queries.\n",
        "  \n",
        "   b. **Machine Learning (ML):** Machine Learning is a subset of AI that focuses on enabling machines to learn from data. An example of machine learning is email spam detection, where the algorithm learns to differentiate between spam and non-spam emails based on labeled data.\n",
        "   \n",
        "   c. **Deep Learning (DL):** Deep Learning is a subset of machine learning that uses neural networks with many layers to learn from data. An example of deep learning is image recognition, where a deep neural network learns to recognize objects in images.\n",
        "\n",
        "---\n",
        "\n",
        "2) **What is supervised learning? List some examples of supervised learning.**\n",
        "   Supervised learning is a type of machine learning where the model is trained on labeled data, meaning the input data has corresponding output labels. Examples of supervised learning include:\n",
        "   - Image classification\n",
        "   - Spam email detection\n",
        "   - Predicting house prices\n",
        "\n",
        "---\n",
        "\n",
        "3) **What is unsupervised learning? List some examples of unsupervised learning.**\n",
        "   Unsupervised learning is a type of machine learning where the model is trained on unlabeled data, meaning the input data does not have corresponding output labels. Examples of unsupervised learning include:\n",
        "   - Clustering customer segments\n",
        "   - Topic modeling\n",
        "   - Anomaly detection\n",
        "\n",
        "---\n",
        "\n",
        "4) **What is the difference between AI, ML, DL, and DS?**\n",
        "   - AI (Artificial Intelligence) refers to the simulation of human intelligence in machines.\n",
        "   - ML (Machine Learning) is a subset of AI that focuses on enabling machines to learn from data.\n",
        "   - DL (Deep Learning) is a subset of ML that uses neural networks with many layers to learn from data.\n",
        "   - DS (Data Science) is a multidisciplinary field that uses various techniques, including ML and AI, to extract insights and knowledge from data.\n",
        "\n",
        "---\n",
        "\n",
        "5) **What are the main differences between supervised, unsupervised, and semi-supervised learning?**\n",
        "   Supervised learning uses labeled data, unsupervised learning uses unlabeled data, and semi-supervised learning uses a combination of both labeled and unlabeled data for training.\n",
        "\n",
        "---\n",
        "\n",
        "6) **What is train, test, and validation split? Explain the importance of each term.**\n",
        "   Train, test, and validation split is a common practice in machine learning where the available dataset is divided into three subsets:\n",
        "   - Training set: Used to train the model.\n",
        "   - Test set: Used to evaluate the model's performance.\n",
        "   - Validation set: Used to fine-tune the model's hyperparameters and avoid overfitting.\n",
        "\n",
        "---\n",
        "\n",
        "7) **How can unsupervised learning be used in anomaly detection?**\n",
        "   Unsupervised learning can be used in anomaly detection by identifying patterns or clusters in data and flagging data points that deviate significantly from these patterns or clusters as anomalies.\n",
        "\n",
        "---\n",
        "\n",
        "8) **List down some commonly used supervised learning algorithms and unsupervised learning algorithms.**\n",
        "   Commonly used supervised learning algorithms:\n",
        "   - Linear Regression\n",
        "   - Support Vector Machines (SVM)\n",
        "   - Decision Trees\n",
        "   - Random Forests\n",
        "   Commonly used unsupervised learning algorithms:\n",
        "   - K-means Clustering\n",
        "   - Hierarchical Clustering\n",
        "   - Principal Component Analysis (PCA)\n",
        "   - Autoencoders\n",
        "   ---"
      ],
      "metadata": {
        "id": "t8baIc0Owvo8"
      }
    }
  ]
}