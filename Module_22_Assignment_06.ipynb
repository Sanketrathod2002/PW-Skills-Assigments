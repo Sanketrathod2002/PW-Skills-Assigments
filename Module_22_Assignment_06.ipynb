{
  "nbformat": 4,
  "nbformat_minor": 0,
  "metadata": {
    "colab": {
      "provenance": []
    },
    "kernelspec": {
      "name": "python3",
      "display_name": "Python 3"
    },
    "language_info": {
      "name": "python"
    }
  },
  "cells": [
    {
      "cell_type": "markdown",
      "source": [
        "**Q1. What is the difference between Ordinal Encoding and Label Encoding? Provide an example of when you might choose one over the other.**\n",
        "\n",
        "**Answer:**\n",
        "- **Label Encoding:** Label encoding assigns a unique numerical value to each category in a categorical variable. It does not consider any inherent order or ranking among the categories.\n",
        "- **Ordinal Encoding:** Ordinal encoding assigns numerical values to categories based on their inherent order or rank. Categories are assigned numbers in ascending or descending order, reflecting their position in the sequence.\n",
        "\n",
        "**Example:**\n",
        "Consider the \"Size\" variable with categories \"small,\" \"medium,\" and \"large.\" If there is no inherent order, label encoding can be used. However, if there is a natural order (e.g., \"small\" < \"medium\" < \"large\"), ordinal encoding would be more appropriate.\n",
        "\n",
        "---\n",
        "\n",
        "**Q2. Explain how Target Guided Ordinal Encoding works and provide an example of when you might use it in a machine learning project.**\n",
        "\n",
        "**Answer:**\n",
        "Target Guided Ordinal Encoding is a method where categories in a categorical variable are encoded based on the target variable's mean or median value for each category. This encoding captures the relationship between the categorical variable and the target variable, making it useful for classification tasks.\n",
        "\n",
        "**Example:**\n",
        "In a customer churn prediction project, you might use Target Guided Ordinal Encoding for the \"Education Level\" variable. You encode each education level based on the average churn rate associated with it. Categories with higher churn rates receive higher encoded values, reflecting their impact on the target variable.\n",
        "\n",
        "---\n",
        "\n",
        "**Q3. Define covariance and explain why it is important in statistical analysis. How is covariance calculated?**\n",
        "\n",
        "**Answer:**\n",
        "Covariance measures the degree to which two variables change together. A positive covariance indicates that the variables tend to increase or decrease together, while a negative covariance indicates that they tend to move in opposite directions. Covariance is crucial in statistical analysis as it helps identify relationships between variables and understand how changes in one variable affect another.\n",
        "\n",
        "**Calculation:**\n",
        "Covariance between two variables X and Y is calculated as the average of the product of the deviations of each variable from their respective means\n",
        "\n",
        "---\n",
        "\n",
        "**Q4. For a dataset with the following categorical variables: Color (red, green, blue), Size (small, medium, large), and Material (wood, metal, plastic), perform label encoding using Python's scikit-learn library. Show your code and explain the output.**\n"
      ],
      "metadata": {
        "id": "Bgwu6FNG2xzu"
      }
    },
    {
      "cell_type": "code",
      "source": [
        "from sklearn.preprocessing import LabelEncoder\n",
        "\n",
        "data = {\n",
        "    'Color': ['red', 'green', 'blue', 'red', 'blue'],\n",
        "    'Size': ['small', 'medium', 'large', 'medium', 'small'],\n",
        "    'Material': ['wood', 'metal', 'plastic', 'metal', 'wood']\n",
        "}\n",
        "\n",
        "label_encoder = LabelEncoder()\n",
        "\n",
        "for column in data.keys():\n",
        "    data[column] = label_encoder.fit_transform(data[column])\n",
        "\n",
        "print(data)\n"
      ],
      "metadata": {
        "colab": {
          "base_uri": "https://localhost:8080/"
        },
        "id": "tuf8dfQ023DA",
        "outputId": "fcc585f6-f30d-4629-9819-f0a896931c75"
      },
      "execution_count": 3,
      "outputs": [
        {
          "output_type": "stream",
          "name": "stdout",
          "text": [
            "{'Color': array([2, 1, 0, 2, 0]), 'Size': array([2, 1, 0, 1, 2]), 'Material': array([2, 0, 1, 0, 2])}\n"
          ]
        }
      ]
    },
    {
      "cell_type": "markdown",
      "source": [
        "\n",
        "**Q5. Calculate the covariance matrix for the following variables in a dataset: Age, Income, and Education level. Interpret the results.**\n",
        "\n",
        "*Interpretation:*\n",
        "The covariance matrix shows the covariance values between pairs of variables. For example, a positive covariance between Age and Income indicates that, on average, as age increases, income also tends to increase. Conversely, a negative covariance between Age and Education level suggests that higher education levels are associated with lower ages in the dataset.\n",
        "\n",
        "---\n",
        "\n",
        "**Q6. You are working on a machine learning project with a dataset containing several categorical variables, including \"Gender\" (Male/Female), \"Education Level\" (High School/Bachelor's/Master's/PhD), and \"Employment Status\" (Unemployed/Part-Time/Full-Time). Which encoding method would you use for each variable, and why?**\n",
        "\n",
        "**Answer:**\n",
        "- **Gender:** Since there are only two categories and no inherent order, label encoding can be used (0 for Male, 1 for Female).\n",
        "- **Education Level:** There is a natural order among education levels (e.g., High School < Bachelor's < Master's < PhD), so ordinal encoding is appropriate.\n",
        "- **Employment Status:** Since there is no inherent order among employment statuses, label encoding can be used.\n",
        "\n",
        "---\n",
        "\n",
        "**Q7. You are analyzing a dataset with two continuous variables, \"Temperature\" and \"Humidity,\" and two categorical variables, \"Weather Condition\" (Sunny/Cloudy/Rainy) and \"Wind Direction\" (North/South/East/West). Calculate the covariance between each pair of variables and interpret the results.**\n",
        "\n",
        "**Interpretation:**\n",
        "- Covariance(Temperature, Humidity): Indicates the relationship between temperature and humidity. A positive covariance suggests that higher temperatures are associated with higher humidity levels, and vice versa.\n",
        "- Covariance(Temperature, Weather Condition): Indicates the relationship between temperature and weather conditions. Positive covariance with \"Sunny\" and negative covariance with \"Rainy\" suggest that temperature tends to be higher on sunny days and lower on rainy days.\n",
        "- Covariance(Temperature, Wind Direction) and Covariance(Humidity, Wind Direction): These covariances indicate the relationship between temperature/humidity and wind direction, respectively. Positive or negative values suggest associations between wind direction and temperature/humidity levels, though interpretation may vary depending on specific wind patterns and geographic factors.\n",
        "---"
      ],
      "metadata": {
        "id": "9UylvTUz2_gB"
      }
    }
  ]
}