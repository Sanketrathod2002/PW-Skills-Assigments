{
  "nbformat": 4,
  "nbformat_minor": 0,
  "metadata": {
    "colab": {
      "provenance": []
    },
    "kernelspec": {
      "name": "python3",
      "display_name": "Python 3"
    },
    "language_info": {
      "name": "python"
    }
  },
  "cells": [
    {
      "cell_type": "markdown",
      "source": [
        "---\n",
        "#**Q1. Explain the assumptions required to use ANOVA and provide examples of violations that could impact the validity of the results.**\n",
        "\n",
        "Assumptions of ANOVA (Analysis of Variance):\n",
        "1. Independence: The observations within each group are independent of each other.\n",
        "2. Normality: The residuals (the differences between the observed and predicted values) are normally distributed.\n",
        "3. Homogeneity of Variance (Homoscedasticity): The variance of the residuals is constant across all levels of the independent variable(s).\n",
        "\n",
        "Examples of Violations:\n",
        "1. Independence: Violation could occur if data points within groups are correlated, such as repeated measures or hierarchical data.\n",
        "2. Normality: Violation could occur if the residuals do not follow a normal distribution, which might happen if the sample size is too small or if outliers are present.\n",
        "3. Homogeneity of Variance: Violation could occur if the variance of the residuals is not constant across groups, which might happen if the groups have significantly different sample sizes or if there are outliers present.\n",
        "\n",
        "Violation of these assumptions can lead to inaccurate results and conclusions from ANOVA analysis.\n",
        "\n",
        "---\n",
        "#**Q2. What are the three types of ANOVA, and in what situations would each be used?**\n",
        "\n",
        "Three types of ANOVA:\n",
        "1. One-Way ANOVA: Compares means across two or more independent groups (levels) of a single categorical independent variable.\n",
        "2. Two-Way ANOVA: Analyzes the interaction effects between two independent variables (factors) on a dependent variable.\n",
        "3. N-Way ANOVA: Extends the concept of ANOVA to analyze the interaction effects between multiple independent variables on a dependent variable.\n",
        "\n",
        "Each type of ANOVA is used in different situations based on the research design and the number of independent variables involved.\n",
        "\n",
        "---\n",
        "#**Q3. What is the partitioning of variance in ANOVA, and why is it important to understand this concept?**\n",
        "\n",
        "Partitioning of variance in ANOVA involves decomposing the total variance observed in the data into different components:\n",
        "1. Total Sum of Squares (SST): The total variability observed in the dependent variable.\n",
        "2. Explained Sum of Squares (SSE): The variability explained by the independent variable(s) or factors.\n",
        "3. Residual Sum of Squares (SSR): The unexplained variability, also known as error variance, left over after accounting for the effects of the independent variable(s).\n",
        "\n",
        "Understanding this concept is important because it allows researchers to assess the relative importance of the independent variable(s) in explaining the variability in the dependent variable. It also helps in interpreting the results of ANOVA and identifying sources of variation in the data."
      ],
      "metadata": {
        "id": "ErFD7pBy0qJr"
      }
    },
    {
      "cell_type": "markdown",
      "source": [
        "---\n",
        "#**Q4. How would you calculate the total sum of squares (SST), explained sum of squares (SSE), and residual sum of squares (SSR) in a one-way ANOVA using Python?**"
      ],
      "metadata": {
        "id": "aIrFi5Ua00cK"
      }
    },
    {
      "cell_type": "code",
      "source": [
        "import numpy as np\n",
        "import scipy.stats as stats\n",
        "\n",
        "# Sample data\n",
        "group1 = [10, 12, 15, 14, 16]\n",
        "group2 = [18, 20, 22, 19, 21]\n",
        "group3 = [25, 28, 24, 27, 26]\n",
        "\n",
        "# Calculate means\n",
        "grand_mean = np.mean([group1 + group2 + group3])\n",
        "mean_group1 = np.mean(group1)\n",
        "mean_group2 = np.mean(group2)\n",
        "mean_group3 = np.mean(group3)\n",
        "\n",
        "# Calculate total sum of squares (SST)\n",
        "SST = np.sum((np.concatenate([group1, group2, group3]) - grand_mean) ** 2)\n",
        "\n",
        "# Calculate explained sum of squares (SSE)\n",
        "SSE = np.sum((np.array(group1) - mean_group1) ** 2) + np.sum((np.array(group2) - mean_group2) ** 2) + np.sum((np.array(group3) - mean_group3) ** 2)\n",
        "\n",
        "# Calculate residual sum of squares (SSR)\n",
        "SSR = SST - SSE\n",
        "\n",
        "# Calculate the total sum of squares (SST), explained sum of squares (SSE), and residual sum of squares (SSR)\n",
        "print(\"Total Sum of Squares (SST):\", SST)\n",
        "print(\"Explained Sum of Squares (SSE):\", SSE)\n",
        "print(\"Residual Sum of Squares (SSR):\", SSR)\n",
        "\n"
      ],
      "metadata": {
        "colab": {
          "base_uri": "https://localhost:8080/"
        },
        "id": "GCPsVHos06WE",
        "outputId": "59c77059-864d-401f-ec87-0fe53bf2611c"
      },
      "execution_count": 6,
      "outputs": [
        {
          "output_type": "stream",
          "name": "stdout",
          "text": [
            "Total Sum of Squares (SST): 440.4\n",
            "Explained Sum of Squares (SSE): 43.2\n",
            "Residual Sum of Squares (SSR): 397.2\n"
          ]
        }
      ]
    },
    {
      "cell_type": "markdown",
      "source": [
        "---\n",
        "#**Q5. In a two-way ANOVA, how would you calculate the main effects and interaction effects using Python?**"
      ],
      "metadata": {
        "id": "pYNcJp5g0-c6"
      }
    },
    {
      "cell_type": "code",
      "source": [
        "import pandas as pd\n",
        "import statsmodels.api as sm\n",
        "from statsmodels.formula.api import ols\n",
        "\n",
        "# Define a sample dataset\n",
        "data = pd.DataFrame({\n",
        "    'dependent_variable': [10, 15, 20, 25, 30, 12, 18, 22, 28, 35],\n",
        "    'factor1': ['A'] * 5 + ['B'] * 5,  # Example levels for factor 1\n",
        "    'factor2': ['X', 'Y'] * 5  # Example levels for factor 2\n",
        "})\n",
        "\n",
        "# Fit the ANOVA model\n",
        "model = ols('dependent_variable ~ C(factor1) + C(factor2) + C(factor1) * C(factor2)', data=data).fit()\n",
        "\n",
        "# Perform ANOVA\n",
        "anova_table = sm.stats.anova_lm(model, typ=2)\n",
        "\n",
        "# Extract main effects and interaction effects\n",
        "main_effects = anova_table['sum_sq'][:-1]\n",
        "interaction_effect = anova_table['sum_sq'][-1]\n",
        "\n",
        "# Print the results\n",
        "print(\"Main Effects:\", main_effects)\n",
        "print(\"Interaction Effect:\", interaction_effect)\n"
      ],
      "metadata": {
        "colab": {
          "base_uri": "https://localhost:8080/"
        },
        "id": "JjswQ8JR0ziy",
        "outputId": "5d355c60-7d9a-471c-e478-a304096e0c9f"
      },
      "execution_count": 8,
      "outputs": [
        {
          "output_type": "stream",
          "name": "stdout",
          "text": [
            "Main Effects: C(factor1)               2.160000e+01\n",
            "C(factor2)               1.305668e-28\n",
            "C(factor1):C(factor2)    2.187906e-28\n",
            "Name: sum_sq, dtype: float64\n",
            "Interaction Effect: 566.0\n"
          ]
        }
      ]
    },
    {
      "cell_type": "markdown",
      "source": [
        "---\n",
        "#**Q6. Suppose you conducted a one-way ANOVA and obtained an F-statistic of 5.23 and a p-value of 0.02. What can you conclude about the differences between the groups, and how would you interpret these results?**\n",
        "In this scenario:\n",
        "- The F-statistic of 5.23 indicates that there is some variation between the group means.\n",
        "- The p-value of 0.02 is less than the significance level (e.g., 0.05), indicating that there is sufficient evidence to reject the null hypothesis of no difference between the group means.\n",
        "\n",
        "Therefore, we conclude that there are statistically significant differences between at least two of the group means. However, further post-hoc tests may be needed to determine which specific groups differ from each other."
      ],
      "metadata": {
        "id": "ZoWoLPIa1DM-"
      }
    },
    {
      "cell_type": "code",
      "source": [
        "import numpy as np\n",
        "import scipy.stats as stats\n",
        "import matplotlib.pyplot as plt\n",
        "\n",
        "# Given values\n",
        "F_statistic = 5.23\n",
        "alpha = 0.05  # Significance level\n",
        "\n",
        "# Define degrees of freedom\n",
        "k = 3  # Number of groups\n",
        "n = 50  # Total number of observations\n",
        "\n",
        "# Plotting the F-distribution with degrees of freedom\n",
        "df_between = k - 1  # degrees of freedom between groups\n",
        "df_within = n - k   # degrees of freedom within groups\n",
        "x = np.linspace(0, 10, 1000)\n",
        "y = stats.f.pdf(x, df_between, df_within)\n",
        "\n",
        "# Plot the F-distribution\n",
        "plt.plot(x, y, 'b-', label='F-distribution')\n",
        "\n",
        "# Plot the critical F-value\n",
        "critical_f_value = stats.f.ppf(1 - alpha, df_between, df_within)\n",
        "plt.axvline(x=critical_f_value, color='r', linestyle='--', label=f'Critical F-value (α={alpha})')\n",
        "\n",
        "# Fill the area beyond the critical F-value\n",
        "plt.fill_between(x, y, where=(x >= critical_f_value), color='red', alpha=0.3)\n",
        "\n",
        "# Add labels and legend\n",
        "plt.xlabel('F-value')\n",
        "plt.ylabel('Density')\n",
        "plt.title('One-Way ANOVA F-test')\n",
        "plt.legend()\n",
        "plt.show()\n"
      ],
      "metadata": {
        "colab": {
          "base_uri": "https://localhost:8080/",
          "height": 472
        },
        "id": "usAhYalW1GRX",
        "outputId": "c3f00bd4-2146-44de-e844-3980eedd4608"
      },
      "execution_count": 10,
      "outputs": [
        {
          "output_type": "display_data",
          "data": {
            "text/plain": [
              "<Figure size 640x480 with 1 Axes>"
            ],
            "image/png": "[encoded data removed]"
          },
          "metadata": {}
        }
      ]
    }
  ]
}