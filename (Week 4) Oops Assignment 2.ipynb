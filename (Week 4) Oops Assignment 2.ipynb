{
 "cells": [
  {
   "cell_type": "code",
   "execution_count": 5,
   "id": "5237f007",
   "metadata": {},
   "outputs": [
    {
     "name": "stdout",
     "output_type": "stream",
     "text": [
      "Bhoo!\n",
      "Meow!\n"
     ]
    }
   ],
   "source": [
    "'''\n",
    "Q1. What is Abstraction in OOps? Explain with an example.\n",
    "'''\n",
    "\n",
    "# Ans :-\n",
    "'''\n",
    "Abstraction is a concept in object-oriented programming (OOP) that focuses on hiding the internal details of an object and \n",
    "providing only essential information or functionality to the outside world. It allows you to represent complex real-world \n",
    "entities as classes and provides a simplified view of their behavior.\n",
    "'''\n",
    "\n",
    "# Program :-\n",
    "from abc import ABC, abstractmethod\n",
    "\n",
    "class Animal(ABC):\n",
    "    @abstractmethod\n",
    "    def sound(self):\n",
    "        pass\n",
    "\n",
    "class Dog(Animal):\n",
    "    def sound(self):\n",
    "        print(\"Bhoo!\")\n",
    "\n",
    "class Cat(Animal):\n",
    "    def sound(self):\n",
    "        print(\"Meow!\")\n",
    "\n",
    "dog = Dog()\n",
    "dog.sound() \n",
    "\n",
    "cat = Cat()\n",
    "cat.sound()  \n"
   ]
  },
  {
   "cell_type": "code",
   "execution_count": 6,
   "id": "2fba6175",
   "metadata": {},
   "outputs": [
    {
     "name": "stdout",
     "output_type": "stream",
     "text": [
      "500\n"
     ]
    }
   ],
   "source": [
    "'''\n",
    "Q2. Differentiate between Abstraction and Encapsulation. Explain with an example.\n",
    "'''\n",
    "\n",
    "# Ans :-\n",
    "'''\n",
    "Abstraction focuses on providing a simplified view of an object by hiding unnecessary details, while encapsulation focuses \n",
    "on bundling the data and methods together within a class and controlling access to them.\n",
    "'''\n",
    "\n",
    "# Program :-\n",
    "class BankAccount:\n",
    "    def __init__(self):\n",
    "        self.balance = 0\n",
    "\n",
    "    def deposit(self, amount):\n",
    "        self.balance += amount\n",
    "\n",
    "    def withdraw(self, amount):\n",
    "        if amount <= self.balance:\n",
    "            self.balance -= amount\n",
    "        else:\n",
    "            print(\"Insufficient funds\")\n",
    "\n",
    "    def get_balance(self):\n",
    "        return self.balance\n",
    "\n",
    "\n",
    "account = BankAccount()\n",
    "account.deposit(1000)\n",
    "account.withdraw(500)\n",
    "print(account.get_balance()) \n"
   ]
  },
  {
   "cell_type": "code",
   "execution_count": 11,
   "id": "b1785ec9",
   "metadata": {},
   "outputs": [
    {
     "name": "stdout",
     "output_type": "stream",
     "text": [
      "20\n",
      "18\n",
      "28.259999999999998\n",
      "18.84\n"
     ]
    }
   ],
   "source": [
    "'''\n",
    "Q3. What is abc module in python? Why is it used?\n",
    "'''\n",
    "\n",
    "# Ans :-\n",
    "'''\n",
    "The abc module in Python stands for \"Abstract Base Classes.\" It provides infrastructure for defining abstract base classes, \n",
    "which are classes that cannot be instantiated directly but serve as a blueprint for other classes.\n",
    "'''\n",
    "\n",
    "# Program :-\n",
    "from abc import ABC, abstractmethod\n",
    "\n",
    "class Shape(ABC):\n",
    "    @abstractmethod\n",
    "    def area(self):\n",
    "        pass\n",
    "\n",
    "    @abstractmethod\n",
    "    def perimeter(self):\n",
    "        pass\n",
    "\n",
    "class Rectangle(Shape):\n",
    "    def __init__(self, width, height):\n",
    "        self.width = width\n",
    "        self.height = height\n",
    "\n",
    "    def area(self):\n",
    "        return self.width * self.height\n",
    "\n",
    "    def perimeter(self):\n",
    "        return 2 * (self.width + self.height)\n",
    "\n",
    "class Circle(Shape):\n",
    "    def __init__(self, radius):\n",
    "        self.radius = radius\n",
    "\n",
    "    def area(self):\n",
    "        return 3.14 * self.radius * self.radius\n",
    "\n",
    "    def perimeter(self):\n",
    "        return 2 * 3.14 * self.radius\n",
    "\n",
    "rectangle = Rectangle(4, 5)\n",
    "print(rectangle.area())  # Output: 20\n",
    "print(rectangle.perimeter())  # Output: 18\n",
    "\n",
    "circle = Circle(3)\n",
    "print(circle.area())  # Output: 28.26\n",
    "print(circle.perimeter())  # Output: 18.84\n",
    "\n"
   ]
  },
  {
   "cell_type": "code",
   "execution_count": 12,
   "id": "03b4a212",
   "metadata": {},
   "outputs": [
    {
     "name": "stdout",
     "output_type": "stream",
     "text": [
      "Sanket\n",
      "50000\n",
      "60000\n"
     ]
    }
   ],
   "source": [
    "'''\n",
    "Q4. How can we achieve data abstraction?\n",
    "'''\n",
    "\n",
    "# Ans :-\n",
    "'''\n",
    "Data abstraction can be achieved in Python by using classes, methods, and access modifiers.\n",
    "'''\n",
    "\n",
    "# Program :-\n",
    "class Employee:\n",
    "    def __init__(self, name, salary):\n",
    "        self.name = name\n",
    "        self.__salary = salary  \n",
    "\n",
    "    def get_salary(self):\n",
    "        return self.__salary\n",
    "\n",
    "    def set_salary(self, new_salary):\n",
    "        self.__salary = new_salary\n",
    "\n",
    "\n",
    "employee = Employee(\"Sanket\", 50000)\n",
    "print(employee.name)  \n",
    "\n",
    "print(employee.get_salary())  \n",
    "\n",
    "employee.set_salary(60000)\n",
    "print(employee.get_salary())\n"
   ]
  },
  {
   "cell_type": "code",
   "execution_count": null,
   "id": "a04f3d8b",
   "metadata": {},
   "outputs": [],
   "source": [
    "'''\n",
    "Q5. Can we create an instance of an abstract class? Explain your answer.\n",
    "'''\n",
    "\n",
    "# Ans :-\n",
    "'''\n",
    "No, we cannot create an instance of an abstract class. Abstract classes are designed to serve as blueprints for other \n",
    "classes and cannot be instantiated directly. \n",
    "'''\n",
    "\n",
    "# Program :-\n",
    "from abc import ABC, abstractmethod\n",
    "\n",
    "class MyAbstractClass(ABC):\n",
    "    @abstractmethod\n",
    "    def my_method(self):\n",
    "        pass\n",
    "\n",
    "my_instance = MyAbstractClass()\n",
    "\n",
    "\n",
    "# Show below error\n",
    "# TypeError: Can't instantiate abstract class MyAbstractClass with abstract method my_method"
   ]
  }
 ],
 "metadata": {
  "kernelspec": {
   "display_name": "Python 3 (ipykernel)",
   "language": "python",
   "name": "python3"
  },
  "language_info": {
   "codemirror_mode": {
    "name": "ipython",
    "version": 3
   },
   "file_extension": ".py",
   "mimetype": "text/x-python",
   "name": "python",
   "nbconvert_exporter": "python",
   "pygments_lexer": "ipython3",
   "version": "3.10.9"
  }
 },
 "nbformat": 4,
 "nbformat_minor": 5
}
