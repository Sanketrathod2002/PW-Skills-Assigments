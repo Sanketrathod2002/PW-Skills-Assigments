{
  "nbformat": 4,
  "nbformat_minor": 0,
  "metadata": {
    "colab": {
      "provenance": []
    },
    "kernelspec": {
      "name": "python3",
      "display_name": "Python 3"
    },
    "language_info": {
      "name": "python"
    }
  },
  "cells": [
    {
      "cell_type": "markdown",
      "source": [
        "Q1. **What is the Filter method in feature selection, and how does it work?**\n",
        "   - The Filter method in feature selection involves evaluating the relevance of each feature independently of the predictive model. It works by ranking features based on their statistical properties, such as correlation with the target variable or information gain. Features are then selected or discarded based on predefined criteria, such as a threshold for correlation or significance level for statistical tests.\n",
        "\n",
        "---\n",
        "\n",
        "Q2. **How does the Wrapper method differ from the Filter method in feature selection?**\n",
        "   - Unlike the Filter method, the Wrapper method evaluates feature subsets by training and testing the predictive model using different combinations of features. It iteratively searches through the space of possible feature subsets, selecting the subset that optimizes a predefined performance metric, such as accuracy or error rate. The Wrapper method tends to be more computationally expensive but can potentially find more informative feature combinations compared to the Filter method.\n",
        "\n",
        "---\n",
        "\n",
        "Q3. **What are some common techniques used in Embedded feature selection methods?**\n",
        "   - Common techniques used in Embedded feature selection methods include:\n",
        "     - Lasso (L1 regularization): Penalizes the absolute size of the coefficients in linear models, leading to automatic feature selection.\n",
        "     - Ridge (L2 regularization): Penalizes the squared magnitude of the coefficients in linear models, which can shrink less important features.\n",
        "     - Decision tree-based methods: Trees can naturally perform feature selection by selecting the most informative features at each split.\n",
        "     - Feature importance scores: Algorithms like Random Forest or Gradient Boosting Machines provide feature importance scores that can be used for feature selection.\n",
        "\n",
        "---\n",
        "\n",
        "Q4. **What are some drawbacks of using the Filter method for feature selection?**\n",
        "   - Drawbacks of the Filter method include:\n",
        "     - It does not consider the interaction between features, potentially leading to suboptimal feature subsets.\n",
        "     - It relies on predefined criteria for feature selection, which may not always capture the most relevant features for the predictive model.\n",
        "     - It may discard potentially useful features if they do not meet the predefined criteria, leading to information loss.\n",
        "\n",
        "---\n",
        "\n",
        "Q5. **In which situations would you prefer using the Filter method over the Wrapper method for feature selection?**\n",
        "   - The Filter method may be preferred over the Wrapper method when:\n",
        "     - There is a large number of features, and computational resources are limited.\n",
        "     - The relationship between features and the target variable is relatively simple and can be adequately captured by univariate analysis.\n",
        "     - There is a need for a quick initial feature selection step before applying more computationally expensive methods like the Wrapper method.\n",
        "\n",
        "---\n",
        "\n",
        "Q6. **In a telecom company, you are working on a project to develop a predictive model for customer churn. You are unsure of which features to include in the model because the dataset contains several different ones. Describe how you would choose the most pertinent attributes for the model using the Filter Method.**\n",
        "   - To choose the most pertinent attributes using the Filter Method for the customer churn predictive model:\n",
        "     - Calculate the correlation between each feature and the target variable (churn).\n",
        "     - Rank the features based on their correlation coefficient or other relevant statistical measures.\n",
        "     - Select the top-ranking features that show the strongest relationship with churn for further analysis and model development.\n",
        "\n",
        "---\n",
        "\n",
        "Q7. **You are working on a project to predict the outcome of a soccer match. You have a large dataset with many features, including player statistics and team rankings. Explain how you would use the Embedded method to select the most relevant features for the model.**\n",
        "   - To use the Embedded method for feature selection in predicting soccer match outcomes:\n",
        "     - Train a machine learning model (e.g., Random Forest or Gradient Boosting Machine) on the dataset.\n",
        "     - Use the built-in feature importance scores provided by the model to identify the most relevant features.\n",
        "     - Select the top-ranking features based on their importance scores for further analysis and model refinement.\n",
        "\n",
        "---\n",
        "\n",
        "Q8. **You are working on a project to predict the price of a house based on its features, such as size, location, and age. You have a limited number of features, and you want to ensure that you select the most important ones for the model. Explain how you would use the Wrapper method to select the best set of features for the predictor.**\n",
        "   - To use the Wrapper method for feature selection in predicting house prices:\n",
        "     - Use a feature selection algorithm such as Recursive Feature Elimination (RFE) with cross-validation.\n",
        "     - Train the predictive model (e.g., linear regression) using different subsets of features.\n",
        "     - Evaluate the performance of the model for each feature subset using cross-validation.\n",
        "     - Select the subset of features that maximizes the model's performance metric (e.g., R-squared or Mean Squared Error) as the best set of features for the predictor.\n",
        "\n",
        "     ---"
      ],
      "metadata": {
        "id": "4VD_GVukx8VB"
      }
    },
    {
      "cell_type": "code",
      "source": [],
      "metadata": {
        "id": "KU2iAxp-yFkp"
      },
      "execution_count": null,
      "outputs": []
    }
  ]
}