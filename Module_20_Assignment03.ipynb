{
  "nbformat": 4,
  "nbformat_minor": 0,
  "metadata": {
    "colab": {
      "provenance": []
    },
    "kernelspec": {
      "name": "python3",
      "display_name": "Python 3"
    },
    "language_info": {
      "name": "python"
    }
  },
  "cells": [
    {
      "cell_type": "markdown",
      "source": [
        "---\n",
        "#**Q1: What is Estimation Statistics? Explain point estimate and interval estimate.**\n",
        "\n",
        "Estimation statistics involves estimating population parameters based on sample statistics.\n",
        "- Point estimate: A single value that serves as the best guess or estimate of a population parameter. For example, the sample mean is often used as a point estimate of the population mean.\n",
        "- Interval estimate: A range of values that is likely to contain the true population parameter. It provides a measure of uncertainty around the point estimate. For example, a confidence interval is an interval estimate of the population parameter.\n",
        "\n",
        "---\n",
        "#**Q2. Write a Python function to estimate the population mean using a sample mean and standard deviation.**\n",
        "\n"
      ],
      "metadata": {
        "id": "2G03qmBWrHQx"
      }
    },
    {
      "cell_type": "code",
      "source": [
        "def estimate_population_mean(sample_mean, sample_std_dev, sample_size):\n",
        "    import scipy.stats as stats\n",
        "\n",
        "    # Calculate the standard error of the mean\n",
        "    standard_error = sample_std_dev / (sample_size ** 0.5)\n",
        "\n",
        "    # Use a t-distribution with (n-1) degrees of freedom to calculate the margin of error\n",
        "    margin_of_error = stats.t.ppf(0.975, df=sample_size-1) * standard_error\n",
        "\n",
        "    # Calculate the confidence interval\n",
        "    lower_bound = sample_mean - margin_of_error\n",
        "    upper_bound = sample_mean + margin_of_error\n",
        "\n",
        "    return lower_bound, upper_bound\n",
        "\n",
        "# Example usage\n",
        "sample_mean = 50\n",
        "sample_std_dev = 10\n",
        "sample_size = 30\n",
        "lower_bound, upper_bound = estimate_population_mean(sample_mean, sample_std_dev, sample_size)\n",
        "print(\"95% Confidence Interval for Population Mean:\", (lower_bound, upper_bound))"
      ],
      "metadata": {
        "colab": {
          "base_uri": "https://localhost:8080/"
        },
        "id": "8jUUEJ4drPU5",
        "outputId": "5bda47bb-c06f-4791-e403-01a8b8ce901b"
      },
      "execution_count": 1,
      "outputs": [
        {
          "output_type": "stream",
          "name": "stdout",
          "text": [
            "95% Confidence Interval for Population Mean: (46.265938632419, 53.734061367581)\n"
          ]
        }
      ]
    },
    {
      "cell_type": "markdown",
      "source": [
        "---\n",
        "#**Q3: What is Hypothesis testing? Why is it used? State the importance of Hypothesis testing.**\n",
        "\n",
        "Hypothesis testing is a statistical method used to make inferences about population parameters based on sample data. It involves comparing the observed data to what would be expected under a null hypothesis. Hypothesis testing is used to:\n",
        "\n",
        "Determine whether observed differences or relationships in data are statistically significant.\n",
        "Make decisions based on the evidence from the data.\n",
        "Test research hypotheses and answer research questions in various fields.\n",
        "\n",
        "\n",
        "---\n",
        "#**Q4. Create a hypothesis that states whether the average weight of male college students is greater than the average weight of female college students.**\n",
        "\n",
        "Null hypothesis (H0): The average weight of male college students is equal to or less than the average weight of female college students.\n",
        "Alternative hypothesis (H1): The average weight of male college students is greater than the average weight of female college students."
      ],
      "metadata": {
        "id": "TnMgYFavrXyR"
      }
    },
    {
      "cell_type": "markdown",
      "source": [
        "---\n",
        "#**Q5. Write a Python script to conduct a hypothesis test on the difference between two population means, given a sample from each population.**"
      ],
      "metadata": {
        "id": "kEE7_y_IrlzZ"
      }
    },
    {
      "cell_type": "code",
      "source": [
        "import scipy.stats as stats\n",
        "\n",
        "def two_sample_t_test(sample1, sample2):\n",
        "    stat, p_value = stats.ttest_ind(sample1, sample2)\n",
        "    return stat, p_value\n",
        "\n",
        "# Example usage\n",
        "sample1 = [67, 68, 70, 71, 72]\n",
        "sample2 = [65, 66, 68, 69, 70]\n",
        "statistic, p_value = two_sample_t_test(sample1, sample2)\n",
        "print(\"Test Statistic:\", statistic)\n",
        "print(\"P-value:\", p_value)\n"
      ],
      "metadata": {
        "colab": {
          "base_uri": "https://localhost:8080/"
        },
        "id": "EIapcbp2rpDf",
        "outputId": "bf48b245-b664-408a-a5a4-0771fc12247d"
      },
      "execution_count": 2,
      "outputs": [
        {
          "output_type": "stream",
          "name": "stdout",
          "text": [
            "Test Statistic: 1.5249857033260468\n",
            "P-value: 0.16577177203911256\n"
          ]
        }
      ]
    },
    {
      "cell_type": "markdown",
      "source": [
        "---\n",
        "#**Q6: What is a null and alternative hypothesis? Give some examples.**\n",
        "\n",
        "Null hypothesis (H0): A statement that assumes there is no significant difference or relationship between variables or populations.\n",
        "Example: There is no difference in test scores between students who received tutoring and those who did not.\n",
        "Alternative hypothesis (H1): A statement that contradicts the null hypothesis and suggests there is a significant difference or relationship.\n",
        "Example: Students who received tutoring have higher test scores than those who did not.\n",
        "\n",
        "---\n",
        "#**Q7: Write down the steps involved in hypothesis testing.**\n",
        "\n",
        "State the hypotheses (null and alternative).\n",
        "Choose the appropriate test statistic and significance level (alpha).\n",
        "Collect and analyze sample data.\n",
        "Calculate the test statistic and p-value.\n",
        "Make a decision: Reject the null hypothesis if the p-value is less than the significance level, or fail to reject the null hypothesis otherwise.\n",
        "Draw conclusions and interpret the results.\n",
        "\n",
        "\n",
        "---\n",
        "#**Q8. Define p-value and explain its significance in hypothesis testing.**\n",
        "The p-value is the probability of observing a test statistic as extreme as, or more extreme than, the one calculated from the sample data, assuming the null hypothesis is true. It indicates the strength of evidence against the null hypothesis. A smaller p-value suggests stronger evidence against the null hypothesis, leading to its rejection.\n",
        "\n",
        "---\n",
        "#**Q9. Generate a Student's t-distribution plot using Python's matplotlib library, with the degrees of freedom parameter set to 10.**"
      ],
      "metadata": {
        "id": "uX66dh1rrqvq"
      }
    },
    {
      "cell_type": "code",
      "source": [
        "import numpy as np\n",
        "import matplotlib.pyplot as plt\n",
        "\n",
        "degrees_of_freedom = 10\n",
        "x = np.linspace(-4, 4, 1000)\n",
        "y = stats.t.pdf(x, df=degrees_of_freedom)\n",
        "\n",
        "plt.plot(x, y)\n",
        "plt.title(\"Student's t-Distribution (df=10)\")\n",
        "plt.xlabel(\"t-value\")\n",
        "plt.ylabel(\"Probability Density\")\n",
        "plt.show()\n"
      ],
      "metadata": {
        "colab": {
          "base_uri": "https://localhost:8080/",
          "height": 472
        },
        "id": "uMU3DasIr6hV",
        "outputId": "8359fbac-1e94-442a-936d-c2f4d924b5f6"
      },
      "execution_count": 3,
      "outputs": [
        {
          "output_type": "display_data",
          "data": {
            "text/plain": [
              "<Figure size 640x480 with 1 Axes>"
            ],
            "image/png": "[encoded data removed]"
          },
          "metadata": {}
        }
      ]
    },
    {
      "cell_type": "markdown",
      "source": [
        "---\n",
        "#**Q10. Write a Python program to calculate the two-sample t-test for independent samples, given two random samples of equal size and a null hypothesis that the population means are equal.**"
      ],
      "metadata": {
        "id": "f5h61pEgr8FA"
      }
    },
    {
      "cell_type": "code",
      "source": [
        "def two_sample_t_test(sample1, sample2):\n",
        "    stat, p_value = stats.ttest_ind(sample1, sample2)\n",
        "    return stat, p_value\n",
        "\n",
        "# Example usage\n",
        "sample1 = [67, 68, 70, 71, 72]\n",
        "sample2 = [65, 66, 68, 69, 70]\n",
        "statistic, p_value = two_sample_t_test(sample1, sample2)\n",
        "print(\"Test Statistic:\", statistic)\n",
        "print(\"P-value:\", p_value)\n"
      ],
      "metadata": {
        "colab": {
          "base_uri": "https://localhost:8080/"
        },
        "id": "AgPFMD45sB7K",
        "outputId": "7c6300fd-ce45-4d2b-c8d8-ffeb5c039d83"
      },
      "execution_count": 4,
      "outputs": [
        {
          "output_type": "stream",
          "name": "stdout",
          "text": [
            "Test Statistic: 1.5249857033260468\n",
            "P-value: 0.16577177203911256\n"
          ]
        }
      ]
    },
    {
      "cell_type": "markdown",
      "source": [
        "---\n",
        "#**Q11: What is Student’s t distribution? When to use the t-Distribution.**\n",
        "\n",
        "Student's t-distribution is a probability distribution that arises when estimating the mean of a normally distributed population with unknown standard deviation. It is similar to the standard normal distribution but has heavier tails, which allows for more uncertainty when dealing with small sample sizes. The t-distribution is used in hypothesis testing and confidence interval estimation when the population standard deviation is unknown and the sample size is small.\n",
        "\n",
        "---\n",
        "#**Q12: What is t-statistic? State the formula for t-statistic.**\n",
        "\n",
        "The t-statistic is a measure used in hypothesis testing to determine if there is a significant difference between the means of two groups or if a sample mean differs significantly from a population mean. The formula for the t-statistic is:\n",
        "\n",
        "t = (x̄ - μ) / (s / √n)\n",
        "\n",
        "Where:\n",
        "- x̄ is the sample mean\n",
        "- μ is the population mean (or hypothesized mean under the null hypothesis)\n",
        "- s is the sample standard deviation\n",
        "- n is the sample size\n",
        "\n",
        "---\n",
        "#**Q13. A coffee shop owner wants to estimate the average daily revenue for their shop. They take a random sample of 50 days and find the sample mean revenue to be 500 with a standard deviation of  50. Estimate the population mean revenue with a 95% confidence interval.**"
      ],
      "metadata": {
        "id": "Kaqrbs_AsDsO"
      }
    },
    {
      "cell_type": "code",
      "source": [
        "import scipy.stats as stats\n",
        "\n",
        "sample_mean = 500\n",
        "sample_std_dev = 50\n",
        "sample_size = 50\n",
        "confidence_level = 0.95\n",
        "\n",
        "margin_of_error = stats.t.ppf((1 + confidence_level) / 2, df=sample_size-1) * (sample_std_dev / (sample_size ** 0.5))\n",
        "lower_bound = sample_mean - margin_of_error\n",
        "upper_bound = sample_mean + margin_of_error\n",
        "\n",
        "print(\"95% Confidence Interval for Population Mean Revenue:\", (lower_bound, upper_bound))\n"
      ],
      "metadata": {
        "colab": {
          "base_uri": "https://localhost:8080/"
        },
        "id": "d4XMM0ahsUgd",
        "outputId": "c9d49378-6fa3-472b-dd0f-1f15d021f781"
      },
      "execution_count": 5,
      "outputs": [
        {
          "output_type": "stream",
          "name": "stdout",
          "text": [
            "95% Confidence Interval for Population Mean Revenue: (485.79015724388137, 514.2098427561186)\n"
          ]
        }
      ]
    },
    {
      "cell_type": "markdown",
      "source": [
        "---\n",
        "#**Q14. A researcher hypothesizes that a new drug will decrease blood pressure by 10 mmHg. They conduct a clinical trial with 100 patients and find that the sample mean decrease in blood pressure is 8 mmHg with a standard deviation of 3 mmHg. Test the hypothesis with a significance level of 0.05.**"
      ],
      "metadata": {
        "id": "15BZRlZhsWk-"
      }
    },
    {
      "cell_type": "code",
      "source": [
        "import scipy.stats as stats\n",
        "\n",
        "sample_mean = 8\n",
        "null_hypothesis = 10\n",
        "sample_std_dev = 3\n",
        "sample_size = 100\n",
        "significance_level = 0.05\n",
        "\n",
        "t_statistic = (sample_mean - null_hypothesis) / (sample_std_dev / (sample_size ** 0.5))\n",
        "p_value = stats.t.cdf(t_statistic, df=sample_size-1)\n",
        "\n",
        "if p_value < significance_level:\n",
        "    print(\"Reject null hypothesis: There is evidence to suggest that the drug decreases blood pressure.\")\n",
        "else:\n",
        "    print(\"Fail to reject null hypothesis: There is no evidence to suggest that the drug decreases blood pressure.\")\n"
      ],
      "metadata": {
        "colab": {
          "base_uri": "https://localhost:8080/"
        },
        "id": "zhhxN0CmsV9-",
        "outputId": "8c477da4-7a9c-45a3-e1f7-71397fe915d1"
      },
      "execution_count": 6,
      "outputs": [
        {
          "output_type": "stream",
          "name": "stdout",
          "text": [
            "Reject null hypothesis: There is evidence to suggest that the drug decreases blood pressure.\n"
          ]
        }
      ]
    },
    {
      "cell_type": "markdown",
      "source": [
        "---\n",
        "#**Q15. An electronics company produces a certain type of product with a mean weight of 5 pounds and a standard deviation of 0.5 pounds. A random sample of 25 products is taken, and the sample mean weight is found to be 4.8 pounds. Test the hypothesis that the true mean weight of the products is less than 5 pounds with a significance level of 0.01.**"
      ],
      "metadata": {
        "id": "UY_rwq_KtG_C"
      }
    },
    {
      "cell_type": "code",
      "source": [
        "import scipy.stats as stats\n",
        "\n",
        "sample_mean = 4.8\n",
        "null_hypothesis = 5\n",
        "sample_std_dev = 0.5\n",
        "sample_size = 25\n",
        "significance_level = 0.01\n",
        "\n",
        "t_statistic = (sample_mean - null_hypothesis) / (sample_std_dev / (sample_size ** 0.5))\n",
        "p_value = stats.t.cdf(t_statistic, df=sample_size-1)\n",
        "\n",
        "if p_value < significance_level:\n",
        "    print(\"Reject null hypothesis: The true mean weight of the products is less than 5 pounds.\")\n",
        "else:\n",
        "    print(\"Fail to reject null hypothesis: There is insufficient evidence to suggest that the true mean weight is less than 5 pounds.\")\n"
      ],
      "metadata": {
        "colab": {
          "base_uri": "https://localhost:8080/"
        },
        "id": "PHYdtgOYtMTe",
        "outputId": "1bcbb5a5-526f-4a6b-97d2-4721997389f7"
      },
      "execution_count": 7,
      "outputs": [
        {
          "output_type": "stream",
          "name": "stdout",
          "text": [
            "Fail to reject null hypothesis: There is insufficient evidence to suggest that the true mean weight is less than 5 pounds.\n"
          ]
        }
      ]
    },
    {
      "cell_type": "markdown",
      "source": [
        "---\n",
        "#**Q16. Two groups of students are given different study materials to prepare for a test. The first group (n1 = 30) has a mean score of 80 with a standard deviation of 10, and the second group (n2 = 40) has a mean score of 75 with a standard deviation of 8. Test the hypothesis that the population means for the two groups are equal with a significance level of 0.01.**"
      ],
      "metadata": {
        "id": "5eYT2bEztONo"
      }
    },
    {
      "cell_type": "code",
      "source": [
        "import scipy.stats as stats\n",
        "\n",
        "mean1 = 80\n",
        "mean2 = 75\n",
        "std_dev1 = 10\n",
        "std_dev2 = 8\n",
        "n1 = 30\n",
        "n2 = 40\n",
        "significance_level = 0.01\n",
        "\n",
        "# Calculate the pooled standard error\n",
        "pooled_std_error = ((std_dev1**2 / n1) + (std_dev2**2 / n2))**0.5\n",
        "\n",
        "# Calculate the t-statistic\n",
        "t_statistic = (mean1 - mean2) / pooled_std_error\n",
        "\n",
        "# Calculate the degrees of freedom\n",
        "degrees_of_freedom = n1 + n2 - 2\n",
        "\n",
        "# Calculate the p-value\n",
        "p_value = stats.t.sf(abs(t_statistic), degrees_of_freedom) * 2\n",
        "\n",
        "if p_value < significance_level:\n",
        "    print(\"Reject null hypothesis: The population means for the two groups are not equal.\")\n",
        "else:\n",
        "    print(\"Fail to reject null hypothesis: There is insufficient evidence to suggest that the population means are different.\")\n"
      ],
      "metadata": {
        "colab": {
          "base_uri": "https://localhost:8080/"
        },
        "id": "PHFqv-yfta0V",
        "outputId": "3f4894e9-fa6b-4aa7-df99-fc42a59e04d9"
      },
      "execution_count": 12,
      "outputs": [
        {
          "output_type": "stream",
          "name": "stdout",
          "text": [
            "Fail to reject null hypothesis: There is insufficient evidence to suggest that the population means are different.\n"
          ]
        }
      ]
    },
    {
      "cell_type": "markdown",
      "source": [
        "---\n",
        "#**Q17. A marketing company wants to estimate the average number of ads watched by viewers during a TV program. They take a random sample of 50 viewers and find that the sample mean is 4 with a standard deviation of 1.5. Estimate the population mean with a 99% confidence interval.**\n"
      ],
      "metadata": {
        "id": "NfcBoZb3t7hy"
      }
    },
    {
      "cell_type": "code",
      "source": [
        "\n",
        "import scipy.stats as stats\n",
        "\n",
        "sample_mean = 4\n",
        "sample_std_dev = 1.5\n",
        "sample_size = 50\n",
        "confidence_level = 0.99\n",
        "\n",
        "margin_of_error = stats.t.ppf((1 + confidence_level) / 2, df=sample_size-1) * (sample_std_dev / (sample_size ** 0.5))\n",
        "lower_bound = sample_mean - margin_of_error\n",
        "upper_bound = sample_mean + margin_of_error\n",
        "\n",
        "print(\"99% Confidence Interval for Population Mean Number of Ads Watched:\", (lower_bound, upper_bound))\n"
      ],
      "metadata": {
        "colab": {
          "base_uri": "https://localhost:8080/"
        },
        "id": "fG7Ob9lTtcYJ",
        "outputId": "33e75261-11ad-4d83-e0b8-e756056739ad"
      },
      "execution_count": 13,
      "outputs": [
        {
          "output_type": "stream",
          "name": "stdout",
          "text": [
            "99% Confidence Interval for Population Mean Number of Ads Watched: (3.4314963358572577, 4.568503664142742)\n"
          ]
        }
      ]
    }
  ]
}