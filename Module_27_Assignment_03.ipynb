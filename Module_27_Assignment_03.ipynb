{
  "nbformat": 4,
  "nbformat_minor": 0,
  "metadata": {
    "colab": {
      "provenance": []
    },
    "kernelspec": {
      "name": "python3",
      "display_name": "Python 3"
    },
    "language_info": {
      "name": "python"
    }
  },
  "cells": [
    {
      "cell_type": "markdown",
      "source": [
        "**Q1. What is an ensemble technique in machine learning?**\n",
        "\n",
        "An ensemble technique in machine learning involves combining multiple individual models to create a stronger predictive model. This can be done by aggregating predictions from different models (e.g., averaging or taking a majority vote) or by training different models on different subsets of the data and combining their predictions.\n",
        "\n",
        "---\n",
        "\n",
        "**Q2. Why are ensemble techniques used in machine learning?**\n",
        "\n",
        "Ensemble techniques are used in machine learning because they often lead to better predictive performance compared to using a single model. By combining multiple models, ensemble methods can reduce overfitting, increase robustness, and capture different aspects of the data, leading to more accurate predictions.\n",
        "\n",
        "---\n",
        "\n",
        "**Q3. What is bagging?**\n",
        "Bagging (Bootstrap Aggregating) is an ensemble technique where multiple models are trained on different bootstrap samples of the training data (sampling with replacement) and their predictions are combined through averaging or voting. Bagging helps reduce variance and improve the stability and accuracy of the model.\n",
        "\n",
        "---\n",
        "\n",
        "**Q4. What is boosting?**\n",
        "\n",
        "Boosting is an ensemble technique where multiple weak learners (e.g., shallow decision trees) are trained sequentially, with each subsequent model focusing more on the instances that were misclassified by previous models. Boosting aims to improve the predictive performance of the model by combining the strengths of individual weak learners.\n",
        "\n",
        "---\n",
        "\n",
        "**Q5. What are the benefits of using ensemble techniques?**\n",
        "\n",
        "- Improved predictive performance\n",
        "- Reduction of overfitting\n",
        "- Increased model robustness\n",
        "- Ability to capture different aspects of the data\n",
        "- Generally applicable across various types of machine learning algorithms\n",
        "\n",
        "---\n",
        "\n",
        "**Q6. Are ensemble techniques always better than individual models?**\n",
        "\n",
        "Ensemble techniques are not always better than individual models. However, in many cases, ensemble methods can significantly improve predictive performance compared to using a single model, especially when the individual models are diverse and capture different aspects of the data.\n",
        "\n",
        "---\n",
        "\n",
        "**Q7. How is the confidence interval calculated using bootstrap?**\n",
        "\n",
        "The confidence interval using bootstrap is calculated by repeatedly resampling the original dataset with replacement to create multiple bootstrap samples. Then, the statistic of interest (e.g., mean, median) is calculated for each bootstrap sample. Finally, the confidence interval is constructed based on the distribution of the statistic across all bootstrap samples.\n",
        "\n",
        "---\n",
        "\n",
        "**Q8. How does bootstrap work and what are the steps involved in bootstrap?**\n",
        "\n",
        "Bootstrap is a resampling technique used for estimating the distribution of a statistic by repeatedly sampling from the observed data with replacement. The steps involved in bootstrap are:\n",
        "1. Randomly sample with replacement from the observed data to create bootstrap samples.\n",
        "2. Calculate the statistic of interest (e.g., mean, median) for each bootstrap sample.\n",
        "3. Repeat steps 1 and 2 a large number of times to obtain a distribution of the statistic.\n",
        "4. Construct the confidence interval using the percentile method or other appropriate methods.\n",
        "\n",
        "### Q9. Using bootstrap to estimate the 95% confidence interval for the population mean height:\n",
        "Given:\n",
        "- Sample mean height = 15 meters\n",
        "- Sample standard deviation = 2 meters\n",
        "- Sample size = 50 trees\n",
        "\n",
        "---"
      ],
      "metadata": {
        "id": "csRo3Nv_PhaE"
      }
    }
  ]
}