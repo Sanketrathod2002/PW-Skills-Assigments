{
  "nbformat": 4,
  "nbformat_minor": 0,
  "metadata": {
    "colab": {
      "provenance": []
    },
    "kernelspec": {
      "name": "python3",
      "display_name": "Python 3"
    },
    "language_info": {
      "name": "python"
    }
  },
  "cells": [
    {
      "cell_type": "markdown",
      "source": [
        "---\n",
        "#**Q1: Python function for calculating F-value and p-value for variance ratio test:**"
      ],
      "metadata": {
        "id": "nkcSr4VM2zxp"
      }
    },
    {
      "cell_type": "code",
      "source": [
        "from scipy.stats import f\n",
        "\n",
        "# Given sample variances\n",
        "variance1 = 25\n",
        "variance2 = 20\n",
        "\n",
        "# Sample sizes\n",
        "n1 = 10\n",
        "n2 = 15\n",
        "\n",
        "# Degrees of freedom\n",
        "df1 = n1 - 1\n",
        "df2 = n2 - 1\n",
        "\n",
        "# Calculate F-value\n",
        "f_value = variance1 / variance2\n",
        "print(\"F-value:\", f_value)\n",
        "\n",
        "# Calculate critical F-value\n",
        "alpha = 0.10\n",
        "crit_f_value = f.ppf(1 - alpha / 2, df1, df2)\n",
        "print(\"Critical F-value:\", crit_f_value)\n",
        "\n",
        "# Compare F-value with critical F-value\n",
        "if f_value > crit_f_value:\n",
        "    print(\"Reject null hypothesis: Variances are significantly different.\")\n",
        "else:\n",
        "    print(\"Fail to reject null hypothesis: Variances are not significantly different.\")\n"
      ],
      "metadata": {
        "colab": {
          "base_uri": "https://localhost:8080/"
        },
        "id": "smGTFhXp238d",
        "outputId": "67fe477b-0aaf-47b6-e60e-0bfc51a54944"
      },
      "execution_count": 10,
      "outputs": [
        {
          "output_type": "stream",
          "name": "stdout",
          "text": [
            "F-value: 1.25\n",
            "Critical F-value: 2.6457907352338195\n",
            "Fail to reject null hypothesis: Variances are not significantly different.\n"
          ]
        }
      ]
    },
    {
      "cell_type": "markdown",
      "source": [
        "---\n",
        "#**Q2: Python function to calculate critical F-value for a two-tailed test:**"
      ],
      "metadata": {
        "id": "7bYj9bRT27Ak"
      }
    },
    {
      "cell_type": "code",
      "source": [
        "from scipy.stats import f\n",
        "import numpy as np\n",
        "\n",
        "# Waiting times at two restaurants\n",
        "times_A = [24, 25, 28, 23, 22, 20, 27]\n",
        "times_B = [31, 33, 35, 30, 32, 36]\n",
        "\n",
        "# Sample variances\n",
        "variance_A = np.var(times_A, ddof=1)\n",
        "variance_B = np.var(times_B, ddof=1)\n",
        "\n",
        "# Sample sizes\n",
        "n1 = len(times_A)\n",
        "n2 = len(times_B)\n",
        "\n",
        "# Degrees of freedom\n",
        "df1 = n1 - 1\n",
        "df2 = n2 - 1\n",
        "\n",
        "# Calculate F-value\n",
        "f_value = variance_A / variance_B\n",
        "print(\"F-value:\", f_value)\n",
        "\n",
        "# Calculate critical F-value\n",
        "alpha = 0.05\n",
        "crit_f_value = f.ppf(1 - alpha / 2, df1, df2)\n",
        "print(\"Critical F-value:\", crit_f_value)\n",
        "\n",
        "# Compare F-value with critical F-value\n",
        "if f_value > crit_f_value:\n",
        "    print(\"Reject null hypothesis: Variances are significantly different.\")\n",
        "else:\n",
        "    print(\"Fail to reject null hypothesis: Variances are not significantly different.\")\n"
      ],
      "metadata": {
        "colab": {
          "base_uri": "https://localhost:8080/"
        },
        "id": "PFwTKEcj2-yO",
        "outputId": "c43990a2-8116-4dfa-9528-a85b2e4390be"
      },
      "execution_count": 11,
      "outputs": [
        {
          "output_type": "stream",
          "name": "stdout",
          "text": [
            "F-value: 1.4551907719609583\n",
            "Critical F-value: 6.977701858535566\n",
            "Fail to reject null hypothesis: Variances are not significantly different.\n"
          ]
        }
      ]
    },
    {
      "cell_type": "markdown",
      "source": [
        "---\n",
        "#**Q3: Python program to perform F-test for comparing variances of two normal distributions:**"
      ],
      "metadata": {
        "id": "9bkmklIV3DFO"
      }
    },
    {
      "cell_type": "code",
      "source": [
        "from scipy.stats import f\n",
        "import numpy as np\n",
        "\n",
        "# Test scores of two groups\n",
        "scores_A = [80, 85, 90, 92, 87, 83]\n",
        "scores_B = [75, 78, 82, 79, 81, 84]\n",
        "\n",
        "# Sample variances\n",
        "variance_A = np.var(scores_A, ddof=1)\n",
        "variance_B = np.var(scores_B, ddof=1)\n",
        "\n",
        "# Sample sizes\n",
        "n1 = len(scores_A)\n",
        "n2 = len(scores_B)\n",
        "\n",
        "# Degrees of freedom\n",
        "df1 = n1 - 1\n",
        "df2 = n2 - 1\n",
        "\n",
        "# Calculate F-value\n",
        "f_value = variance_A / variance_B\n",
        "print(\"F-value:\", f_value)\n",
        "\n",
        "# Calculate critical F-value\n",
        "alpha = 0.01\n",
        "crit_f_value = f.ppf(1 - alpha / 2, df1, df2)\n",
        "print(\"Critical F-value:\", crit_f_value)\n",
        "\n",
        "# Compare F-value with critical F-value\n",
        "if f_value > crit_f_value:\n",
        "    print(\"Reject null hypothesis: Variances are significantly different.\")\n",
        "else:\n",
        "    print(\"Fail to reject null hypothesis: Variances are not significantly different.\")\n"
      ],
      "metadata": {
        "colab": {
          "base_uri": "https://localhost:8080/"
        },
        "id": "4vTvMnQM3Htk",
        "outputId": "e273cbda-6b30-4842-dc45-9a94211eaece"
      },
      "execution_count": 12,
      "outputs": [
        {
          "output_type": "stream",
          "name": "stdout",
          "text": [
            "F-value: 1.9442622950819677\n",
            "Critical F-value: 14.939605459912224\n",
            "Fail to reject null hypothesis: Variances are not significantly different.\n"
          ]
        }
      ]
    },
    {
      "cell_type": "markdown",
      "source": [
        "---\n",
        "#**Q4: Conducting an F-test for the variances of two populations:**\n",
        "\n",
        "Given:\n",
        "- Population 1 variance = 10\n",
        "- Population 2 variance = 15\n",
        "- Sample size from each population = 12\n",
        "- Significance level = 0.05\n",
        "\n",
        "We'll use the F-test to determine if the variances are significantly different."
      ],
      "metadata": {
        "id": "d5H06Idd3Vl6"
      }
    },
    {
      "cell_type": "code",
      "source": [
        "from scipy.stats import f\n",
        "\n",
        "# Given variances\n",
        "variance1 = 10\n",
        "variance2 = 15\n",
        "\n",
        "# Sample sizes\n",
        "n1 = 12\n",
        "n2 = 12\n",
        "\n",
        "# Degrees of freedom\n",
        "df1 = n1 - 1\n",
        "df2 = n2 - 1\n",
        "\n",
        "# Calculate F-value\n",
        "f_value = variance1 / variance2\n",
        "\n",
        "# Calculate critical F-value\n",
        "alpha = 0.05\n",
        "crit_f_value = f.ppf(1 - alpha / 2, df1, df2)\n",
        "\n",
        "# Compare F-value with critical F-value\n",
        "if f_value > crit_f_value:\n",
        "    print(\"Reject null hypothesis: Variances are significantly different.\")\n",
        "else:\n",
        "    print(\"Fail to reject null hypothesis: Variances are not significantly different.\")"
      ],
      "metadata": {
        "colab": {
          "base_uri": "https://localhost:8080/"
        },
        "id": "UNhgWXn73Y0J",
        "outputId": "1c07e276-bc3c-41e3-80c9-195acf914169"
      },
      "execution_count": 5,
      "outputs": [
        {
          "output_type": "stream",
          "name": "stdout",
          "text": [
            "Fail to reject null hypothesis: Variances are not significantly different.\n"
          ]
        }
      ]
    },
    {
      "cell_type": "markdown",
      "source": [
        "---\n",
        "#**Q5: Conducting an F-test for a manufacturer's claim about variance:**\n",
        "\n",
        "Given:\n",
        "- Claimed variance = 0.005\n",
        "- Sample variance = 0.006\n",
        "- Sample size = 25\n",
        "- Significance level = 0.01\n",
        "\n",
        "We'll use the F-test to determine if the claim is justified."
      ],
      "metadata": {
        "id": "H1Uwckps3d2q"
      }
    },
    {
      "cell_type": "code",
      "source": [
        "from scipy.stats import f\n",
        "\n",
        "# Given variances\n",
        "claimed_variance = 0.005\n",
        "sample_variance = 0.006\n",
        "\n",
        "# Sample size\n",
        "n = 25\n",
        "\n",
        "# Degrees of freedom\n",
        "df1 = n - 1\n",
        "df2 = n - 1\n",
        "\n",
        "# Calculate F-value\n",
        "f_value = sample_variance / claimed_variance\n",
        "\n",
        "# Calculate critical F-value\n",
        "alpha = 0.01\n",
        "crit_f_value = f.ppf(1 - alpha / 2, df1, df2)\n",
        "\n",
        "# Compare F-value with critical F-value\n",
        "if f_value < crit_f_value:\n",
        "    print(\"Fail to reject null hypothesis: Claim is justified.\")\n",
        "else:\n",
        "    print(\"Reject null hypothesis: Claim is not justified.\")"
      ],
      "metadata": {
        "colab": {
          "base_uri": "https://localhost:8080/"
        },
        "id": "itKTaF4o3gxH",
        "outputId": "c5e38281-8a04-4ba6-caa3-3ec104b01251"
      },
      "execution_count": 6,
      "outputs": [
        {
          "output_type": "stream",
          "name": "stdout",
          "text": [
            "Fail to reject null hypothesis: Claim is justified.\n"
          ]
        }
      ]
    },
    {
      "cell_type": "markdown",
      "source": [
        "---\n",
        "#**Q6: Python function to calculate mean and variance of an F-distribution:**"
      ],
      "metadata": {
        "id": "225o50hJ3j50"
      }
    },
    {
      "cell_type": "code",
      "source": [
        "import numpy as np\n",
        "import matplotlib.pyplot as plt\n",
        "from scipy.stats import f\n",
        "\n",
        "# Define degrees of freedom\n",
        "dfn = 5  # Numerator degrees of freedom\n",
        "dfd = 10  # Denominator degrees of freedom\n",
        "\n",
        "# Generate x values for the plot\n",
        "x = np.linspace(0, 5, 1000)\n",
        "\n",
        "# Plot the F-distribution\n",
        "plt.plot(x, f.pdf(x, dfn, dfd), 'r-', label='F-distribution')\n",
        "\n",
        "# Shade the area corresponding to the F-statistic of 15\n",
        "x_shade = np.linspace(0, 15, 1000)\n",
        "plt.fill_between(x_shade, f.pdf(x_shade, dfn, dfd), color='blue', alpha=0.5, label='Shaded Area')\n",
        "\n",
        "# Add labels and title\n",
        "plt.xlabel('F-value')\n",
        "plt.ylabel('Probability Density')\n",
        "plt.title('F-distribution with dfn=5 and dfd=10')\n",
        "plt.legend()\n",
        "\n",
        "# Show the plot\n",
        "plt.grid(True)\n",
        "plt.show()\n"
      ],
      "metadata": {
        "colab": {
          "base_uri": "https://localhost:8080/",
          "height": 472
        },
        "id": "sDeEuQi03sjs",
        "outputId": "5efd1f92-17d8-4af1-c534-2fa8ce0d723a"
      },
      "execution_count": 13,
      "outputs": [
        {
          "output_type": "display_data",
          "data": {
            "text/plain": [
              "<Figure size 640x480 with 1 Axes>"
            ],
            "image/png": "[encoded data removed]"
          },
          "metadata": {}
        }
      ]
    },
    {
      "cell_type": "markdown",
      "source": [
        "---\n",
        "#**Q7: Conducting an F-test for two sample variances:**\n",
        "\n",
        "Given:\n",
        "- Sample variance of population 1 = 25\n",
        "- Sample variance of population 2 = 20\n",
        "- Sample sizes: n1 = 10, n2 = 15\n",
        "- Significance level = 0.10\n",
        "\n",
        "We'll perform an F-test to determine if the variances are significantly different."
      ],
      "metadata": {
        "id": "ADYbZwCN35WG"
      }
    },
    {
      "cell_type": "code",
      "source": [
        "from scipy.stats import f\n",
        "\n",
        "# Given sample variances\n",
        "variance1 = 25\n",
        "variance2 = 20\n",
        "\n",
        "# Sample sizes\n",
        "n1 = 10\n",
        "n2 = 15\n",
        "\n",
        "# Degrees of freedom\n",
        "df1 = n1 - 1\n",
        "df2 = n2 - 1\n",
        "\n",
        "# Calculate F-value\n",
        "f_value = variance1 / variance2\n",
        "\n",
        "# Calculate critical F-value\n",
        "alpha = 0.10\n",
        "crit_f_value = f.ppf(1 - alpha / 2, df1, df2)\n",
        "\n",
        "# Compare F-value with critical F-value\n",
        "if f_value > crit_f_value:\n",
        "    print(\"Reject null hypothesis: Variances are significantly different.\")\n",
        "else:\n",
        "    print(\"Fail to reject null hypothesis: Variances are not significantly different.\")"
      ],
      "metadata": {
        "colab": {
          "base_uri": "https://localhost:8080/"
        },
        "id": "eMlJVGYg4HwB",
        "outputId": "e80d24ed-b1c9-4447-b25f-c39c97ad5bda"
      },
      "execution_count": 1,
      "outputs": [
        {
          "output_type": "stream",
          "name": "stdout",
          "text": [
            "Fail to reject null hypothesis: Variances are not significantly different.\n"
          ]
        }
      ]
    },
    {
      "cell_type": "markdown",
      "source": [
        "---\n",
        "#**Q8: Conducting an F-test for waiting times at two restaurants:**\n",
        "\n",
        "Given:\n",
        "- Waiting times at Restaurant A: [24, 25, 28, 23, 22, 20, 27]\n",
        "- Waiting times at Restaurant B: [31, 33, 35, 30, 32, 36]\n",
        "- Significance level = 0.05\n",
        "\n",
        "We'll perform an F-test to determine if the variances are significantly different."
      ],
      "metadata": {
        "id": "um8jTHmk4IPi"
      }
    },
    {
      "cell_type": "code",
      "source": [
        "from scipy.stats import f\n",
        "\n",
        "# Waiting times at two restaurants\n",
        "times_A = [24, 25, 28, 23, 22, 20, 27]\n",
        "times_B = [31, 33, 35, 30, 32, 36]\n",
        "\n",
        "# Sample variances\n",
        "variance_A = np.var(times_A, ddof=1)\n",
        "variance_B = np.var(times_B, ddof=1)\n",
        "\n",
        "# Sample sizes\n",
        "n1 = len(times_A)\n",
        "n2 = len(times_B)\n",
        "\n",
        "# Degrees of freedom\n",
        "df1 = n1 - 1\n",
        "df2 = n2 - 1\n",
        "\n",
        "# Calculate F-value\n",
        "f_value = variance_A / variance_B\n",
        "\n",
        "# Calculate critical F-value\n",
        "alpha = 0.05\n",
        "crit_f_value = f.ppf(1 - alpha / 2, df1, df2)\n",
        "\n",
        "# Compare F-value with critical F-value\n",
        "if f_value > crit_f_value:\n",
        "    print(\"Reject null hypothesis: Variances are significantly different.\")\n",
        "else:\n",
        "    print(\"Fail to reject null hypothesis: Variances are not significantly different.\")"
      ],
      "metadata": {
        "colab": {
          "base_uri": "https://localhost:8080/"
        },
        "id": "Jrr7k_Je4LoW",
        "outputId": "18152941-3199-4706-8143-0e77d5fa5b24"
      },
      "execution_count": 8,
      "outputs": [
        {
          "output_type": "stream",
          "name": "stdout",
          "text": [
            "Fail to reject null hypothesis: Variances are not significantly different.\n"
          ]
        }
      ]
    },
    {
      "cell_type": "markdown",
      "source": [
        "\n",
        "---\n",
        "#**Q9: Conducting an F-test for test scores of two groups of students:**\n",
        "\n",
        "Given:\n",
        "- Test scores of Group A: [80, 85, 90, 92, 87, 83]\n",
        "- Test scores of Group B: [75, 78, 82, 79, 81, 84]\n",
        "- Significance level = 0.01\n",
        "\n",
        "We'll perform an F-test to determine if the variances are significantly different."
      ],
      "metadata": {
        "id": "lsOB3pC54RIm"
      }
    },
    {
      "cell_type": "code",
      "source": [
        "from scipy.stats import f\n",
        "\n",
        "# Test scores of two groups\n",
        "scores_A = [80, 85, 90, 92, 87, 83]\n",
        "scores_B = [75, 78, 82, 79, 81, 84]\n",
        "\n",
        "# Sample variances\n",
        "variance_A = np.var(scores_A, ddof=1)\n",
        "variance_B = np.var(scores_B, ddof=1)\n",
        "\n",
        "# Sample sizes\n",
        "n1 = len(scores_A)\n",
        "n2 = len(scores_B)\n",
        "\n",
        "# Degrees of freedom\n",
        "df1 = n1 - 1\n",
        "df2 = n2 - 1\n",
        "\n",
        "# Calculate F-value\n",
        "f_value = variance_A / variance_B\n",
        "\n",
        "# Calculate critical F-value\n",
        "alpha = 0.01\n",
        "crit_f_value = f.ppf(1 - alpha / 2, df1, df2)\n",
        "\n",
        "# Compare F-value with critical F-value\n",
        "if f_value > crit_f_value:\n",
        "    print(\"Reject null hypothesis: Variances are significantly different.\")\n",
        "else:\n",
        "    print(\"Fail to reject null hypothesis: Variances are not significantly different.\")"
      ],
      "metadata": {
        "colab": {
          "base_uri": "https://localhost:8080/"
        },
        "id": "Miv-AsEo4RZZ",
        "outputId": "3cac8eab-8dd3-44ab-e92f-7a094c88d13f"
      },
      "execution_count": 9,
      "outputs": [
        {
          "output_type": "stream",
          "name": "stdout",
          "text": [
            "Fail to reject null hypothesis: Variances are not significantly different.\n"
          ]
        }
      ]
    }
  ]
}