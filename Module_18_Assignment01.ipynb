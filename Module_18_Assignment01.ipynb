{
  "nbformat": 4,
  "nbformat_minor": 0,
  "metadata": {
    "colab": {
      "provenance": []
    },
    "kernelspec": {
      "name": "python3",
      "display_name": "Python 3"
    },
    "language_info": {
      "name": "python"
    }
  },
  "cells": [
    {
      "cell_type": "markdown",
      "source": [
        "---\n",
        "#**Q1. Is there any difference in the data type of variables list_ and array_list? If there is then write a code to print the data types of both the variables.**"
      ],
      "metadata": {
        "id": "zO1X47O8L6gN"
      }
    },
    {
      "cell_type": "code",
      "source": [
        "import numpy as np\n",
        "\n",
        "# Q1\n",
        "list_ = ['1', '2', '3', '4', '5']\n",
        "array_list = np.array(object=list_)\n",
        "print(\"Data type of list_:\", type(list_))\n",
        "print(\"Data type of array_list:\", type(array_list))\n",
        "---"
      ],
      "metadata": {
        "colab": {
          "base_uri": "https://localhost:8080/"
        },
        "id": "p5pwZy0hMNl4",
        "outputId": "72aac0c2-4159-4509-d6c0-12921338f928"
      },
      "execution_count": 1,
      "outputs": [
        {
          "output_type": "stream",
          "name": "stdout",
          "text": [
            "Data type of list_: <class 'list'>\n",
            "Data type of array_list: <class 'numpy.ndarray'>\n"
          ]
        }
      ]
    },
    {
      "cell_type": "markdown",
      "source": [
        "---\n",
        "#**Q2. Write a code to print the data type of each and every element of both the variables list_ and arra_list.**"
      ],
      "metadata": {
        "id": "bb0jNAgfMRgY"
      }
    },
    {
      "cell_type": "code",
      "source": [
        "# Q2\n",
        "for element in list_:\n",
        "    print(\"Data type of element in list_:\", type(element))\n",
        "for element in array_list:\n",
        "    print(\"Data type of element in array_list:\", type(element))\n",
        "    ---"
      ],
      "metadata": {
        "colab": {
          "base_uri": "https://localhost:8080/"
        },
        "id": "IBTNRiMQMi3o",
        "outputId": "03a3628d-f472-4818-8d77-0a6de0020a9c"
      },
      "execution_count": 2,
      "outputs": [
        {
          "output_type": "stream",
          "name": "stdout",
          "text": [
            "Data type of element in list_: <class 'str'>\n",
            "Data type of element in list_: <class 'str'>\n",
            "Data type of element in list_: <class 'str'>\n",
            "Data type of element in list_: <class 'str'>\n",
            "Data type of element in list_: <class 'str'>\n",
            "Data type of element in array_list: <class 'numpy.str_'>\n",
            "Data type of element in array_list: <class 'numpy.str_'>\n",
            "Data type of element in array_list: <class 'numpy.str_'>\n",
            "Data type of element in array_list: <class 'numpy.str_'>\n",
            "Data type of element in array_list: <class 'numpy.str_'>\n"
          ]
        }
      ]
    },
    {
      "cell_type": "markdown",
      "source": [
        "---\n",
        "#**Q3. Considering the following changes in the variable, array_list:**\n",
        "array_list = np.array(object = list_, dtype = int)"
      ],
      "metadata": {
        "id": "dvahsPY0MtWr"
      }
    },
    {
      "cell_type": "code",
      "source": [
        "# Q3\n",
        "array_list = np.array(object=list_, dtype=int)\n",
        "for element in list_:\n",
        "    print(\"Data type of element in list_ after conversion:\", type(element))\n",
        "for element in array_list:\n",
        "    print(\"Data type of element in array_list after conversion:\", type(element))"
      ],
      "metadata": {
        "colab": {
          "base_uri": "https://localhost:8080/"
        },
        "id": "6k2rMn6tM3DZ",
        "outputId": "2d06f8d9-9061-4a92-cc5f-820970b2803b"
      },
      "execution_count": 6,
      "outputs": [
        {
          "output_type": "stream",
          "name": "stdout",
          "text": [
            "Data type of element in list_ after conversion: <class 'str'>\n",
            "Data type of element in list_ after conversion: <class 'str'>\n",
            "Data type of element in list_ after conversion: <class 'str'>\n",
            "Data type of element in list_ after conversion: <class 'str'>\n",
            "Data type of element in list_ after conversion: <class 'str'>\n",
            "Data type of element in array_list after conversion: <class 'numpy.int64'>\n",
            "Data type of element in array_list after conversion: <class 'numpy.int64'>\n",
            "Data type of element in array_list after conversion: <class 'numpy.int64'>\n",
            "Data type of element in array_list after conversion: <class 'numpy.int64'>\n",
            "Data type of element in array_list after conversion: <class 'numpy.int64'>\n"
          ]
        }
      ]
    },
    {
      "cell_type": "markdown",
      "source": [
        "---\n",
        "#**Q4. Write a code to find the following characteristics of variable, num_array:**\n",
        "\n",
        "*   (i) shape\n",
        "*   (ii) size\n"
      ],
      "metadata": {
        "id": "sU0qaxk2NJpX"
      }
    },
    {
      "cell_type": "code",
      "source": [
        "# Q4\n",
        "num_list = [[1, 2, 3], [4, 5, 6]]\n",
        "num_array = np.array(object=num_list)\n",
        "print(\"Shape of num_array:\", num_array.shape)\n",
        "print(\"Size of num_array:\", num_array.size)"
      ],
      "metadata": {
        "colab": {
          "base_uri": "https://localhost:8080/"
        },
        "id": "dY28U77xN_NE",
        "outputId": "2ee6ef93-e3eb-450d-88fd-81c521a42066"
      },
      "execution_count": 7,
      "outputs": [
        {
          "output_type": "stream",
          "name": "stdout",
          "text": [
            "Shape of num_array: (2, 3)\n",
            "Size of num_array: 6\n"
          ]
        }
      ]
    },
    {
      "cell_type": "markdown",
      "source": [
        "---\n",
        "#**Q5. Write a code to create numpy array of 3*3 matrix containing zeros only, using a numpy array creation function.**"
      ],
      "metadata": {
        "id": "wvfu9RlhOD4x"
      }
    },
    {
      "cell_type": "code",
      "source": [
        "# Q5\n",
        "zeros_array = np.zeros((3, 3))\n",
        "print(\"Array of zeros:\\n\", zeros_array)"
      ],
      "metadata": {
        "colab": {
          "base_uri": "https://localhost:8080/"
        },
        "id": "k9oHUgm-OI9j",
        "outputId": "fafbeb03-5759-4b84-a113-35ad8be3a1e8"
      },
      "execution_count": 8,
      "outputs": [
        {
          "output_type": "stream",
          "name": "stdout",
          "text": [
            "Array of zeros:\n",
            " [[0. 0. 0.]\n",
            " [0. 0. 0.]\n",
            " [0. 0. 0.]]\n"
          ]
        }
      ]
    },
    {
      "cell_type": "markdown",
      "source": [
        "---\n",
        "#**Q6. Create an identity matrix of shape (5,5) using numpy functions?**"
      ],
      "metadata": {
        "id": "ad35hCqUOOKp"
      }
    },
    {
      "cell_type": "code",
      "source": [
        "# Q6\n",
        "identity_matrix = np.eye(5)\n",
        "print(\"Identity matrix:\\n\", identity_matrix)"
      ],
      "metadata": {
        "colab": {
          "base_uri": "https://localhost:8080/"
        },
        "id": "sH8h2FmBORI5",
        "outputId": "a3ed72f7-02c8-49e8-8d6c-857ea95ae1b4"
      },
      "execution_count": 9,
      "outputs": [
        {
          "output_type": "stream",
          "name": "stdout",
          "text": [
            "Identity matrix:\n",
            " [[1. 0. 0. 0. 0.]\n",
            " [0. 1. 0. 0. 0.]\n",
            " [0. 0. 1. 0. 0.]\n",
            " [0. 0. 0. 1. 0.]\n",
            " [0. 0. 0. 0. 1.]]\n"
          ]
        }
      ]
    }
  ]
}