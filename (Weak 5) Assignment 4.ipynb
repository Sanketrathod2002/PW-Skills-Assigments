{
 "cells": [
  {
   "cell_type": "code",
   "execution_count": 1,
   "id": "29c3aebe",
   "metadata": {},
   "outputs": [
    {
     "data": {
      "text/plain": [
       "'\\nQ1: What is multiprocessing in Python? Why is it useful?\\nMultiprocessing in Python:\\nMultiprocessing in Python refers to the ability to create and run multiple processes concurrently. Each process runs \\nindependently and has its own memory space, allowing for true parallelism. The multiprocessing module in Python provides \\nsupport for creating and managing multiple processes.\\n\\nUsefulness:\\nMultiprocessing is useful for parallelizing tasks, especially in CPU-bound operations. It enables programs to leverage \\nmultiple CPU cores, resulting in improved performance and faster execution times for tasks that can be divided into \\nparallel subtasks.\\n'"
      ]
     },
     "execution_count": 1,
     "metadata": {},
     "output_type": "execute_result"
    }
   ],
   "source": [
    "'''\n",
    "Q1: What is multiprocessing in Python? Why is it useful?\n",
    "Multiprocessing in Python:\n",
    "Multiprocessing in Python refers to the ability to create and run multiple processes concurrently. Each process runs \n",
    "independently and has its own memory space, allowing for true parallelism. The multiprocessing module in Python provides \n",
    "support for creating and managing multiple processes.\n",
    "\n",
    "Usefulness:\n",
    "Multiprocessing is useful for parallelizing tasks, especially in CPU-bound operations. It enables programs to leverage \n",
    "multiple CPU cores, resulting in improved performance and faster execution times for tasks that can be divided into \n",
    "parallel subtasks.\n",
    "'''"
   ]
  },
  {
   "cell_type": "code",
   "execution_count": 2,
   "id": "c18526fe",
   "metadata": {},
   "outputs": [
    {
     "data": {
      "text/plain": [
       "'\\nQ2: What are the differences between multiprocessing and multithreading?\\nDifferences:\\n\\nMemory Space:\\n\\nMultithreading: Threads share the same memory space within a process.\\nMultiprocessing: Processes have their own separate memory space.\\nParallelism:\\n\\nMultithreading: Python Global Interpreter Lock (GIL) allows only one thread to execute Python bytecode at a time, \\nlimiting true parallelism in CPU-bound tasks.\\nMultiprocessing: True parallelism is achieved as each process runs independently with its own interpreter and memory space.\\nConcurrency:\\n\\nMultithreading: Suitable for I/O-bound tasks where threads can wait for external operations.\\nMultiprocessing: Suitable for CPU-bound tasks that involve intensive computations.\\n'"
      ]
     },
     "execution_count": 2,
     "metadata": {},
     "output_type": "execute_result"
    }
   ],
   "source": [
    "'''\n",
    "Q2: What are the differences between multiprocessing and multithreading?\n",
    "Differences:\n",
    "\n",
    "Memory Space:\n",
    "\n",
    "Multithreading: Threads share the same memory space within a process.\n",
    "Multiprocessing: Processes have their own separate memory space.\n",
    "Parallelism:\n",
    "\n",
    "Multithreading: Python Global Interpreter Lock (GIL) allows only one thread to execute Python bytecode at a time, \n",
    "limiting true parallelism in CPU-bound tasks.\n",
    "Multiprocessing: True parallelism is achieved as each process runs independently with its own interpreter and memory space.\n",
    "Concurrency:\n",
    "\n",
    "Multithreading: Suitable for I/O-bound tasks where threads can wait for external operations.\n",
    "Multiprocessing: Suitable for CPU-bound tasks that involve intensive computations.\n",
    "'''"
   ]
  },
  {
   "cell_type": "code",
   "execution_count": 3,
   "id": "3f7aed4d",
   "metadata": {},
   "outputs": [],
   "source": [
    "'''Q3: Write a Python code to create a process using the multiprocessing module.'''\n",
    "\n",
    "# Program :\n",
    "\n",
    "import multiprocessing\n",
    "\n",
    "def print_number(number):\n",
    "    print(f\"Process {number}: {number}\")\n",
    "\n",
    "if __name__ == \"__main__\":\n",
    "    for i in range(4):\n",
    "        process = multiprocessing.Process(target=print_number, args=(i,))\n",
    "        process.start()\n",
    "        process.join()\n"
   ]
  },
  {
   "cell_type": "code",
   "execution_count": 4,
   "id": "03a67032",
   "metadata": {},
   "outputs": [
    {
     "data": {
      "text/plain": [
       "'\\nQ4: What is a multiprocessing pool in Python? Why is it used?\\nMultiprocessing Pool in Python:\\nA multiprocessing pool is a way to distribute the execution of a function across multiple processes. It creates a pool\\nof worker processes that can execute tasks concurrently. The Pool class in the multiprocessing module provides a convenient\\ninterface for parallelizing functions.\\n\\nUsefulness:\\nA multiprocessing pool is used to parallelize the execution of a function across a specified number of processes, \\nallowing for efficient distribution of workload and improved performance in certain scenarios.\\n'"
      ]
     },
     "execution_count": 4,
     "metadata": {},
     "output_type": "execute_result"
    }
   ],
   "source": [
    "'''\n",
    "Q4: What is a multiprocessing pool in Python? Why is it used?\n",
    "Multiprocessing Pool in Python:\n",
    "A multiprocessing pool is a way to distribute the execution of a function across multiple processes. It creates a pool\n",
    "of worker processes that can execute tasks concurrently. The Pool class in the multiprocessing module provides a convenient\n",
    "interface for parallelizing functions.\n",
    "\n",
    "Usefulness:\n",
    "A multiprocessing pool is used to parallelize the execution of a function across a specified number of processes, \n",
    "allowing for efficient distribution of workload and improved performance in certain scenarios.\n",
    "'''"
   ]
  },
  {
   "cell_type": "code",
   "execution_count": null,
   "id": "885d6b9c",
   "metadata": {},
   "outputs": [],
   "source": [
    "'''Q5: How can we create a pool of worker processes in Python using the multiprocessing module?'''\n",
    "\n",
    "# Program :\n",
    "\n",
    "import multiprocessing\n",
    "\n",
    "def print_number(number):\n",
    "    print(f\"Process {number}: {number}\")\n",
    "\n",
    "if __name__ == \"__main__\":\n",
    "    with multiprocessing.Pool(processes=4) as pool:\n",
    "        pool.map(print_number, range(4))\n"
   ]
  },
  {
   "cell_type": "code",
   "execution_count": null,
   "id": "256fee6c",
   "metadata": {},
   "outputs": [],
   "source": [
    "'''\n",
    "Q6: Write a Python program to create 4 processes, each process should print a different number using the \n",
    "multiprocessing module in Python.\n",
    "'''\n",
    "\n",
    "# Program :\n",
    "\n",
    "import multiprocessing\n",
    "\n",
    "def print_number(number):\n",
    "    print(f\"Process {number}: {number}\")\n",
    "\n",
    "if __name__ == \"__main__\":\n",
    "    processes = []\n",
    "    for i in range(4):\n",
    "        process = multiprocessing.Process(target=print_number, args=(i,))\n",
    "        processes.append(process)\n",
    "        process.start()\n",
    "\n",
    "    for process in processes:\n",
    "        process.join()\n"
   ]
  }
 ],
 "metadata": {
  "kernelspec": {
   "display_name": "Python 3 (ipykernel)",
   "language": "python",
   "name": "python3"
  },
  "language_info": {
   "codemirror_mode": {
    "name": "ipython",
    "version": 3
   },
   "file_extension": ".py",
   "mimetype": "text/x-python",
   "name": "python",
   "nbconvert_exporter": "python",
   "pygments_lexer": "ipython3",
   "version": "3.10.9"
  }
 },
 "nbformat": 4,
 "nbformat_minor": 5
}
