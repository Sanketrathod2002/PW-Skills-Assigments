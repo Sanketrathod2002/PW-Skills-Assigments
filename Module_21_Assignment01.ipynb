{
  "nbformat": 4,
  "nbformat_minor": 0,
  "metadata": {
    "colab": {
      "provenance": []
    },
    "kernelspec": {
      "name": "python3",
      "display_name": "Python 3"
    },
    "language_info": {
      "name": "python"
    }
  },
  "cells": [
    {
      "cell_type": "markdown",
      "source": [
        "---\n",
        "#**Q1: What is the difference between a t-test and a z-test? Provide an example scenario where you would use each type of test.**\n",
        "\n",
        "- **T-test:** A t-test is used when the sample size is small (typically less than 30) or when the population standard deviation is unknown. It compares the means of two samples to determine if they are significantly different from each other.\n",
        "  Example: Comparing the exam scores of two groups of students (one group taught with method A and another with method B).\n",
        "\n",
        "- **Z-test:** A z-test is used when the sample size is large (typically greater than 30) and the population standard deviation is known. It compares a sample mean to a population mean to determine if there is a significant difference.\n",
        "  Example: Testing whether the average height of a sample of individuals is significantly different from the population average height.\n",
        "\n",
        "---\n",
        "#**Q2: Differentiate between one-tailed and two-tailed tests.**\n",
        "\n",
        "- **One-tailed test:** A one-tailed test is used when the direction of the difference or effect is specified before conducting the test. It examines if the sample statistic falls significantly above or below a specified value in a single direction.\n",
        "- **Two-tailed test:** A two-tailed test is used when the direction of the difference or effect is not specified before conducting the test. It examines if the sample statistic falls significantly different from a specified value in either direction.\n",
        "\n",
        "---\n",
        "#**Q3: Explain the concept of Type 1 and Type 2 errors in hypothesis testing. Provide an example scenario for each type of error.**\n",
        "\n",
        "- **Type 1 error:** Type 1 error occurs when the null hypothesis is rejected when it is actually true. It represents a false positive result.\n",
        "  Example: Concluding that a new drug is effective (rejecting the null hypothesis) when it actually has no effect.\n",
        "\n",
        "- **Type 2 error:** Type 2 error occurs when the null hypothesis is not rejected when it is actually false. It represents a false negative result.\n",
        "  Example: Failing to conclude that a new drug is effective (not rejecting the null hypothesis) when it actually has a positive effect.\n",
        "\n",
        "---\n",
        "#**Q4: Explain Bayes's theorem with an example.**\n",
        "\n",
        "Bayes's theorem calculates the probability of an event occurring given prior knowledge of conditions related to the event. It is expressed as:\n",
        "\\[ P(A|B) = \\frac{P(B|A) \\times P(A)}{P(B)} \\]\n",
        "Where:\n",
        "- \\( P(A|B) \\) is the probability of event A given that event B has occurred.\n",
        "- \\( P(B|A) \\) is the probability of event B given that event A has occurred.\n",
        "- \\( P(A) \\) and \\( P(B) \\) are the probabilities of events A and B, respectively.\n",
        "\n",
        "Example: Suppose we want to find the probability of a person having a certain disease given that they test positive. Let:\n",
        "- \\( P(D) \\) be the probability of having the disease.\n",
        "- \\( P(Pos|D) \\) be the probability of testing positive given that the person has the disease.\n",
        "- \\( P(Pos) \\) be the probability of testing positive.\n",
        "\n",
        "---\n",
        "#**Q5: What is a confidence interval? How to calculate the confidence interval, explain with an example.**\n",
        "\n",
        "A confidence interval is a range of values that is likely to contain the true population parameter with a certain level of confidence. It is calculated using sample statistics and takes into account the variability in the data.\n",
        "\n",
        "Example: Calculating a 95% confidence interval for the population mean weight of apples in a basket, given a sample mean weight of 150 grams and a sample standard deviation of 10 grams.\n",
        "\n",
        "---\n",
        "#**Q6. Use Bayes' Theorem to calculate the probability of an event occurring given prior knowledge of the event's probability and new evidence. Provide a sample problem and solution.**\n",
        "\n",
        "Example: Suppose a test for a certain disease is 99% accurate. If 1% of the population has the disease, what is the probability that a person has the disease given that they test positive?\n",
        "\n",
        "---\n",
        "#**Q7. Calculate the 95% confidence interval for a sample of data with a mean of 50 and a standard deviation of 5. Interpret the results.**\n",
        "\n",
        "A 95% confidence interval for the population mean is calculated as \\(\\bar{x} \\pm (1.96 \\times \\frac{\\sigma}{\\sqrt{n}})\\), where \\(\\bar{x}\\) is the sample mean, \\(\\sigma\\) is the population standard deviation, and \\(n\\) is the sample size.\n"
      ],
      "metadata": {
        "id": "4KUkL9ScvMV_"
      }
    },
    {
      "cell_type": "code",
      "source": [
        "sample_mean = 50\n",
        "std_dev = 5\n",
        "sample_size = 100\n",
        "\n",
        "margin_of_error = 1.96 * (std_dev / (sample_size ** 0.5))\n",
        "lower_bound = sample_mean - margin_of_error\n",
        "upper_bound = sample_mean + margin_of_error\n",
        "\n",
        "print(\"95% Confidence Interval:\", (lower_bound, upper_bound))"
      ],
      "metadata": {
        "colab": {
          "base_uri": "https://localhost:8080/"
        },
        "id": "5ltuBu9TvilB",
        "outputId": "bf5af350-ec06-4d0d-b51e-a61bb252d8a1"
      },
      "execution_count": 4,
      "outputs": [
        {
          "output_type": "stream",
          "name": "stdout",
          "text": [
            "95% Confidence Interval: (49.02, 50.98)\n"
          ]
        }
      ]
    },
    {
      "cell_type": "markdown",
      "source": [
        "---\n",
        "#**Q8. What is the margin of error in a confidence interval? How does sample size affect the margin of error? Provide an example of a scenario where a larger sample size would result in a smaller margin of error.**\n",
        "\n",
        "The margin of error in a confidence interval is the range of values above and below the sample statistic within which the true population parameter is likely to fall. It is influenced by the confidence level and the variability of the data.\n",
        "\n",
        "Sample size affects the margin of error inversely proportional to the square root of the sample size. In other words, as the sample size increases, the margin of error decreases. This is because a larger sample size provides more information and reduces sampling variability.\n",
        "\n",
        "Example: Suppose you want to estimate the average height of students in a school. With a small sample size of 20 students, the margin of error might be relatively large, say ±5 inches. However, if you increase the sample size to 200 students, the margin of error would decrease, perhaps to ±1 inch, providing a more precise estimate of the population mean height.\n",
        "\n",
        "---\n",
        "#**Q9. Calculate the z-score for a data point with a value of 75, a population mean of 70, and a population standard deviation of 5. Interpret the results.**\n",
        "\n",
        "The z-score formula is:\n",
        "\\[ z = \\frac{x - \\mu}{\\sigma} \\]\n",
        "where \\( x \\) is the data point value, \\( \\mu \\) is the population mean, and \\( \\sigma \\) is the population standard deviation.\n",
        "\n",
        "Given:\n",
        "- \\( x = 75 \\)\n",
        "- \\( \\mu = 70 \\)\n",
        "- \\( \\sigma = 5 \\)\n",
        "\n",
        "\\[ z = \\frac{75 - 70}{5} = 1 \\]\n",
        "\n",
        "Interpretation: The data point value of 75 is 1 standard deviation above the mean.\n",
        "\n",
        "---\n",
        "#**Q10. In a study of the effectiveness of a new weight loss drug, a sample of 50 participants lost an average of 6 pounds with a standard deviation of 2.5 pounds. Conduct a hypothesis test to determine if the drug is significantly effective at a 95% confidence level using a t-test.**"
      ],
      "metadata": {
        "id": "jqibtjK_vmYE"
      }
    },
    {
      "cell_type": "code",
      "source": [
        "import scipy.stats as stats\n",
        "\n",
        "sample_mean = 6\n",
        "population_mean = 0  # Null hypothesis: The drug is not effective (no weight loss)\n",
        "sample_std_dev = 2.5\n",
        "sample_size = 50\n",
        "confidence_level = 0.95\n",
        "\n",
        "t_statistic = (sample_mean - population_mean) / (sample_std_dev / (sample_size ** 0.5))\n",
        "p_value = stats.t.sf(abs(t_statistic), df=sample_size-1) * 2\n",
        "\n",
        "if p_value < (1 - confidence_level):\n",
        "    print(\"Reject null hypothesis: The weight loss drug is significantly effective.\")\n",
        "else:\n",
        "    print(\"Fail to reject null hypothesis: There is no evidence to suggest that the weight loss drug is effective.\")"
      ],
      "metadata": {
        "colab": {
          "base_uri": "https://localhost:8080/"
        },
        "id": "ZzLJ7u2uvjNv",
        "outputId": "504b8b6d-d5ed-45c9-a00a-1e70294cdccf"
      },
      "execution_count": 5,
      "outputs": [
        {
          "output_type": "stream",
          "name": "stdout",
          "text": [
            "Reject null hypothesis: The weight loss drug is significantly effective.\n"
          ]
        }
      ]
    },
    {
      "cell_type": "markdown",
      "source": [
        "---\n",
        "#**Q11. In a survey of 500 people, 65% reported being satisfied with their current job. Calculate the 95% confidence interval for the true proportion of people who are satisfied with their job.**\n"
      ],
      "metadata": {
        "id": "f8nTdk-FwDot"
      }
    },
    {
      "cell_type": "code",
      "source": [
        "import statsmodels.stats.proportion as proportion\n",
        "\n",
        "sample_proportion = 0.65\n",
        "sample_size = 500\n",
        "confidence_level = 0.95\n",
        "\n",
        "conf_interval = proportion.proportion_confint(sample_proportion * sample_size, sample_size, alpha=(1 - confidence_level))\n",
        "\n",
        "print(\"95% Confidence Interval for Proportion of Satisfied People:\", conf_interval)"
      ],
      "metadata": {
        "colab": {
          "base_uri": "https://localhost:8080/"
        },
        "id": "c_RthwjfwDA3",
        "outputId": "83365b6d-5dcc-48b7-fd0f-76197bf8346f"
      },
      "execution_count": 6,
      "outputs": [
        {
          "output_type": "stream",
          "name": "stdout",
          "text": [
            "95% Confidence Interval for Proportion of Satisfied People: (0.6081925393809212, 0.6918074606190788)\n"
          ]
        }
      ]
    },
    {
      "cell_type": "markdown",
      "source": [
        "---\n",
        "#**Q12. A researcher is testing the effectiveness of two different teaching methods on student performance. Sample A has a mean score of 85 with a standard deviation of 6, while sample B has a mean score of 82 with a standard deviation of 5. Conduct a hypothesis test to determine if the two teaching methods have a significant difference in student performance using a t-test with a significance level of 0.01.**"
      ],
      "metadata": {
        "id": "EAMvyQvdwRy0"
      }
    },
    {
      "cell_type": "code",
      "source": [
        "import scipy.stats as stats\n",
        "\n",
        "mean_A = 85\n",
        "std_dev_A = 6\n",
        "n_A = 30\n",
        "mean_B = 82\n",
        "std_dev_B = 5\n",
        "n_B = 30\n",
        "confidence_level = 0.01\n",
        "\n",
        "t_statistic = (mean_A - mean_B) / ((std_dev_A**2 / n_A) + (std_dev_B**2 / n_B))**0.5\n",
        "p_value = stats.t.sf(abs(t_statistic), df=min(n_A, n_B)-1) * 2\n",
        "\n",
        "if p_value < (1 - confidence_level):\n",
        "    print(\"Reject null hypothesis: There is a significant difference in student performance between the two teaching methods.\")\n",
        "else:\n",
        "    print(\"Fail to reject null hypothesis: There is no significant difference in student performance between the two teaching methods.\")"
      ],
      "metadata": {
        "colab": {
          "base_uri": "https://localhost:8080/"
        },
        "id": "-2aPHaLSwV1D",
        "outputId": "578960b0-405a-4aed-be2c-955730496120"
      },
      "execution_count": 7,
      "outputs": [
        {
          "output_type": "stream",
          "name": "stdout",
          "text": [
            "Reject null hypothesis: There is a significant difference in student performance between the two teaching methods.\n"
          ]
        }
      ]
    },
    {
      "cell_type": "markdown",
      "source": [
        "---\n",
        "#**Q13. A population has a mean of 60 and a standard deviation of 8. A sample of 50 observations has a mean of 65. Calculate the 90% confidence interval for the true population mean.**\n"
      ],
      "metadata": {
        "id": "s9DcB7NVwaMJ"
      }
    },
    {
      "cell_type": "code",
      "source": [
        "import scipy.stats as stats\n",
        "\n",
        "sample_mean = 65\n",
        "population_std_dev = 8\n",
        "sample_size = 50\n",
        "confidence_level = 0.90\n",
        "\n",
        "margin_of_error = stats.norm.ppf((1 + confidence_level) / 2) * (population_std_dev / (sample_size**0.5))\n",
        "lower_bound = sample_mean - margin_of_error\n",
        "upper_bound = sample_mean + margin_of_error\n",
        "\n",
        "print(\"90% Confidence Interval for Population Mean:\", (lower_bound, upper_bound))"
      ],
      "metadata": {
        "colab": {
          "base_uri": "https://localhost:8080/"
        },
        "id": "ymumUyw1wdD7",
        "outputId": "52224fb7-47cc-4d75-f598-1585940b4415"
      },
      "execution_count": 8,
      "outputs": [
        {
          "output_type": "stream",
          "name": "stdout",
          "text": [
            "90% Confidence Interval for Population Mean: (63.13906055411732, 66.86093944588268)\n"
          ]
        }
      ]
    },
    {
      "cell_type": "markdown",
      "source": [
        "---\n",
        "#**Q14. In a study of the effects of caffeine on reaction time, a sample of 30 participants had an average reaction time of 0.25 seconds with a standard deviation of 0.05 seconds. Conduct a hypothesis test to determine if the caffeine has a significant effect on reaction time at a 90% confidence level using a t-test.**"
      ],
      "metadata": {
        "id": "F49eLHctwp-J"
      }
    },
    {
      "cell_type": "code",
      "source": [
        "import scipy.stats as stats\n",
        "\n",
        "# Given data\n",
        "sample_mean = 0.25\n",
        "population_mean = 0  # Null hypothesis: Caffeine has no effect on reaction time\n",
        "sample_std_dev = 0.05\n",
        "sample_size = 30\n",
        "confidence_level = 0.90\n",
        "\n",
        "# Step 3: Calculate the t-statistic\n",
        "t_statistic = (sample_mean - population_mean) / (sample_std_dev / (sample_size ** 0.5))\n",
        "\n",
        "# Step 4: Determine the degrees of freedom\n",
        "degrees_of_freedom = sample_size - 1\n",
        "\n",
        "# Step 5: Find the critical t-value\n",
        "alpha = 1 - confidence_level\n",
        "critical_t_value = stats.t.ppf(1 - alpha/2, df=degrees_of_freedom)  # for a two-tailed test\n",
        "\n",
        "# Step 6: Compare the t-statistic with the critical t-value\n",
        "if abs(t_statistic) > critical_t_value:\n",
        "    print(\"Reject the null hypothesis: Caffeine has a significant effect on reaction time.\")\n",
        "else:\n",
        "    print(\"Fail to reject the null hypothesis: There is no significant effect of caffeine on reaction time.\")\n"
      ],
      "metadata": {
        "colab": {
          "base_uri": "https://localhost:8080/"
        },
        "id": "oUUFRuQpwv7L",
        "outputId": "21ffb016-ccb0-4cf9-cd57-0ef95b843368"
      },
      "execution_count": 9,
      "outputs": [
        {
          "output_type": "stream",
          "name": "stdout",
          "text": [
            "Reject the null hypothesis: Caffeine has a significant effect on reaction time.\n"
          ]
        }
      ]
    }
  ]
}